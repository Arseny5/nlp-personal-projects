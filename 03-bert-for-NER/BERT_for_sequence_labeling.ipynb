{
 "cells": [
  {
   "cell_type": "markdown",
   "metadata": {
    "id": "X4cRE8IbIrIV"
   },
   "source": [
    "# NLP Projects: 03 - Name Entity Recognition with Russian Drug Reaction Corpus"
   ]
  },
  {
   "cell_type": "code",
   "execution_count": 1,
   "metadata": {
    "colab": {
     "base_uri": "https://localhost:8080/"
    },
    "id": "aFigps3sAZaV",
    "outputId": "750643db-6941-4537-8094-cdc863b7a3f1"
   },
   "outputs": [
    {
     "name": "stdout",
     "output_type": "stream",
     "text": [
      "\u001b[33mWARNING: Ignoring invalid distribution -orch (/home/jovyan/.imgenv-ars-100-2-80gb-0/lib/python3.7/site-packages)\u001b[0m\n",
      "\u001b[33mWARNING: Ignoring invalid distribution -illow (/home/jovyan/.imgenv-ars-100-2-80gb-0/lib/python3.7/site-packages)\u001b[0m\n",
      "\u001b[33mWARNING: Ignoring invalid distribution -orch (/home/jovyan/.imgenv-ars-100-2-80gb-0/lib/python3.7/site-packages)\u001b[0m\n",
      "\u001b[33mWARNING: Ignoring invalid distribution -illow (/home/jovyan/.imgenv-ars-100-2-80gb-0/lib/python3.7/site-packages)\u001b[0m\n",
      "Collecting Partial\n",
      "  Downloading partial-1.0.tar.gz (1.5 kB)\n",
      "  Preparing metadata (setup.py) ... \u001b[?25ldone\n",
      "\u001b[?25hCollecting State\n",
      "  Downloading state-0.1.1dev.zip (2.9 kB)\n",
      "  Preparing metadata (setup.py) ... \u001b[?25ldone\n",
      "\u001b[?25hBuilding wheels for collected packages: Partial, State\n",
      "  Building wheel for Partial (setup.py) ... \u001b[?25ldone\n",
      "\u001b[?25h  Created wheel for Partial: filename=partial-1.0-py3-none-any.whl size=1888 sha256=e1dbbc56440d2bb58d233ad42b611156dcc49c880189226ced4304222431edcb\n",
      "  Stored in directory: /home/jovyan/.cache/pip/wheels/9c/35/5e/9733a2210f6daf251fa7a12a01ae7b44225c8adc2d8d68f7c0\n",
      "  Building wheel for State (setup.py) ... \u001b[?25ldone\n",
      "\u001b[?25h  Created wheel for State: filename=state-0.1.1.dev0-py3-none-any.whl size=1991 sha256=c88b16b4e18d70b944f653def64d196de4add01269d9a7b9ef8d57fe63bd05d7\n",
      "  Stored in directory: /home/jovyan/.cache/pip/wheels/05/15/c1/eb3b661ad468c379f6b43a61dc0af9a72b601d4ae643080c91\n",
      "Successfully built Partial State\n",
      "\u001b[33mWARNING: Ignoring invalid distribution -orch (/home/jovyan/.imgenv-ars-100-2-80gb-0/lib/python3.7/site-packages)\u001b[0m\n",
      "\u001b[33mWARNING: Ignoring invalid distribution -illow (/home/jovyan/.imgenv-ars-100-2-80gb-0/lib/python3.7/site-packages)\u001b[0m\n",
      "Installing collected packages: State, Partial\n",
      "\u001b[33mWARNING: Ignoring invalid distribution -orch (/home/jovyan/.imgenv-ars-100-2-80gb-0/lib/python3.7/site-packages)\u001b[0m\n",
      "\u001b[33mWARNING: Ignoring invalid distribution -illow (/home/jovyan/.imgenv-ars-100-2-80gb-0/lib/python3.7/site-packages)\u001b[0m\n",
      "\u001b[33mWARNING: Ignoring invalid distribution -orch (/home/jovyan/.imgenv-ars-100-2-80gb-0/lib/python3.7/site-packages)\u001b[0m\n",
      "\u001b[33mWARNING: Ignoring invalid distribution -illow (/home/jovyan/.imgenv-ars-100-2-80gb-0/lib/python3.7/site-packages)\u001b[0m\n",
      "Successfully installed Partial-1.0 State-0.1.1.dev0\n",
      "\u001b[33mWARNING: Ignoring invalid distribution -orch (/home/jovyan/.imgenv-ars-100-2-80gb-0/lib/python3.7/site-packages)\u001b[0m\n",
      "\u001b[33mWARNING: Ignoring invalid distribution -illow (/home/jovyan/.imgenv-ars-100-2-80gb-0/lib/python3.7/site-packages)\u001b[0m\n",
      "\u001b[33mWARNING: Ignoring invalid distribution -orch (/home/jovyan/.imgenv-ars-100-2-80gb-0/lib/python3.7/site-packages)\u001b[0m\n",
      "\u001b[33mWARNING: Ignoring invalid distribution -illow (/home/jovyan/.imgenv-ars-100-2-80gb-0/lib/python3.7/site-packages)\u001b[0m\n",
      "\u001b[33mWARNING: Ignoring invalid distribution -orch (/home/jovyan/.imgenv-ars-100-2-80gb-0/lib/python3.7/site-packages)\u001b[0m\n",
      "\u001b[33mWARNING: Ignoring invalid distribution -illow (/home/jovyan/.imgenv-ars-100-2-80gb-0/lib/python3.7/site-packages)\u001b[0m\n"
     ]
    }
   ],
   "source": [
    "!pip install Partial State"
   ]
  },
  {
   "cell_type": "code",
   "execution_count": 2,
   "metadata": {
    "colab": {
     "base_uri": "https://localhost:8080/"
    },
    "id": "tg5dOersZE-j",
    "outputId": "effed87c-f9fd-458c-ca71-de30f9122588"
   },
   "outputs": [
    {
     "name": "stdout",
     "output_type": "stream",
     "text": [
      "\u001b[33mWARNING: Ignoring invalid distribution -orch (/home/jovyan/.imgenv-ars-100-2-80gb-0/lib/python3.7/site-packages)\u001b[0m\n",
      "\u001b[33mWARNING: Ignoring invalid distribution -illow (/home/jovyan/.imgenv-ars-100-2-80gb-0/lib/python3.7/site-packages)\u001b[0m\n",
      "\u001b[33mWARNING: Ignoring invalid distribution -orch (/home/jovyan/.imgenv-ars-100-2-80gb-0/lib/python3.7/site-packages)\u001b[0m\n",
      "\u001b[33mWARNING: Ignoring invalid distribution -illow (/home/jovyan/.imgenv-ars-100-2-80gb-0/lib/python3.7/site-packages)\u001b[0m\n",
      "Requirement already satisfied: accelerate in /home/jovyan/.imgenv-ars-100-2-80gb-0/lib/python3.7/site-packages (0.20.3)\n",
      "Requirement already satisfied: packaging>=20.0 in /home/user/conda/lib/python3.7/site-packages (from accelerate) (21.3)\n",
      "Requirement already satisfied: pyyaml in /home/jovyan/.imgenv-ars-100-2-80gb-0/lib/python3.7/site-packages (from accelerate) (5.4.1)\n",
      "Requirement already satisfied: torch>=1.6.0 in /home/jovyan/.imgenv-ars-100-2-80gb-0/lib/python3.7/site-packages (from accelerate) (1.13.1)\n",
      "Requirement already satisfied: psutil in /home/user/conda/lib/python3.7/site-packages (from accelerate) (5.9.0)\n",
      "Requirement already satisfied: numpy>=1.17 in /home/user/conda/lib/python3.7/site-packages (from accelerate) (1.21.5)\n",
      "Requirement already satisfied: pyparsing!=3.0.5,>=2.0.2 in /home/user/conda/lib/python3.7/site-packages (from packaging>=20.0->accelerate) (3.0.7)\n",
      "Requirement already satisfied: nvidia-cuda-nvrtc-cu11==11.7.99 in /home/jovyan/.imgenv-ars-100-2-80gb-0/lib/python3.7/site-packages (from torch>=1.6.0->accelerate) (11.7.99)\n",
      "Requirement already satisfied: nvidia-cublas-cu11==11.10.3.66 in /home/jovyan/.imgenv-ars-100-2-80gb-0/lib/python3.7/site-packages (from torch>=1.6.0->accelerate) (11.10.3.66)\n",
      "Requirement already satisfied: nvidia-cudnn-cu11==8.5.0.96 in /home/jovyan/.imgenv-ars-100-2-80gb-0/lib/python3.7/site-packages (from torch>=1.6.0->accelerate) (8.5.0.96)\n",
      "Requirement already satisfied: typing-extensions in /home/jovyan/.imgenv-ars-100-2-80gb-0/lib/python3.7/site-packages (from torch>=1.6.0->accelerate) (4.7.1)\n",
      "Requirement already satisfied: nvidia-cuda-runtime-cu11==11.7.99 in /home/jovyan/.imgenv-ars-100-2-80gb-0/lib/python3.7/site-packages (from torch>=1.6.0->accelerate) (11.7.99)\n",
      "Requirement already satisfied: wheel in /home/jovyan/.imgenv-ars-100-2-80gb-0/lib/python3.7/site-packages (from nvidia-cublas-cu11==11.10.3.66->torch>=1.6.0->accelerate) (0.37.1)\n",
      "Requirement already satisfied: setuptools in /home/user/conda/lib/python3.7/site-packages (from nvidia-cublas-cu11==11.10.3.66->torch>=1.6.0->accelerate) (60.5.0)\n",
      "\u001b[33mWARNING: Ignoring invalid distribution -orch (/home/jovyan/.imgenv-ars-100-2-80gb-0/lib/python3.7/site-packages)\u001b[0m\n",
      "\u001b[33mWARNING: Ignoring invalid distribution -illow (/home/jovyan/.imgenv-ars-100-2-80gb-0/lib/python3.7/site-packages)\u001b[0m\n",
      "\u001b[33mWARNING: Ignoring invalid distribution -orch (/home/jovyan/.imgenv-ars-100-2-80gb-0/lib/python3.7/site-packages)\u001b[0m\n",
      "\u001b[33mWARNING: Ignoring invalid distribution -illow (/home/jovyan/.imgenv-ars-100-2-80gb-0/lib/python3.7/site-packages)\u001b[0m\n",
      "\u001b[33mWARNING: Ignoring invalid distribution -orch (/home/jovyan/.imgenv-ars-100-2-80gb-0/lib/python3.7/site-packages)\u001b[0m\n",
      "\u001b[33mWARNING: Ignoring invalid distribution -illow (/home/jovyan/.imgenv-ars-100-2-80gb-0/lib/python3.7/site-packages)\u001b[0m\n",
      "\u001b[33mWARNING: Ignoring invalid distribution -orch (/home/jovyan/.imgenv-ars-100-2-80gb-0/lib/python3.7/site-packages)\u001b[0m\n",
      "\u001b[33mWARNING: Ignoring invalid distribution -illow (/home/jovyan/.imgenv-ars-100-2-80gb-0/lib/python3.7/site-packages)\u001b[0m\n",
      "\u001b[33mWARNING: Ignoring invalid distribution -orch (/home/jovyan/.imgenv-ars-100-2-80gb-0/lib/python3.7/site-packages)\u001b[0m\n",
      "\u001b[33mWARNING: Ignoring invalid distribution -illow (/home/jovyan/.imgenv-ars-100-2-80gb-0/lib/python3.7/site-packages)\u001b[0m\n",
      "\u001b[33mWARNING: Ignoring invalid distribution -orch (/home/jovyan/.imgenv-ars-100-2-80gb-0/lib/python3.7/site-packages)\u001b[0m\n",
      "\u001b[33mWARNING: Ignoring invalid distribution -illow (/home/jovyan/.imgenv-ars-100-2-80gb-0/lib/python3.7/site-packages)\u001b[0m\n",
      "Requirement already satisfied: transformers in /home/jovyan/.imgenv-ars-100-2-80gb-0/lib/python3.7/site-packages (4.30.2)\n",
      "Requirement already satisfied: filelock in /home/user/conda/lib/python3.7/site-packages (from transformers) (3.4.2)\n",
      "Requirement already satisfied: tokenizers!=0.11.3,<0.14,>=0.11.1 in /home/jovyan/.imgenv-ars-100-2-80gb-0/lib/python3.7/site-packages (from transformers) (0.13.3)\n",
      "Requirement already satisfied: requests in /home/user/conda/lib/python3.7/site-packages (from transformers) (2.27.1)\n",
      "Requirement already satisfied: tqdm>=4.27 in /home/user/conda/lib/python3.7/site-packages (from transformers) (4.62.3)\n",
      "Requirement already satisfied: huggingface-hub<1.0,>=0.14.1 in /home/jovyan/.imgenv-ars-100-2-80gb-0/lib/python3.7/site-packages (from transformers) (0.15.1)\n",
      "Requirement already satisfied: numpy>=1.17 in /home/user/conda/lib/python3.7/site-packages (from transformers) (1.21.5)\n",
      "Requirement already satisfied: regex!=2019.12.17 in /home/user/conda/lib/python3.7/site-packages (from transformers) (2022.1.18)\n",
      "Requirement already satisfied: safetensors>=0.3.1 in /home/jovyan/.imgenv-ars-100-2-80gb-0/lib/python3.7/site-packages (from transformers) (0.3.1)\n",
      "Requirement already satisfied: packaging>=20.0 in /home/user/conda/lib/python3.7/site-packages (from transformers) (21.3)\n",
      "Requirement already satisfied: pyyaml>=5.1 in /home/jovyan/.imgenv-ars-100-2-80gb-0/lib/python3.7/site-packages (from transformers) (5.4.1)\n",
      "Requirement already satisfied: importlib-metadata in /home/user/conda/lib/python3.7/site-packages (from transformers) (4.10.1)\n",
      "Requirement already satisfied: fsspec in /home/user/conda/lib/python3.7/site-packages (from huggingface-hub<1.0,>=0.14.1->transformers) (2022.1.0)\n",
      "Requirement already satisfied: typing-extensions>=3.7.4.3 in /home/jovyan/.imgenv-ars-100-2-80gb-0/lib/python3.7/site-packages (from huggingface-hub<1.0,>=0.14.1->transformers) (4.7.1)\n",
      "Requirement already satisfied: pyparsing!=3.0.5,>=2.0.2 in /home/user/conda/lib/python3.7/site-packages (from packaging>=20.0->transformers) (3.0.7)\n",
      "Requirement already satisfied: zipp>=0.5 in /home/user/conda/lib/python3.7/site-packages (from importlib-metadata->transformers) (3.7.0)\n",
      "Requirement already satisfied: charset-normalizer~=2.0.0 in /home/user/conda/lib/python3.7/site-packages (from requests->transformers) (2.0.10)\n",
      "Requirement already satisfied: urllib3<1.27,>=1.21.1 in /home/jovyan/.imgenv-ars-100-2-80gb-0/lib/python3.7/site-packages (from requests->transformers) (1.26.16)\n",
      "Requirement already satisfied: certifi>=2017.4.17 in /home/user/conda/lib/python3.7/site-packages (from requests->transformers) (2021.10.8)\n",
      "Requirement already satisfied: idna<4,>=2.5 in /home/user/conda/lib/python3.7/site-packages (from requests->transformers) (3.3)\n",
      "\u001b[33mWARNING: Ignoring invalid distribution -orch (/home/jovyan/.imgenv-ars-100-2-80gb-0/lib/python3.7/site-packages)\u001b[0m\n",
      "\u001b[33mWARNING: Ignoring invalid distribution -illow (/home/jovyan/.imgenv-ars-100-2-80gb-0/lib/python3.7/site-packages)\u001b[0m\n",
      "\u001b[33mWARNING: Ignoring invalid distribution -orch (/home/jovyan/.imgenv-ars-100-2-80gb-0/lib/python3.7/site-packages)\u001b[0m\n",
      "\u001b[33mWARNING: Ignoring invalid distribution -illow (/home/jovyan/.imgenv-ars-100-2-80gb-0/lib/python3.7/site-packages)\u001b[0m\n",
      "\u001b[33mWARNING: Ignoring invalid distribution -orch (/home/jovyan/.imgenv-ars-100-2-80gb-0/lib/python3.7/site-packages)\u001b[0m\n",
      "\u001b[33mWARNING: Ignoring invalid distribution -illow (/home/jovyan/.imgenv-ars-100-2-80gb-0/lib/python3.7/site-packages)\u001b[0m\n",
      "\u001b[33mWARNING: Ignoring invalid distribution -orch (/home/jovyan/.imgenv-ars-100-2-80gb-0/lib/python3.7/site-packages)\u001b[0m\n",
      "\u001b[33mWARNING: Ignoring invalid distribution -illow (/home/jovyan/.imgenv-ars-100-2-80gb-0/lib/python3.7/site-packages)\u001b[0m\n"
     ]
    }
   ],
   "source": [
    "!pip install --upgrade accelerate\n",
    "!pip install --upgrade transformers"
   ]
  },
  {
   "cell_type": "code",
   "execution_count": 3,
   "metadata": {
    "colab": {
     "base_uri": "https://localhost:8080/"
    },
    "id": "MOsHUjgdIrIW",
    "outputId": "96322ca9-8dda-4571-e739-19f95ffef098"
   },
   "outputs": [
    {
     "name": "stdout",
     "output_type": "stream",
     "text": [
      "\u001b[33mWARNING: Ignoring invalid distribution -orch (/home/jovyan/.imgenv-ars-100-2-80gb-0/lib/python3.7/site-packages)\u001b[0m\n",
      "\u001b[33mWARNING: Ignoring invalid distribution -illow (/home/jovyan/.imgenv-ars-100-2-80gb-0/lib/python3.7/site-packages)\u001b[0m\n",
      "\u001b[33mWARNING: Ignoring invalid distribution -orch (/home/jovyan/.imgenv-ars-100-2-80gb-0/lib/python3.7/site-packages)\u001b[0m\n",
      "\u001b[33mWARNING: Ignoring invalid distribution -illow (/home/jovyan/.imgenv-ars-100-2-80gb-0/lib/python3.7/site-packages)\u001b[0m\n",
      "\u001b[33mWARNING: Ignoring invalid distribution -orch (/home/jovyan/.imgenv-ars-100-2-80gb-0/lib/python3.7/site-packages)\u001b[0m\n",
      "\u001b[33mWARNING: Ignoring invalid distribution -illow (/home/jovyan/.imgenv-ars-100-2-80gb-0/lib/python3.7/site-packages)\u001b[0m\n",
      "\u001b[33m    WARNING: Ignoring invalid distribution -orch (/home/jovyan/.imgenv-ars-100-2-80gb-0/lib/python3.7/site-packages)\u001b[0m\n",
      "\u001b[33m    WARNING: Ignoring invalid distribution -illow (/home/jovyan/.imgenv-ars-100-2-80gb-0/lib/python3.7/site-packages)\u001b[0m\n",
      "\u001b[33mWARNING: Ignoring invalid distribution -orch (/home/jovyan/.imgenv-ars-100-2-80gb-0/lib/python3.7/site-packages)\u001b[0m\n",
      "\u001b[33mWARNING: Ignoring invalid distribution -illow (/home/jovyan/.imgenv-ars-100-2-80gb-0/lib/python3.7/site-packages)\u001b[0m\n",
      "\u001b[33mWARNING: Ignoring invalid distribution -orch (/home/jovyan/.imgenv-ars-100-2-80gb-0/lib/python3.7/site-packages)\u001b[0m\n",
      "\u001b[33mWARNING: Ignoring invalid distribution -illow (/home/jovyan/.imgenv-ars-100-2-80gb-0/lib/python3.7/site-packages)\u001b[0m\n",
      "\u001b[33mWARNING: Ignoring invalid distribution -orch (/home/jovyan/.imgenv-ars-100-2-80gb-0/lib/python3.7/site-packages)\u001b[0m\n",
      "\u001b[33mWARNING: Ignoring invalid distribution -illow (/home/jovyan/.imgenv-ars-100-2-80gb-0/lib/python3.7/site-packages)\u001b[0m\n",
      "\u001b[33mWARNING: Ignoring invalid distribution -orch (/home/jovyan/.imgenv-ars-100-2-80gb-0/lib/python3.7/site-packages)\u001b[0m\n",
      "\u001b[33mWARNING: Ignoring invalid distribution -illow (/home/jovyan/.imgenv-ars-100-2-80gb-0/lib/python3.7/site-packages)\u001b[0m\n",
      "\u001b[33mWARNING: Ignoring invalid distribution -orch (/home/jovyan/.imgenv-ars-100-2-80gb-0/lib/python3.7/site-packages)\u001b[0m\n",
      "\u001b[33mWARNING: Ignoring invalid distribution -illow (/home/jovyan/.imgenv-ars-100-2-80gb-0/lib/python3.7/site-packages)\u001b[0m\n",
      "\u001b[33mWARNING: Ignoring invalid distribution -orch (/home/jovyan/.imgenv-ars-100-2-80gb-0/lib/python3.7/site-packages)\u001b[0m\n",
      "\u001b[33mWARNING: Ignoring invalid distribution -illow (/home/jovyan/.imgenv-ars-100-2-80gb-0/lib/python3.7/site-packages)\u001b[0m\n",
      "\u001b[33mWARNING: Ignoring invalid distribution -orch (/home/jovyan/.imgenv-ars-100-2-80gb-0/lib/python3.7/site-packages)\u001b[0m\n",
      "\u001b[33mWARNING: Ignoring invalid distribution -illow (/home/jovyan/.imgenv-ars-100-2-80gb-0/lib/python3.7/site-packages)\u001b[0m\n"
     ]
    }
   ],
   "source": [
    "! pip install datasets transformers seqeval corus razdel -q"
   ]
  },
  {
   "cell_type": "markdown",
   "metadata": {
    "id": "4HL1yaESsJA9"
   },
   "source": [
    "В этом блокноте происходит дообучение модели на задаче классификации отдельных слов, а именно, распознавание именованных сущностей (aka named entity recognition, aka NER). Беру датасет медицинских сущностей, но в целом пайплайн достаточно универсальный для задачи NER.\n",
    "\n",
    "Для скорости я беру маленький BERT для русского языка [rubert-tiny](https://huggingface.co/cointegrated/rubert-tiny2); если взять другую, более крупную BERT-подобную модель, качество NER может быть выше, но и время обучения и работы будет дольше\n"
   ]
  },
  {
   "cell_type": "code",
   "execution_count": 162,
   "metadata": {
    "id": "zVvslsfMIrIh"
   },
   "outputs": [],
   "source": [
    "model_checkpoint = \"cointegrated/rubert-tiny2\"\n",
    "batch_size = 16"
   ]
  },
  {
   "cell_type": "markdown",
   "metadata": {
    "id": "whPRbBNbIrIl"
   },
   "source": [
    "## Loading the dataset"
   ]
  },
  {
   "cell_type": "markdown",
   "metadata": {
    "id": "J8mt63rWvkv3"
   },
   "source": [
    "Датасет текстов [Russian Drug Reaction Corpus](https://github.com/cimm-kzn/RuDReC): размеченный корпус русскоязычных отзывов на лекарства. Использую corus для загрузки датасета"
   ]
  },
  {
   "cell_type": "code",
   "execution_count": 163,
   "metadata": {
    "id": "IreSlFmlIrIm"
   },
   "outputs": [],
   "source": [
    "from datasets import load_dataset, load_metric"
   ]
  },
  {
   "cell_type": "code",
   "execution_count": 164,
   "metadata": {
    "colab": {
     "base_uri": "https://localhost:8080/"
    },
    "id": "s_AY1ATSIrIq",
    "outputId": "e8c8d29b-0895-41c1-f25d-8c38c7dff57c"
   },
   "outputs": [
    {
     "name": "stdout",
     "output_type": "stream",
     "text": [
      "--2023-10-23 00:38:59--  https://github.com/cimm-kzn/RuDReC/raw/master/data/rudrec_annotated.json\n",
      "Resolving github.com (github.com)... 140.82.121.4\n",
      "Connecting to github.com (github.com)|140.82.121.4|:443... connected.\n",
      "HTTP request sent, awaiting response... 302 Found\n",
      "Location: https://raw.githubusercontent.com/cimm-kzn/RuDReC/master/data/rudrec_annotated.json [following]\n",
      "--2023-10-23 00:39:00--  https://raw.githubusercontent.com/cimm-kzn/RuDReC/master/data/rudrec_annotated.json\n",
      "Resolving raw.githubusercontent.com (raw.githubusercontent.com)... 185.199.108.133, 185.199.110.133, 185.199.109.133, ...\n",
      "Connecting to raw.githubusercontent.com (raw.githubusercontent.com)|185.199.108.133|:443... connected.\n",
      "HTTP request sent, awaiting response... 200 OK\n",
      "Length: 1773014 (1.7M) [text/plain]\n",
      "Saving to: ‘rudrec_annotated.json.1’\n",
      "\n",
      "rudrec_annotated.js 100%[===================>]   1.69M  7.86MB/s    in 0.2s    \n",
      "\n",
      "2023-10-23 00:39:00 (7.86 MB/s) - ‘rudrec_annotated.json.1’ saved [1773014/1773014]\n",
      "\n"
     ]
    }
   ],
   "source": [
    "!wget https://github.com/cimm-kzn/RuDReC/raw/master/data/rudrec_annotated.json"
   ]
  },
  {
   "cell_type": "code",
   "execution_count": 165,
   "metadata": {
    "colab": {
     "base_uri": "https://localhost:8080/"
    },
    "id": "VALH-KBTMfVI",
    "outputId": "81f93443-11b5-405f-f318-02d02ee8dcba"
   },
   "outputs": [
    {
     "name": "stdout",
     "output_type": "stream",
     "text": [
      "4809\n"
     ]
    }
   ],
   "source": [
    "from corus import load_rudrec\n",
    "drugs = list(load_rudrec('rudrec_annotated.json'))\n",
    "print(len(drugs))"
   ]
  },
  {
   "cell_type": "markdown",
   "metadata": {
    "id": "fGBywJmAv2NN"
   },
   "source": [
    "Пример документа:"
   ]
  },
  {
   "cell_type": "code",
   "execution_count": 171,
   "metadata": {
    "colab": {
     "base_uri": "https://localhost:8080/"
    },
    "id": "ynPlkV5gv4XC",
    "outputId": "ea6edc9c-005d-4f2a-fa56-53d5450d7b49"
   },
   "outputs": [
    {
     "data": {
      "text/plain": [
       "RuDReCRecord(\n",
       "    file_name='172744.tsv',\n",
       "    text='нам прописали, так мой ребенок сыпью покрылся, глаза опухли, сверху и снизу на веках высыпала сыпь, ( 8 месяцев сыну)А от виферона такого не было... У кого ещё такие побочки, отзовитесь!1 Чем спасались?\\n',\n",
       "    sentence_id=0,\n",
       "    entities=[RuDReCEntity(\n",
       "         entity_id='*[0]_se',\n",
       "         entity_text='виферона',\n",
       "         entity_type='Drugform',\n",
       "         start=122,\n",
       "         end=130,\n",
       "         concept_id='C0021735',\n",
       "         concept_name=nan\n",
       "     ),\n",
       "     RuDReCEntity(\n",
       "         entity_id='*[1]',\n",
       "         entity_text='сыпью покрылся',\n",
       "         entity_type='ADR',\n",
       "         start=31,\n",
       "         end=45,\n",
       "         concept_id='C0015230',\n",
       "         concept_name=nan\n",
       "     ),\n",
       "     RuDReCEntity(\n",
       "         entity_id='*[2]',\n",
       "         entity_text='глаза опухли',\n",
       "         entity_type='ADR',\n",
       "         start=47,\n",
       "         end=59,\n",
       "         concept_id='C4760994',\n",
       "         concept_name=nan\n",
       "     ),\n",
       "     RuDReCEntity(\n",
       "         entity_id='*[3]',\n",
       "         entity_text='на веках высыпала сыпь',\n",
       "         entity_type='ADR',\n",
       "         start=76,\n",
       "         end=98,\n",
       "         concept_id='C0015230',\n",
       "         concept_name=nan\n",
       "     )]\n",
       ")"
      ]
     },
     "execution_count": 171,
     "metadata": {},
     "output_type": "execute_result"
    }
   ],
   "source": [
    "drugs[0]"
   ]
  },
  {
   "cell_type": "markdown",
   "metadata": {
    "id": "iSpV6RLEwI5o"
   },
   "source": [
    "Какие сущности в тексте есть: лекарства, форма лекарств, класс лекарств, показания к применению, побочки, и прочие болезни/симптомы.\n",
    "\n",
    "https://arxiv.org/abs/2004.03659\n",
    "\n",
    "* **DRUGNAME** Mentions of the brand name of a drug or product\n",
    "ingredients/active compounds.\n",
    "* **DRUGCLASS** Mentions of drug classes such as anti-inflammatory or\n",
    "cardiovascular.\n",
    "* **DRUGFORM** Mentions of routes of administration such as tablet\n",
    "or liquid that describe the physical form in which\n",
    "medication will be delivered into patient’s organism.\n",
    "* **DI** Any indication/symptom that specifies the reason for\n",
    "taking/prescribing the drug.\n",
    "* **ADR** Mentions of untoward medical events that occur as a\n",
    "consequence of drug intake and are not associated with\n",
    "treated symptoms.\n",
    "* **FINDING** Any DI or ADR that was not directly experienced by the\n",
    "reporting patient or his/her family members, or related to\n",
    "medical history/drug label, or any disease entities if the\n",
    "annotator is not clear about type\n"
   ]
  },
  {
   "cell_type": "code",
   "execution_count": 172,
   "metadata": {
    "colab": {
     "base_uri": "https://localhost:8080/"
    },
    "id": "vo8MIceYNPjx",
    "outputId": "ecbc9d4e-2c4e-432f-aa7a-5378e84fb1ce"
   },
   "outputs": [
    {
     "name": "stdout",
     "output_type": "stream",
     "text": [
      "DI 1401\n",
      "[('простуды', 64), ('ОРВИ', 47), ('профилактики', 42)]\n",
      "Drugname 1043\n",
      "[('Виферон', 33), ('Анаферон', 25), ('Циклоферон', 24)]\n",
      "Drugform 836\n",
      "[('таблетки', 154), ('таблеток', 79), ('свечи', 63)]\n",
      "ADR 720\n",
      "[('аллергия', 16), ('слабость', 13), ('диарея', 12)]\n",
      "Drugclass 330\n",
      "[('противовирусный', 21), ('противовирусное', 18), ('противовирусных', 13)]\n",
      "Finding 236\n",
      "[('аллергии', 12), ('температуры', 6), ('сонливости', 5)]\n"
     ]
    }
   ],
   "source": [
    "from collections import Counter, defaultdict\n",
    "type2text = defaultdict(Counter)\n",
    "ents = Counter()\n",
    "for item in drugs:\n",
    "    for e in item.entities:\n",
    "        ents[e.entity_type] += 1\n",
    "        type2text[e.entity_type][e.entity_text] += 1\n",
    "\n",
    "for k, v in ents.most_common():\n",
    "    print(k, v)\n",
    "    print(type2text[k].most_common(3))"
   ]
  },
  {
   "cell_type": "code",
   "execution_count": 173,
   "metadata": {
    "colab": {
     "base_uri": "https://localhost:8080/",
     "height": 35
    },
    "id": "0Kszaqs8N0Ig",
    "outputId": "6fc78997-e673-4b21-a882-56528ede3c07"
   },
   "outputs": [
    {
     "data": {
      "text/plain": [
       "'нам прописали, так мой ребенок сыпью покрылся, глаза опухли, сверху и снизу на веках высыпала сыпь, ( 8 месяцев сыну)А от виферона такого не было... У кого ещё такие побочки, отзовитесь!1 Чем спасались?\\n'"
      ]
     },
     "execution_count": 173,
     "metadata": {},
     "output_type": "execute_result"
    }
   ],
   "source": [
    "drugs[0].text"
   ]
  },
  {
   "cell_type": "markdown",
   "metadata": {
    "id": "RzfPtOMoIrIu"
   },
   "source": [
    "Далее реализую функцию, перекладывающую разметку сущностей на уровень слов. Будем использовать [IOB](https://en.wikipedia.org/wiki/Inside–outside–beginning_(tagging))-нотацию, чтобы разделять несколько сущностей одного типа, идущих подряд."
   ]
  },
  {
   "cell_type": "code",
   "execution_count": 174,
   "metadata": {
    "id": "Dg9BL4Z_OcjY"
   },
   "outputs": [],
   "source": [
    "from razdel import tokenize\n",
    "\n",
    "def extract_labels(item):\n",
    "    raw_toks = list(tokenize(item.text))\n",
    "    words = [tok.text for tok in raw_toks]\n",
    "    word_labels = ['O'] * len(raw_toks)\n",
    "    char2word = [None] * len(item.text)\n",
    "    for i, word in enumerate(raw_toks):\n",
    "        char2word[word.start:word.stop] = [i] * len(word.text)\n",
    "\n",
    "    for e in item.entities:\n",
    "        e_words = sorted({idx for idx in char2word[e.start:e.end] if idx is not None})\n",
    "        word_labels[e_words[0]] = 'B-' + e.entity_type\n",
    "        for idx in e_words[1:]:\n",
    "            word_labels[idx] = 'I-' + e.entity_type\n",
    "\n",
    "    return {'tokens': words, 'tags': word_labels}"
   ]
  },
  {
   "cell_type": "code",
   "execution_count": 175,
   "metadata": {
    "colab": {
     "base_uri": "https://localhost:8080/"
    },
    "id": "PCGwQAadOVA9",
    "outputId": "e7aeb2e3-6c69-482b-8d95-deb6490b6439"
   },
   "outputs": [
    {
     "name": "stdout",
     "output_type": "stream",
     "text": [
      "{'tokens': ['нам', 'прописали', ',', 'так', 'мой', 'ребенок', 'сыпью', 'покрылся', ',', 'глаза', 'опухли', ',', 'сверху', 'и', 'снизу', 'на', 'веках', 'высыпала', 'сыпь', ',', '(', '8', 'месяцев', 'сыну', ')', 'А', 'от', 'виферона', 'такого', 'не', 'было', '...', 'У', 'кого', 'ещё', 'такие', 'побочки', ',', 'отзовитесь', '!', '1', 'Чем', 'спасались', '?'], 'tags': ['O', 'O', 'O', 'O', 'O', 'O', 'B-ADR', 'I-ADR', 'O', 'B-ADR', 'I-ADR', 'O', 'O', 'O', 'O', 'B-ADR', 'I-ADR', 'I-ADR', 'I-ADR', 'O', 'O', 'O', 'O', 'O', 'O', 'O', 'O', 'B-Drugform', 'O', 'O', 'O', 'O', 'O', 'O', 'O', 'O', 'O', 'O', 'O', 'O', 'O', 'O', 'O', 'O']}\n"
     ]
    }
   ],
   "source": [
    "print(extract_labels(drugs[0]))"
   ]
  },
  {
   "cell_type": "code",
   "execution_count": 176,
   "metadata": {
    "id": "Chhlmjt8OEgn"
   },
   "outputs": [],
   "source": [
    "from sklearn.model_selection import train_test_split\n",
    "ner_data = [extract_labels(item) for item in drugs]\n",
    "ner_train, ner_test = train_test_split(ner_data, test_size=0.2, random_state=1)"
   ]
  },
  {
   "cell_type": "markdown",
   "metadata": {
    "id": "yvApziHbyUyR"
   },
   "source": [
    "Пример данных"
   ]
  },
  {
   "cell_type": "code",
   "execution_count": 177,
   "metadata": {
    "colab": {
     "base_uri": "https://localhost:8080/",
     "height": 143
    },
    "id": "17yA19oFRwMk",
    "outputId": "c48c221b-5873-427f-fd08-72ec15ae9518"
   },
   "outputs": [
    {
     "data": {
      "text/html": [
       "<div>\n",
       "<style scoped>\n",
       "    .dataframe tbody tr th:only-of-type {\n",
       "        vertical-align: middle;\n",
       "    }\n",
       "\n",
       "    .dataframe tbody tr th {\n",
       "        vertical-align: top;\n",
       "    }\n",
       "\n",
       "    .dataframe thead th {\n",
       "        text-align: right;\n",
       "    }\n",
       "</style>\n",
       "<table border=\"1\" class=\"dataframe\">\n",
       "  <thead>\n",
       "    <tr style=\"text-align: right;\">\n",
       "      <th></th>\n",
       "      <th>tokens</th>\n",
       "      <th>tags</th>\n",
       "    </tr>\n",
       "  </thead>\n",
       "  <tbody>\n",
       "    <tr>\n",
       "      <th>3692</th>\n",
       "      <td>[Мочить, плечо, запретили, .]</td>\n",
       "      <td>[O, O, O, O]</td>\n",
       "    </tr>\n",
       "    <tr>\n",
       "      <th>184</th>\n",
       "      <td>[Горло, как, было, красное, так, и, осталось, .]</td>\n",
       "      <td>[B-DI, I-DI, I-DI, I-DI, O, O, O, O]</td>\n",
       "    </tr>\n",
       "    <tr>\n",
       "      <th>1621</th>\n",
       "      <td>[Одной, упаковкой, не, обойтись, .]</td>\n",
       "      <td>[O, O, O, O, O]</td>\n",
       "    </tr>\n",
       "  </tbody>\n",
       "</table>\n",
       "</div>"
      ],
      "text/plain": [
       "                                                tokens  \\\n",
       "3692                     [Мочить, плечо, запретили, .]   \n",
       "184   [Горло, как, было, красное, так, и, осталось, .]   \n",
       "1621               [Одной, упаковкой, не, обойтись, .]   \n",
       "\n",
       "                                      tags  \n",
       "3692                          [O, O, O, O]  \n",
       "184   [B-DI, I-DI, I-DI, I-DI, O, O, O, O]  \n",
       "1621                       [O, O, O, O, O]  "
      ]
     },
     "execution_count": 177,
     "metadata": {},
     "output_type": "execute_result"
    }
   ],
   "source": [
    "import pandas as pd\n",
    "pd.options.display.max_colwidth = 300\n",
    "pd.DataFrame(ner_train).sample(3)"
   ]
  },
  {
   "cell_type": "code",
   "execution_count": 178,
   "metadata": {
    "colab": {
     "base_uri": "https://localhost:8080/"
    },
    "id": "16SRNc6csJBC",
    "outputId": "9bbb34d6-2f8e-4294-d8fa-0aaa23175d69"
   },
   "outputs": [
    {
     "data": {
      "text/plain": [
       "['O',\n",
       " 'B-ADR',\n",
       " 'B-DI',\n",
       " 'B-Drugclass',\n",
       " 'B-Drugform',\n",
       " 'B-Drugname',\n",
       " 'B-Finding',\n",
       " 'I-ADR',\n",
       " 'I-DI',\n",
       " 'I-Drugclass',\n",
       " 'I-Drugform',\n",
       " 'I-Drugname',\n",
       " 'I-Finding']"
      ]
     },
     "execution_count": 178,
     "metadata": {},
     "output_type": "execute_result"
    }
   ],
   "source": [
    "label_list = sorted({label for item in ner_train for label in item['tags']})\n",
    "if 'O' in label_list:\n",
    "    label_list.remove('O')\n",
    "    label_list = ['O'] + label_list\n",
    "label_list"
   ]
  },
  {
   "cell_type": "markdown",
   "metadata": {
    "id": "ckjbVWLoyYYf"
   },
   "source": [
    "Складываю данные в объект [`DatasetDict`](https://huggingface.co/docs/datasets/package_reference/main_classes.html#datasetdict), нативный для huggingface."
   ]
  },
  {
   "cell_type": "code",
   "execution_count": 180,
   "metadata": {
    "id": "4E3yy6wmUp-z"
   },
   "outputs": [],
   "source": [
    "from datasets import Dataset, DatasetDict"
   ]
  },
  {
   "cell_type": "code",
   "execution_count": 181,
   "metadata": {
    "colab": {
     "base_uri": "https://localhost:8080/"
    },
    "id": "3YavIR4eU5ZY",
    "outputId": "c97ffe07-13b8-476c-dc1b-1f08ad6daa99"
   },
   "outputs": [
    {
     "data": {
      "text/plain": [
       "DatasetDict({\n",
       "    train: Dataset({\n",
       "        features: ['tokens', 'tags'],\n",
       "        num_rows: 3847\n",
       "    })\n",
       "    test: Dataset({\n",
       "        features: ['tokens', 'tags'],\n",
       "        num_rows: 962\n",
       "    })\n",
       "})"
      ]
     },
     "execution_count": 181,
     "metadata": {},
     "output_type": "execute_result"
    }
   ],
   "source": [
    "ner_data = DatasetDict({\n",
    "    'train': Dataset.from_pandas(pd.DataFrame(ner_train)),\n",
    "    'test': Dataset.from_pandas(pd.DataFrame(ner_test))\n",
    "})\n",
    "ner_data"
   ]
  },
  {
   "cell_type": "markdown",
   "metadata": {
    "id": "n9qywopnIrJH"
   },
   "source": [
    "## Preprocessing the data"
   ]
  },
  {
   "cell_type": "code",
   "execution_count": 183,
   "metadata": {
    "colab": {
     "base_uri": "https://localhost:8080/",
     "height": 145,
     "referenced_widgets": [
      "09c08fd1de81455984f3e39ad75b79c1",
      "5b8b6d23164a4d69ae53ea68f7c74fb9",
      "201ff13d21444818ab1c29803f66efa1",
      "927b68d3997d4061a173727803ccdbd5",
      "4c05e5d95fb64b3895a94bf455b6c3e2",
      "b674bf1aab6f45aab475f05d8e22d874",
      "0fe45ff0bdd64bd288f70d93bed13c6a",
      "5c7b1720d22b42c58a94e4d2f1e0f41c",
      "60cd3d70d62a421aa201a1070df2ef1d",
      "cd8c8ad3e47e4dabb8c3079a15994284",
      "6bc95a408dbb4bb5b5a6f0120c68ebab",
      "e6867c47700d4a41b0238eea60a13f35",
      "a5bdeb88c6b3423786799ac43d32b48b",
      "caca9680b4644863927f7d40f729b7fd",
      "0311bff1d4ac4b59b6b675eb5b3221e7",
      "d3b00a0cf7804b16a6a8a5f59f190757",
      "ae692660ee344265a9bf63f4907701b0",
      "d13a1c872ac14caeb460bc8d7c3d3f20",
      "e65b023af7804f80ab2f6c972ec7a6b2",
      "7fa5dffd30394a1e8d7bbfcd80e1abef",
      "c9627759aa4749029a6f3ff0721de6a4",
      "d36f2928bdcf45e4986f7abfa0010d37",
      "db88c9d25b6742018653fdb565b8be3a",
      "da0b3b3f3f8146fba71069db009ee507",
      "cd4a64bb86744803be06a16037882050",
      "db8c5d6a4c0f4f0fad7917a798d6362c",
      "c367549a5ac349a1b90f1405d6191bd6",
      "b9d42b9a45464a25927f3c580618e7e0",
      "d8ee692a960645ef81125756764b0e8d",
      "cedf37fbc7b94103a3d7c5a59064bdb3",
      "be3145c0308f4a19ac0dd2e9f7e76077",
      "fba5556b832e4afea9fbc46d430ab2b6",
      "9bca75f574ba4ceab438a252f55ae5ed",
      "2c0314922dab416897f3cb01db0ec268",
      "9847f9cb2a634c5b8dcbaf14fa17e4fe",
      "b6918a8391034fd698c67d7f650868ad",
      "1bdf2b1a05a74e0ea6a8ff5a3bd244a6",
      "16ac10860a284f67aac380fad0428a97",
      "4717f926c18941138e1fb1591109db98",
      "be3672cdebad499793629374d3034a14",
      "dd9d6fb308e64be7b20824e1a60d400f",
      "46c91b3585a74ccea813900ea868836d",
      "da6b16a346a045c7864a8f8808072228",
      "5bbc1a86ade14ca58861e52240c1bcb7"
     ]
    },
    "id": "eXNLu_-nIrJI",
    "outputId": "5a7cf00d-8e0a-4984-d401-b2132670c4f9"
   },
   "outputs": [],
   "source": [
    "from transformers import AutoTokenizer\n",
    "\n",
    "tokenizer = AutoTokenizer.from_pretrained(model_checkpoint)"
   ]
  },
  {
   "cell_type": "code",
   "execution_count": 184,
   "metadata": {
    "colab": {
     "base_uri": "https://localhost:8080/"
    },
    "id": "a5hBlsrHIrJL",
    "outputId": "7e8195f1-85c8-4d1f-e1a0-5be1dbd5acce"
   },
   "outputs": [
    {
     "data": {
      "text/plain": [
       "{'input_ids': [2, 9944, 16, 881, 550, 835, 15503, 5, 3], 'token_type_ids': [0, 0, 0, 0, 0, 0, 0, 0, 0], 'attention_mask': [1, 1, 1, 1, 1, 1, 1, 1, 1]}"
      ]
     },
     "execution_count": 184,
     "metadata": {},
     "output_type": "execute_result"
    }
   ],
   "source": [
    "tokenizer(\"Hello, this is one sentence!\")"
   ]
  },
  {
   "cell_type": "markdown",
   "metadata": {
    "id": "ZdStg37nsJBE"
   },
   "source": [
    "Так как наши тексты уже разбиты на слова, ставим атрибут `is_split_into_words=True`:"
   ]
  },
  {
   "cell_type": "code",
   "execution_count": 185,
   "metadata": {
    "colab": {
     "base_uri": "https://localhost:8080/"
    },
    "id": "b_yJ2hgDsJBF",
    "outputId": "256c6d1e-ec38-4adc-e09f-c2bfbd1c12b9"
   },
   "outputs": [
    {
     "data": {
      "text/plain": [
       "{'input_ids': [2, 9944, 16, 881, 550, 835, 15503, 7440, 996, 6301, 18, 3], 'token_type_ids': [0, 0, 0, 0, 0, 0, 0, 0, 0, 0, 0, 0], 'attention_mask': [1, 1, 1, 1, 1, 1, 1, 1, 1, 1, 1, 1]}"
      ]
     },
     "execution_count": 185,
     "metadata": {},
     "output_type": "execute_result"
    }
   ],
   "source": [
    "tokenizer([\"Hello\", \",\", \"this\", \"is\", \"one\", \"sentence\", \"split\", \"into\", \"words\", \".\"], is_split_into_words=True)"
   ]
  },
  {
   "cell_type": "markdown",
   "metadata": {
    "id": "4JdDuFvbsJBF"
   },
   "source": [
    "Даже если наши данные уже были разделены на слова, каждое из этих слов может быть снова разделено токенизатором на под-токены. Возьмем пример:"
   ]
  },
  {
   "cell_type": "code",
   "execution_count": 187,
   "metadata": {
    "colab": {
     "base_uri": "https://localhost:8080/"
    },
    "id": "OjrkjteOsJBF",
    "outputId": "b30a1ee0-8ae9-49c3-d003-82083f00dde3"
   },
   "outputs": [
    {
     "name": "stdout",
     "output_type": "stream",
     "text": [
      "['Мы', 'поменяли', 'место', 'жительства', 'и', 'перевели', 'дочь', 'в', 'школу', ',', 'которая', 'находится', 'ближе', 'к', 'дому', '.']\n"
     ]
    }
   ],
   "source": [
    "example = ner_train[5]\n",
    "print(example[\"tokens\"])"
   ]
  },
  {
   "cell_type": "code",
   "execution_count": 188,
   "metadata": {
    "colab": {
     "base_uri": "https://localhost:8080/"
    },
    "id": "QU8fkdJMsJBF",
    "outputId": "89cdb1e0-9c79-4481-8e57-bb30214001f7"
   },
   "outputs": [
    {
     "name": "stdout",
     "output_type": "stream",
     "text": [
      "['[CLS]', 'Мы', 'поменяли', 'место', 'жительства', 'и', 'перевели', 'дочь', 'в', 'школу', ',', 'которая', 'находится', 'ближе', 'к', 'дому', '.', '[SEP]']\n"
     ]
    }
   ],
   "source": [
    "tokenized_input = tokenizer(example[\"tokens\"], is_split_into_words=True)\n",
    "tokens = tokenizer.convert_ids_to_tokens(tokenized_input[\"input_ids\"])\n",
    "print(tokens)"
   ]
  },
  {
   "cell_type": "markdown",
   "metadata": {
    "id": "-7zwzY9wsJBG"
   },
   "source": [
    "Чтобы перейти с уровня слов на уровень subword tokens, нужно ещё раз предобработать тексты."
   ]
  },
  {
   "cell_type": "code",
   "execution_count": 189,
   "metadata": {
    "colab": {
     "base_uri": "https://localhost:8080/"
    },
    "id": "F39uz6wusJBG",
    "outputId": "6b5b5ce8-9ea6-4f7f-b7d9-58dd7fdf14e6"
   },
   "outputs": [
    {
     "data": {
      "text/plain": [
       "(16, 18)"
      ]
     },
     "execution_count": 189,
     "metadata": {},
     "output_type": "execute_result"
    }
   ],
   "source": [
    "len(example[\"tags\"]), len(tokenized_input[\"input_ids\"])"
   ]
  },
  {
   "cell_type": "code",
   "execution_count": 190,
   "metadata": {
    "colab": {
     "base_uri": "https://localhost:8080/"
    },
    "id": "Rt7_5_bXsJBH",
    "outputId": "682eae1f-cb14-4750-b15e-a4a55eabdc9b"
   },
   "outputs": [
    {
     "name": "stdout",
     "output_type": "stream",
     "text": [
      "[None, 0, 1, 2, 3, 4, 5, 6, 7, 8, 9, 10, 11, 12, 13, 14, 15, None]\n"
     ]
    }
   ],
   "source": [
    "print(tokenized_input.word_ids())"
   ]
  },
  {
   "cell_type": "markdown",
   "metadata": {
    "id": "rP1PvW2isJBH"
   },
   "source": [
    "None здесь - это специальные токены начала и конца CLS и SEP. Заалайним токены между собой:"
   ]
  },
  {
   "cell_type": "code",
   "execution_count": 191,
   "metadata": {
    "colab": {
     "base_uri": "https://localhost:8080/"
    },
    "id": "NeVhtoANsJBH",
    "outputId": "7196520f-9f03-411a-c992-b2fac0ee2162"
   },
   "outputs": [
    {
     "name": "stdout",
     "output_type": "stream",
     "text": [
      "18 18\n"
     ]
    }
   ],
   "source": [
    "word_ids = tokenized_input.word_ids()\n",
    "aligned_labels = [-100 if i is None else example[\"tags\"][i] for i in word_ids]\n",
    "print(len(aligned_labels), len(tokenized_input[\"input_ids\"]))"
   ]
  },
  {
   "cell_type": "markdown",
   "metadata": {
    "id": "MM4fgSPDsJBH"
   },
   "source": [
    "Здесь я устанавливаю значения всех специальных токенов как -100 (индекс, который игнорируется PyTorch), а метки всех остальных токенов на значение слова, из которого они происходят."
   ]
  },
  {
   "cell_type": "markdown",
   "metadata": {
    "id": "2C0hcmp9IrJQ"
   },
   "source": [
    "Внизу реализую функцию, которая будет токенайзить наши тексты. Мы отправляем предложения в токенизатор с аргументом truncation=True (для обрезания текстов, размер которых превышает максимальный размер, разрешенный моделью) и is_split_into_words=True"
   ]
  },
  {
   "cell_type": "code",
   "execution_count": 193,
   "metadata": {
    "id": "vc0BSBLIIrJQ"
   },
   "outputs": [],
   "source": [
    "def tokenize_and_align_labels(examples, label_all_tokens=False):\n",
    "    tokenized_inputs = tokenizer(examples[\"tokens\"], truncation=True, is_split_into_words=True)\n",
    "\n",
    "    labels = []\n",
    "    for i, label in enumerate(examples['tags']):\n",
    "        word_ids = tokenized_inputs.word_ids(batch_index=i)\n",
    "        previous_word_idx = None\n",
    "        label_ids = []\n",
    "        for word_idx in word_ids:\n",
    "            # Специльные токены помечены как None. Я ставлю значение -100, которое автоматически игнорируется в loss функции.\n",
    "            if word_idx is None:\n",
    "                label_ids.append(-100)\n",
    "            elif word_idx != previous_word_idx:\n",
    "                label_ids.append(label[word_idx])\n",
    "            else:\n",
    "                label_ids.append(label[word_idx] if label_all_tokens else -100)\n",
    "            previous_word_idx = word_idx\n",
    "\n",
    "        label_ids = [label_list.index(idx) if isinstance(idx, str) else idx for idx in label_ids]\n",
    "\n",
    "        labels.append(label_ids)\n",
    "\n",
    "    tokenized_inputs[\"labels\"] = labels\n",
    "    return tokenized_inputs"
   ]
  },
  {
   "cell_type": "code",
   "execution_count": 194,
   "metadata": {
    "colab": {
     "base_uri": "https://localhost:8080/"
    },
    "id": "-b70jh26IrJS",
    "outputId": "aa72aec3-ad19-4640-c371-95e06aaf5f0e"
   },
   "outputs": [
    {
     "data": {
      "text/plain": [
       "{'input_ids': [[2, 1041, 37038, 33265, 19106, 40305, 22018, 548, 22276, 320, 21538, 16, 47886, 548, 59614, 11137, 626, 56606, 700, 18, 3]], 'token_type_ids': [[0, 0, 0, 0, 0, 0, 0, 0, 0, 0, 0, 0, 0, 0, 0, 0, 0, 0, 0, 0, 0]], 'attention_mask': [[1, 1, 1, 1, 1, 1, 1, 1, 1, 1, 1, 1, 1, 1, 1, 1, 1, 1, 1, 1, 1]], 'labels': [[-100, 0, 0, 0, 0, 1, -100, 7, 7, 7, 7, 0, 0, 0, 0, -100, -100, 0, -100, 0, -100]]}"
      ]
     },
     "execution_count": 194,
     "metadata": {},
     "output_type": "execute_result"
    }
   ],
   "source": [
    "tokenize_and_align_labels(ner_data['train'][22:23])"
   ]
  },
  {
   "cell_type": "code",
   "execution_count": 32,
   "metadata": {
    "colab": {
     "base_uri": "https://localhost:8080/"
    },
    "id": "8_6fubVaa3zM",
    "outputId": "a10a23b3-f53d-4ce7-d283-f0f186e67c0b"
   },
   "outputs": [
    {
     "data": {
      "text/plain": [
       "{'tokens': [['На',\n",
       "   'следующее',\n",
       "   'утро',\n",
       "   'появились',\n",
       "   'высыпания',\n",
       "   'на',\n",
       "   'лице',\n",
       "   'и',\n",
       "   'руках',\n",
       "   ',',\n",
       "   'похожие',\n",
       "   'на',\n",
       "   'комариные',\n",
       "   'укусы',\n",
       "   '.']],\n",
       " 'tags': [['O',\n",
       "   'O',\n",
       "   'O',\n",
       "   'O',\n",
       "   'B-ADR',\n",
       "   'I-ADR',\n",
       "   'I-ADR',\n",
       "   'I-ADR',\n",
       "   'I-ADR',\n",
       "   'O',\n",
       "   'O',\n",
       "   'O',\n",
       "   'O',\n",
       "   'O',\n",
       "   'O']]}"
      ]
     },
     "execution_count": 32,
     "metadata": {},
     "output_type": "execute_result"
    }
   ],
   "source": [
    "ner_data['train'][22:23]"
   ]
  },
  {
   "cell_type": "markdown",
   "metadata": {
    "id": "zS-6iXTkIrJT"
   },
   "source": [
    "Замапим эту функцию на все предложения в нашем корпусе данных текстов "
   ]
  },
  {
   "cell_type": "code",
   "execution_count": 195,
   "metadata": {
    "colab": {
     "base_uri": "https://localhost:8080/",
     "height": 17,
     "referenced_widgets": [
      "71bb68ec4a2c4b849adc8807c00db508",
      "2bfa6005b0d24fda863cb6cd9add4347",
      "d20ee2ccaa334c428b957b27759ff052",
      "cca2893649524023b06d4a0b38f6a550",
      "ce428eaa81ed4b58ac6c3e4cb96e31d1",
      "0704516e82c14cb999ce0f6e75c8f2f8",
      "dbc6ab3be34a4168bd6a93ce4e9e2f25",
      "c30304adfb9449f99eac497285255800",
      "bb34cd5a19b3459ba0190799f1072e9e",
      "2f7c17becaa84e428df7c99a4dd490d2",
      "0d81fe03516e49a5b4471590db823ab1",
      "0149aa96f3b74a0b9fa92d4821f11502",
      "806e77dc79084270824b191149e4adf9",
      "3a4d217c2c8344b2a094525bb1d2a28a",
      "f349d863fefa443fa06c6c75e58d97d9",
      "960edf31999f4783afd21b3d022e6a55",
      "846f15f47fbb4613b559944280e98d9e",
      "b9a01454f8894851b84c87d4e49dbeb8",
      "23da0265a63742659931e5293ce2dd73",
      "10caece5d4e7484db33bef9756521a82",
      "c9f4395dac1d47d98086bb54a56bd02f",
      "7acbd544151f4747bd19938440eb85d1"
     ]
    },
    "id": "DDtsaJeVIrJT",
    "outputId": "5f2e0753-d6de-4413-e09d-849211588325"
   },
   "outputs": [
    {
     "data": {
      "application/vnd.jupyter.widget-view+json": {
       "model_id": "",
       "version_major": 2,
       "version_minor": 0
      },
      "text/plain": [
       "Map:   0%|          | 0/3847 [00:00<?, ? examples/s]"
      ]
     },
     "metadata": {},
     "output_type": "display_data"
    },
    {
     "data": {
      "application/vnd.jupyter.widget-view+json": {
       "model_id": "",
       "version_major": 2,
       "version_minor": 0
      },
      "text/plain": [
       "Map:   0%|          | 0/962 [00:00<?, ? examples/s]"
      ]
     },
     "metadata": {},
     "output_type": "display_data"
    }
   ],
   "source": [
    "tokenized_datasets = ner_data.map(tokenize_and_align_labels, batched=True)"
   ]
  },
  {
   "cell_type": "markdown",
   "metadata": {
    "id": "545PP3o8IrJV"
   },
   "source": [
    "## Fine-tuning the model"
   ]
  },
  {
   "cell_type": "markdown",
   "metadata": {
    "id": "FBiW8UpKIrJW"
   },
   "source": [
    "Используем `AutoModelForTokenClassification` класс, и как с токенайзером загружаем модель и кэш с помощью `from_pretrained` мотода:"
   ]
  },
  {
   "cell_type": "code",
   "execution_count": 246,
   "metadata": {
    "colab": {
     "base_uri": "https://localhost:8080/",
     "height": 188,
     "referenced_widgets": [
      "e61f6384c20c4c78ad952ac59e6d9d08",
      "6e27d317698d4795b3ad2bd9dd6dfcdf",
      "5491a799e3c042828c54f4c297ff552b",
      "bf86aa7176774a8d86559b04da826e9e",
      "1046e56154b14e11b96beaf0484298d9",
      "42bb2316c6844c10bb5481a87fbb1c33",
      "8c1ea0c553f54d8183312555f4f4f1ea",
      "9f9d12137e1a4fb09e3f663b84fffe55",
      "c3ac74d4a6e34a4eaa61b89f7bd6ab66",
      "a533cc3461d44c1081a51585673e36ca",
      "b3ebeb2d7ec746938ba64ae0e58853d9",
      "14a58d9d47ac48e6ae5a4e5d001df9c7",
      "dcfe20eefac74202be503d7ed3b00adb",
      "3937ba01dffa4c9c81b0b51ab46631d9",
      "5cfe0a38c73f4cfca1cbad3a9eb4dcb8",
      "a469070b38ba4bff948065fefab779da",
      "79c58d0995954933b466adc93354e0c0",
      "a26e79b1f83a40799078831757d66a26",
      "0620f8c257a64f3887e88237aa2f7d54",
      "8cf3b43f2eb442d4a785daae9cc28ba7",
      "db6c33f81a00472797e7e0f87633b52a",
      "b0eabe9ef3a04d7d8c110bc79a166ece"
     ]
    },
    "id": "TlqNaB8jIrJW",
    "outputId": "862ecaad-6bb3-4b9e-8ba7-34cbb42ce549"
   },
   "outputs": [
    {
     "name": "stderr",
     "output_type": "stream",
     "text": [
      "Some weights of the model checkpoint at cointegrated/rubert-tiny2 were not used when initializing BertForTokenClassification: ['cls.predictions.transform.LayerNorm.bias', 'cls.predictions.bias', 'cls.seq_relationship.bias', 'cls.seq_relationship.weight', 'cls.predictions.transform.LayerNorm.weight', 'cls.predictions.transform.dense.weight', 'cls.predictions.transform.dense.bias']\n",
      "- This IS expected if you are initializing BertForTokenClassification from the checkpoint of a model trained on another task or with another architecture (e.g. initializing a BertForSequenceClassification model from a BertForPreTraining model).\n",
      "- This IS NOT expected if you are initializing BertForTokenClassification from the checkpoint of a model that you expect to be exactly identical (initializing a BertForSequenceClassification model from a BertForSequenceClassification model).\n",
      "Some weights of BertForTokenClassification were not initialized from the model checkpoint at cointegrated/rubert-tiny2 and are newly initialized: ['classifier.bias', 'classifier.weight']\n",
      "You should probably TRAIN this model on a down-stream task to be able to use it for predictions and inference.\n"
     ]
    }
   ],
   "source": [
    "from transformers import AutoModelForTokenClassification, TrainingArguments, Trainer\n",
    "\n",
    "model = AutoModelForTokenClassification.from_pretrained(model_checkpoint, num_labels=len(label_list))\n",
    "model.config.id2label = dict(enumerate(label_list))\n",
    "model.config.label2id = {v: k for k, v in model.config.id2label.items()}"
   ]
  },
  {
   "cell_type": "markdown",
   "metadata": {
    "id": "_N8urzhyIrJY"
   },
   "source": [
    "Чтобы создать `Trainer` нам нужно объявить [`TrainingArguments`](https://huggingface.co/transformers/main_classes/trainer.html#transformers.TrainingArguments) со всеми атрибутами для обучения и fine-tuning'a модели:"
   ]
  },
  {
   "cell_type": "code",
   "execution_count": 247,
   "metadata": {
    "id": "Bliy8zgjIrJY"
   },
   "outputs": [],
   "source": [
    "args = TrainingArguments(\n",
    "    \"ner\",\n",
    "    evaluation_strategy = \"epoch\",\n",
    "    learning_rate=2e-5,\n",
    "    per_device_train_batch_size=batch_size,\n",
    "    per_device_eval_batch_size=batch_size,\n",
    "    num_train_epochs=10,\n",
    "    weight_decay=0.01,\n",
    "    save_strategy='no',\n",
    "    report_to='none',\n",
    "    include_inputs_for_metrics=True,\n",
    ")"
   ]
  },
  {
   "cell_type": "markdown",
   "metadata": {
    "id": "4e6jrE3TsJBM"
   },
   "source": [
    "Будем использоать data collator чтобы заппадить все примеры до одинакового размера, чтобы наши батчи были равными:"
   ]
  },
  {
   "cell_type": "code",
   "execution_count": 248,
   "metadata": {
    "id": "pyiUUwuCsJBM"
   },
   "outputs": [],
   "source": [
    "from transformers import DataCollatorForTokenClassification\n",
    "\n",
    "data_collator = DataCollatorForTokenClassification(tokenizer)"
   ]
  },
  {
   "cell_type": "markdown",
   "metadata": {
    "id": "YY7DtOOesJBM"
   },
   "source": [
    "Подгружаю [`seqeval`](https://github.com/chakki-works/seqeval) фрйемворк для подсчета метрик на предсказанных нашей моделью значениях меток классов токенов:"
   ]
  },
  {
   "cell_type": "code",
   "execution_count": 249,
   "metadata": {
    "colab": {
     "base_uri": "https://localhost:8080/",
     "height": 104,
     "referenced_widgets": [
      "e81a09eb55634a0880bb0bf536d5dc32",
      "21d3f2a82d8f458cb824e9fbbe9def3d",
      "2f00be623bb74e1caba2e7b5c8dece82",
      "03f30bf8df1949a88c96a4cc80e8f1a8",
      "faad65ea38cc4a66835ec2253f783afe",
      "eb9a00fb3d6b423e829c8b9a909d16ee",
      "0c56797b870d44d989ee019b429d1353",
      "60a91c5dced249848a63d1de2ef2cb2e",
      "2ad9584b4e6f411bb0f8e3ac95cc96f2",
      "25c227f737074221ac66a48618a54fae",
      "790d042afd6b4c158ca5d26f08371ca6"
     ]
    },
    "id": "qFF2_ArssJBM",
    "outputId": "5e5a6c6b-b002-4197-dbf9-358ae38dd40e"
   },
   "outputs": [],
   "source": [
    "metric = load_metric(\"seqeval\")"
   ]
  },
  {
   "cell_type": "markdown",
   "metadata": {
    "id": "Ennxn1jysJBM"
   },
   "source": [
    "Метрика берет list лейблов для предсказаний и таргетов. Попробуем указать `predictions` и `references` одинаковыми:"
   ]
  },
  {
   "cell_type": "code",
   "execution_count": 250,
   "metadata": {
    "colab": {
     "base_uri": "https://localhost:8080/"
    },
    "id": "YOfoAVULsJBN",
    "outputId": "c54e6dc3-bd8f-4145-cff9-d2c84891cf87"
   },
   "outputs": [
    {
     "data": {
      "text/plain": [
       "{'DI': {'precision': 1.0, 'recall': 1.0, 'f1': 1.0, 'number': 1},\n",
       " 'Drugform': {'precision': 1.0, 'recall': 1.0, 'f1': 1.0, 'number': 2},\n",
       " 'overall_precision': 1.0,\n",
       " 'overall_recall': 1.0,\n",
       " 'overall_f1': 1.0,\n",
       " 'overall_accuracy': 1.0}"
      ]
     },
     "execution_count": 250,
     "metadata": {},
     "output_type": "execute_result"
    }
   ],
   "source": [
    "example = ner_train[4]\n",
    "labels = example['tags']\n",
    "metric.compute(predictions=[labels], references=[labels])"
   ]
  },
  {
   "cell_type": "markdown",
   "metadata": {
    "id": "7sZOdRlRIrJd"
   },
   "source": [
    "Функция `compute_metrics` выполняет постобработку результата `Trainer.evaluate` (который представляет собой namedtuple, содержащий прогнозы и таргеты) перед применением подсчета метрик `metric.compute`:"
   ]
  },
  {
   "cell_type": "code",
   "execution_count": 251,
   "metadata": {
    "id": "AF98k2JArDMq"
   },
   "outputs": [],
   "source": [
    "import numpy as np\n",
    "\n",
    "def compute_metrics(p):\n",
    "    predictions, labels, inputs = p.predictions, p.label_ids, p.inputs\n",
    "    predictions = np.argmax(p.predictions, axis=2)\n",
    "\n",
    "    # send only the first token of each word to the evaluation\n",
    "    true_predictions = []\n",
    "    true_labels = []\n",
    "    for prediction, label, tokens in zip(predictions, labels, inputs):\n",
    "        true_predictions.append([])\n",
    "        true_labels.append([])\n",
    "        for (p, l, t) in zip(prediction, label, tokens):\n",
    "            if l != -100 and not tokenizer.convert_ids_to_tokens(int(t)).startswith('##'):\n",
    "                true_predictions[-1].append(label_list[p])\n",
    "                true_labels[-1].append(label_list[l])\n",
    "\n",
    "    results = metric.compute(predictions=true_predictions, references=true_labels, zero_division=0)\n",
    "    return {\n",
    "        \"precision\": results[\"overall_precision\"],\n",
    "        \"recall\": results[\"overall_recall\"],\n",
    "        \"f1\": results[\"overall_f1\"],\n",
    "        \"accuracy\": results[\"overall_accuracy\"],\n",
    "    }"
   ]
  },
  {
   "cell_type": "markdown",
   "metadata": {
    "id": "rXuFTAzDIrJe"
   },
   "source": [
    "Объявим `Trainer`, куда передадим нашу модель, сплиты и токеназйер, с подсчетом метрик:"
   ]
  },
  {
   "cell_type": "code",
   "execution_count": 252,
   "metadata": {
    "id": "imY1oC3SIrJf"
   },
   "outputs": [],
   "source": [
    "trainer = Trainer(\n",
    "    model,\n",
    "    args,\n",
    "    train_dataset=tokenized_datasets[\"train\"],\n",
    "    eval_dataset=tokenized_datasets[\"test\"],\n",
    "    data_collator=data_collator,\n",
    "    tokenizer=tokenizer,\n",
    "    compute_metrics=compute_metrics\n",
    ")"
   ]
  },
  {
   "cell_type": "code",
   "execution_count": 253,
   "metadata": {
    "colab": {
     "base_uri": "https://localhost:8080/",
     "height": 193
    },
    "id": "ZP1dvvNlXg9Y",
    "outputId": "648ee90d-8c89-4b04-c5f7-0ed4c037fca7"
   },
   "outputs": [
    {
     "name": "stderr",
     "output_type": "stream",
     "text": [
      "/home/jovyan/.imgenv-ars-100-2-80gb-0/lib/python3.7/site-packages/torch/nn/parallel/_functions.py:68: UserWarning: Was asked to gather along dimension 0, but all input tensors were scalars; will instead unsqueeze and return a vector.\n",
      "  warnings.warn('Was asked to gather along dimension 0, but all '\n"
     ]
    },
    {
     "data": {
      "text/html": [
       "\n",
       "    <div>\n",
       "      \n",
       "      <progress value='62' max='31' style='width:300px; height:20px; vertical-align: middle;'></progress>\n",
       "      [31/31 00:07]\n",
       "    </div>\n",
       "    "
      ],
      "text/plain": [
       "<IPython.core.display.HTML object>"
      ]
     },
     "metadata": {},
     "output_type": "display_data"
    },
    {
     "data": {
      "text/plain": [
       "{'eval_loss': 2.5856988430023193,\n",
       " 'eval_precision': 0.009246020398436755,\n",
       " 'eval_recall': 0.10253699788583509,\n",
       " 'eval_f1': 0.016962490163504415,\n",
       " 'eval_accuracy': 0.09824924281598582,\n",
       " 'eval_runtime': 1.0215,\n",
       " 'eval_samples_per_second': 941.758,\n",
       " 'eval_steps_per_second': 30.348}"
      ]
     },
     "execution_count": 253,
     "metadata": {},
     "output_type": "execute_result"
    }
   ],
   "source": [
    "trainer.evaluate()"
   ]
  },
  {
   "cell_type": "markdown",
   "metadata": {
    "id": "a-xw5JvKzyrf"
   },
   "source": [
    "#### 'eval_accuracy': 0.09824924281598582\n",
    "Как видим по `eval_accuracy` - результаты плохие, явно можно лучше. Сделаем в начале обучения заморозку всех параметров в модели, кроме последнего слоя, и посмотрим, насколько хорошо она обучится."
   ]
  },
  {
   "cell_type": "code",
   "execution_count": 254,
   "metadata": {
    "id": "lzwwl_YQWKxq"
   },
   "outputs": [],
   "source": [
    "for param in model.bert.parameters():\n",
    "    param.requires_grad = False"
   ]
  },
  {
   "cell_type": "code",
   "execution_count": 255,
   "metadata": {
    "colab": {
     "base_uri": "https://localhost:8080/"
    },
    "id": "EhRisAHxWZRG",
    "outputId": "1865074d-72d8-44a6-a0e1-102426f28668"
   },
   "outputs": [
    {
     "name": "stdout",
     "output_type": "stream",
     "text": [
      "classifier.weight\n",
      "Parameter containing:\n",
      "tensor([[-0.0028, -0.0077,  0.0072,  ...,  0.0136, -0.0096, -0.0042],\n",
      "        [ 0.0055, -0.0254,  0.0016,  ..., -0.0128,  0.0304,  0.0035],\n",
      "        [ 0.0530, -0.0260, -0.0194,  ..., -0.0048, -0.0108,  0.0080],\n",
      "        ...,\n",
      "        [-0.0274,  0.0244, -0.0038,  ...,  0.0081,  0.0057,  0.0079],\n",
      "        [ 0.0306, -0.0392, -0.0050,  ..., -0.0200, -0.0196, -0.0021],\n",
      "        [ 0.0127, -0.0098,  0.0271,  ...,  0.0346, -0.0143, -0.0129]],\n",
      "       device='cuda:0', requires_grad=True)\n",
      "classifier.bias\n",
      "Parameter containing:\n",
      "tensor([0., 0., 0., 0., 0., 0., 0., 0., 0., 0., 0., 0., 0.], device='cuda:0',\n",
      "       requires_grad=True)\n"
     ]
    }
   ],
   "source": [
    "for name, param in model.named_parameters():\n",
    "    if param.requires_grad:\n",
    "        print(name)\n",
    "        print(param)"
   ]
  },
  {
   "cell_type": "code",
   "execution_count": 256,
   "metadata": {
    "id": "nsuTXCjMeYHE"
   },
   "outputs": [],
   "source": [
    "import logging\n",
    "from transformers.trainer import logger as noisy_logger\n",
    "noisy_logger.setLevel(logging.WARNING)"
   ]
  },
  {
   "cell_type": "code",
   "execution_count": 257,
   "metadata": {
    "colab": {
     "base_uri": "https://localhost:8080/",
     "height": 498
    },
    "id": "yGz3c_A_sJBO",
    "outputId": "262904ec-44a2-4e50-feb0-cfe84fb403ad"
   },
   "outputs": [
    {
     "name": "stderr",
     "output_type": "stream",
     "text": [
      "/home/jovyan/.imgenv-ars-100-2-80gb-0/lib/python3.7/site-packages/transformers/optimization.py:415: FutureWarning: This implementation of AdamW is deprecated and will be removed in a future version. Use the PyTorch implementation torch.optim.AdamW instead, or set `no_deprecation_warning=True` to disable this warning\n",
      "  FutureWarning,\n"
     ]
    },
    {
     "data": {
      "text/html": [
       "\n",
       "    <div>\n",
       "      \n",
       "      <progress value='1210' max='1210' style='width:300px; height:20px; vertical-align: middle;'></progress>\n",
       "      [1210/1210 00:52, Epoch 10/10]\n",
       "    </div>\n",
       "    <table border=\"1\" class=\"dataframe\">\n",
       "  <thead>\n",
       " <tr style=\"text-align: left;\">\n",
       "      <th>Epoch</th>\n",
       "      <th>Training Loss</th>\n",
       "      <th>Validation Loss</th>\n",
       "      <th>Precision</th>\n",
       "      <th>Recall</th>\n",
       "      <th>F1</th>\n",
       "      <th>Accuracy</th>\n",
       "    </tr>\n",
       "  </thead>\n",
       "  <tbody>\n",
       "    <tr>\n",
       "      <td>1</td>\n",
       "      <td>No log</td>\n",
       "      <td>2.268893</td>\n",
       "      <td>0.013158</td>\n",
       "      <td>0.104651</td>\n",
       "      <td>0.023377</td>\n",
       "      <td>0.360346</td>\n",
       "    </tr>\n",
       "    <tr>\n",
       "      <td>2</td>\n",
       "      <td>No log</td>\n",
       "      <td>1.998460</td>\n",
       "      <td>0.019383</td>\n",
       "      <td>0.075053</td>\n",
       "      <td>0.030809</td>\n",
       "      <td>0.667504</td>\n",
       "    </tr>\n",
       "    <tr>\n",
       "      <td>3</td>\n",
       "      <td>No log</td>\n",
       "      <td>1.772536</td>\n",
       "      <td>0.032943</td>\n",
       "      <td>0.047569</td>\n",
       "      <td>0.038927</td>\n",
       "      <td>0.830021</td>\n",
       "    </tr>\n",
       "    <tr>\n",
       "      <td>4</td>\n",
       "      <td>No log</td>\n",
       "      <td>1.588418</td>\n",
       "      <td>0.051230</td>\n",
       "      <td>0.026427</td>\n",
       "      <td>0.034868</td>\n",
       "      <td>0.881436</td>\n",
       "    </tr>\n",
       "    <tr>\n",
       "      <td>5</td>\n",
       "      <td>2.031100</td>\n",
       "      <td>1.442692</td>\n",
       "      <td>0.056701</td>\n",
       "      <td>0.011628</td>\n",
       "      <td>0.019298</td>\n",
       "      <td>0.894733</td>\n",
       "    </tr>\n",
       "    <tr>\n",
       "      <td>6</td>\n",
       "      <td>2.031100</td>\n",
       "      <td>1.330649</td>\n",
       "      <td>0.061856</td>\n",
       "      <td>0.006342</td>\n",
       "      <td>0.011505</td>\n",
       "      <td>0.898574</td>\n",
       "    </tr>\n",
       "    <tr>\n",
       "      <td>7</td>\n",
       "      <td>2.031100</td>\n",
       "      <td>1.248439</td>\n",
       "      <td>0.098039</td>\n",
       "      <td>0.005285</td>\n",
       "      <td>0.010030</td>\n",
       "      <td>0.900052</td>\n",
       "    </tr>\n",
       "    <tr>\n",
       "      <td>8</td>\n",
       "      <td>2.031100</td>\n",
       "      <td>1.192462</td>\n",
       "      <td>0.161290</td>\n",
       "      <td>0.005285</td>\n",
       "      <td>0.010235</td>\n",
       "      <td>0.900717</td>\n",
       "    </tr>\n",
       "    <tr>\n",
       "      <td>9</td>\n",
       "      <td>1.351900</td>\n",
       "      <td>1.159981</td>\n",
       "      <td>0.200000</td>\n",
       "      <td>0.004228</td>\n",
       "      <td>0.008282</td>\n",
       "      <td>0.900864</td>\n",
       "    </tr>\n",
       "    <tr>\n",
       "      <td>10</td>\n",
       "      <td>1.351900</td>\n",
       "      <td>1.149274</td>\n",
       "      <td>0.222222</td>\n",
       "      <td>0.004228</td>\n",
       "      <td>0.008299</td>\n",
       "      <td>0.901012</td>\n",
       "    </tr>\n",
       "  </tbody>\n",
       "</table><p>"
      ],
      "text/plain": [
       "<IPython.core.display.HTML object>"
      ]
     },
     "metadata": {},
     "output_type": "display_data"
    },
    {
     "data": {
      "text/plain": [
       "TrainOutput(global_step=1210, training_loss=1.6027033151673877, metrics={'train_runtime': 52.846, 'train_samples_per_second': 727.964, 'train_steps_per_second': 22.897, 'total_flos': 29788281443220.0, 'train_loss': 1.6027033151673877, 'epoch': 10.0})"
      ]
     },
     "execution_count": 257,
     "metadata": {},
     "output_type": "execute_result"
    }
   ],
   "source": [
    "trainer.train()"
   ]
  },
  {
   "cell_type": "markdown",
   "metadata": {
    "id": "H14j1R3cbDPO"
   },
   "source": [
    "Модель недообучилась: похоже, что нужно обучить больше слоёв. Разморозим их все (но, воможно, более правильно было бы разморозить лишь несколько верхних), и поучимся ещё эпох 20."
   ]
  },
  {
   "cell_type": "code",
   "execution_count": 258,
   "metadata": {
    "id": "65soVR9sbE77"
   },
   "outputs": [],
   "source": [
    "# разморозка\n",
    "for param in model.parameters():\n",
    "    param.requires_grad = True"
   ]
  },
  {
   "cell_type": "code",
   "execution_count": 259,
   "metadata": {
    "id": "u-3sfj5ocug0"
   },
   "outputs": [],
   "source": [
    "args = TrainingArguments(\n",
    "    \"ner\",\n",
    "    evaluation_strategy = \"epoch\",\n",
    "    learning_rate=1e-5,\n",
    "    per_device_train_batch_size=batch_size,\n",
    "    per_device_eval_batch_size=batch_size,\n",
    "    num_train_epochs=20,\n",
    "    weight_decay=0.01,\n",
    "    save_strategy='no',\n",
    "    report_to='none',\n",
    "    include_inputs_for_metrics=True,\n",
    ")"
   ]
  },
  {
   "cell_type": "code",
   "execution_count": 260,
   "metadata": {
    "id": "wGW0r33pdLOy"
   },
   "outputs": [],
   "source": [
    "trainer = Trainer(\n",
    "    model,\n",
    "    args,\n",
    "    train_dataset=tokenized_datasets[\"train\"],\n",
    "    eval_dataset=tokenized_datasets[\"test\"],\n",
    "    data_collator=data_collator,\n",
    "    tokenizer=tokenizer,\n",
    "    compute_metrics=compute_metrics\n",
    ")"
   ]
  },
  {
   "cell_type": "code",
   "execution_count": 261,
   "metadata": {
    "colab": {
     "base_uri": "https://localhost:8080/",
     "height": 737
    },
    "id": "C5nZBs-BbFRq",
    "outputId": "5cbce886-49ef-43fc-9ff6-37ae6abcd8d0"
   },
   "outputs": [
    {
     "data": {
      "text/html": [
       "\n",
       "    <div>\n",
       "      \n",
       "      <progress value='2420' max='2420' style='width:300px; height:20px; vertical-align: middle;'></progress>\n",
       "      [2420/2420 02:17, Epoch 20/20]\n",
       "    </div>\n",
       "    <table border=\"1\" class=\"dataframe\">\n",
       "  <thead>\n",
       " <tr style=\"text-align: left;\">\n",
       "      <th>Epoch</th>\n",
       "      <th>Training Loss</th>\n",
       "      <th>Validation Loss</th>\n",
       "      <th>Precision</th>\n",
       "      <th>Recall</th>\n",
       "      <th>F1</th>\n",
       "      <th>Accuracy</th>\n",
       "    </tr>\n",
       "  </thead>\n",
       "  <tbody>\n",
       "    <tr>\n",
       "      <td>1</td>\n",
       "      <td>No log</td>\n",
       "      <td>0.388690</td>\n",
       "      <td>0.549020</td>\n",
       "      <td>0.029598</td>\n",
       "      <td>0.056169</td>\n",
       "      <td>0.903228</td>\n",
       "    </tr>\n",
       "    <tr>\n",
       "      <td>2</td>\n",
       "      <td>No log</td>\n",
       "      <td>0.325891</td>\n",
       "      <td>0.432039</td>\n",
       "      <td>0.282241</td>\n",
       "      <td>0.341432</td>\n",
       "      <td>0.918372</td>\n",
       "    </tr>\n",
       "    <tr>\n",
       "      <td>3</td>\n",
       "      <td>No log</td>\n",
       "      <td>0.294819</td>\n",
       "      <td>0.476383</td>\n",
       "      <td>0.373150</td>\n",
       "      <td>0.418494</td>\n",
       "      <td>0.924799</td>\n",
       "    </tr>\n",
       "    <tr>\n",
       "      <td>4</td>\n",
       "      <td>No log</td>\n",
       "      <td>0.275313</td>\n",
       "      <td>0.462601</td>\n",
       "      <td>0.424947</td>\n",
       "      <td>0.442975</td>\n",
       "      <td>0.926941</td>\n",
       "    </tr>\n",
       "    <tr>\n",
       "      <td>5</td>\n",
       "      <td>0.359800</td>\n",
       "      <td>0.260409</td>\n",
       "      <td>0.484581</td>\n",
       "      <td>0.465116</td>\n",
       "      <td>0.474649</td>\n",
       "      <td>0.930413</td>\n",
       "    </tr>\n",
       "    <tr>\n",
       "      <td>6</td>\n",
       "      <td>0.359800</td>\n",
       "      <td>0.248822</td>\n",
       "      <td>0.490967</td>\n",
       "      <td>0.488372</td>\n",
       "      <td>0.489666</td>\n",
       "      <td>0.932555</td>\n",
       "    </tr>\n",
       "    <tr>\n",
       "      <td>7</td>\n",
       "      <td>0.359800</td>\n",
       "      <td>0.240835</td>\n",
       "      <td>0.498477</td>\n",
       "      <td>0.519027</td>\n",
       "      <td>0.508545</td>\n",
       "      <td>0.934328</td>\n",
       "    </tr>\n",
       "    <tr>\n",
       "      <td>8</td>\n",
       "      <td>0.359800</td>\n",
       "      <td>0.232761</td>\n",
       "      <td>0.520790</td>\n",
       "      <td>0.529598</td>\n",
       "      <td>0.525157</td>\n",
       "      <td>0.936544</td>\n",
       "    </tr>\n",
       "    <tr>\n",
       "      <td>9</td>\n",
       "      <td>0.222300</td>\n",
       "      <td>0.227617</td>\n",
       "      <td>0.509785</td>\n",
       "      <td>0.550740</td>\n",
       "      <td>0.529472</td>\n",
       "      <td>0.937357</td>\n",
       "    </tr>\n",
       "    <tr>\n",
       "      <td>10</td>\n",
       "      <td>0.222300</td>\n",
       "      <td>0.222630</td>\n",
       "      <td>0.531936</td>\n",
       "      <td>0.563425</td>\n",
       "      <td>0.547228</td>\n",
       "      <td>0.939130</td>\n",
       "    </tr>\n",
       "    <tr>\n",
       "      <td>11</td>\n",
       "      <td>0.222300</td>\n",
       "      <td>0.218251</td>\n",
       "      <td>0.541750</td>\n",
       "      <td>0.576110</td>\n",
       "      <td>0.558402</td>\n",
       "      <td>0.940681</td>\n",
       "    </tr>\n",
       "    <tr>\n",
       "      <td>12</td>\n",
       "      <td>0.222300</td>\n",
       "      <td>0.214657</td>\n",
       "      <td>0.551690</td>\n",
       "      <td>0.586681</td>\n",
       "      <td>0.568648</td>\n",
       "      <td>0.941937</td>\n",
       "    </tr>\n",
       "    <tr>\n",
       "      <td>13</td>\n",
       "      <td>0.188100</td>\n",
       "      <td>0.211384</td>\n",
       "      <td>0.562500</td>\n",
       "      <td>0.589852</td>\n",
       "      <td>0.575851</td>\n",
       "      <td>0.943414</td>\n",
       "    </tr>\n",
       "    <tr>\n",
       "      <td>14</td>\n",
       "      <td>0.188100</td>\n",
       "      <td>0.209883</td>\n",
       "      <td>0.553295</td>\n",
       "      <td>0.603594</td>\n",
       "      <td>0.577351</td>\n",
       "      <td>0.943414</td>\n",
       "    </tr>\n",
       "    <tr>\n",
       "      <td>15</td>\n",
       "      <td>0.188100</td>\n",
       "      <td>0.208176</td>\n",
       "      <td>0.554171</td>\n",
       "      <td>0.610994</td>\n",
       "      <td>0.581197</td>\n",
       "      <td>0.943931</td>\n",
       "    </tr>\n",
       "    <tr>\n",
       "      <td>16</td>\n",
       "      <td>0.188100</td>\n",
       "      <td>0.206222</td>\n",
       "      <td>0.562136</td>\n",
       "      <td>0.612051</td>\n",
       "      <td>0.586032</td>\n",
       "      <td>0.944818</td>\n",
       "    </tr>\n",
       "    <tr>\n",
       "      <td>17</td>\n",
       "      <td>0.168900</td>\n",
       "      <td>0.205456</td>\n",
       "      <td>0.555556</td>\n",
       "      <td>0.618393</td>\n",
       "      <td>0.585293</td>\n",
       "      <td>0.944375</td>\n",
       "    </tr>\n",
       "    <tr>\n",
       "      <td>18</td>\n",
       "      <td>0.168900</td>\n",
       "      <td>0.204495</td>\n",
       "      <td>0.561487</td>\n",
       "      <td>0.622622</td>\n",
       "      <td>0.590476</td>\n",
       "      <td>0.945113</td>\n",
       "    </tr>\n",
       "    <tr>\n",
       "      <td>19</td>\n",
       "      <td>0.168900</td>\n",
       "      <td>0.203880</td>\n",
       "      <td>0.569767</td>\n",
       "      <td>0.621564</td>\n",
       "      <td>0.594540</td>\n",
       "      <td>0.945483</td>\n",
       "    </tr>\n",
       "    <tr>\n",
       "      <td>20</td>\n",
       "      <td>0.168900</td>\n",
       "      <td>0.203967</td>\n",
       "      <td>0.564347</td>\n",
       "      <td>0.625793</td>\n",
       "      <td>0.593484</td>\n",
       "      <td>0.945335</td>\n",
       "    </tr>\n",
       "  </tbody>\n",
       "</table><p>"
      ],
      "text/plain": [
       "<IPython.core.display.HTML object>"
      ]
     },
     "metadata": {},
     "output_type": "display_data"
    },
    {
     "data": {
      "text/plain": [
       "TrainOutput(global_step=2420, training_loss=0.2224559783935547, metrics={'train_runtime': 137.7917, 'train_samples_per_second': 558.379, 'train_steps_per_second': 17.563, 'total_flos': 59637835203600.0, 'train_loss': 0.2224559783935547, 'epoch': 20.0})"
      ]
     },
     "execution_count": 261,
     "metadata": {},
     "output_type": "execute_result"
    }
   ],
   "source": [
    "trainer.train()"
   ]
  },
  {
   "cell_type": "code",
   "execution_count": 262,
   "metadata": {
    "colab": {
     "base_uri": "https://localhost:8080/",
     "height": 193
    },
    "id": "UOUcBkX8IrJi",
    "outputId": "04d126f7-5b60-4eb9-ca4c-396cb95907d9"
   },
   "outputs": [
    {
     "data": {
      "text/html": [],
      "text/plain": [
       "<IPython.core.display.HTML object>"
      ]
     },
     "metadata": {},
     "output_type": "display_data"
    },
    {
     "data": {
      "text/plain": [
       "{'eval_loss': 0.2039673626422882,\n",
       " 'eval_precision': 0.5643469971401335,\n",
       " 'eval_recall': 0.6257928118393234,\n",
       " 'eval_f1': 0.593483709273183,\n",
       " 'eval_accuracy': 0.9453350077565191,\n",
       " 'eval_runtime': 0.9588,\n",
       " 'eval_samples_per_second': 1003.307,\n",
       " 'eval_steps_per_second': 32.331,\n",
       " 'epoch': 20.0}"
      ]
     },
     "execution_count": 262,
     "metadata": {},
     "output_type": "execute_result"
    }
   ],
   "source": [
    "trainer.evaluate()"
   ]
  },
  {
   "cell_type": "markdown",
   "metadata": {
    "id": "BaMhVjZ-sJBO"
   },
   "source": [
    "#### 'eval_accuracy': 0.9453350077565191\n",
    "Результаты на отложенной выборке уже лучше, сделаем `predict` для каждого вида лейбла класса и усредним значения:"
   ]
  },
  {
   "cell_type": "code",
   "execution_count": 263,
   "metadata": {
    "colab": {
     "base_uri": "https://localhost:8080/",
     "height": 506
    },
    "id": "f3BZ6wsDx0RI",
    "outputId": "8db844a3-6497-4be8-f1c7-24845674c2ca"
   },
   "outputs": [
    {
     "name": "stderr",
     "output_type": "stream",
     "text": [
      "/home/jovyan/.imgenv-ars-100-2-80gb-0/lib/python3.7/site-packages/seqeval/metrics/v1.py:57: UndefinedMetricWarning: Precision and F-score are ill-defined and being set to 0.0 in labels with no predicted samples. Use `zero_division` parameter to control this behavior.\n",
      "  _warn_prf(average, modifier, msg_start, len(result))\n"
     ]
    },
    {
     "data": {
      "text/plain": [
       "{'ADR': {'precision': 0.22641509433962265,\n",
       "  'recall': 0.1610738255033557,\n",
       "  'f1': 0.18823529411764703,\n",
       "  'number': 149},\n",
       " 'DI': {'precision': 0.37748344370860926,\n",
       "  'recall': 0.6333333333333333,\n",
       "  'f1': 0.4730290456431535,\n",
       "  'number': 270},\n",
       " 'Drugclass': {'precision': 0.8809523809523809,\n",
       "  'recall': 0.5068493150684932,\n",
       "  'f1': 0.6434782608695652,\n",
       "  'number': 73},\n",
       " 'Drugform': {'precision': 0.8532608695652174,\n",
       "  'recall': 0.9127906976744186,\n",
       "  'f1': 0.8820224719101123,\n",
       "  'number': 172},\n",
       " 'Drugname': {'precision': 0.7689393939393939,\n",
       "  'recall': 0.8982300884955752,\n",
       "  'f1': 0.8285714285714285,\n",
       "  'number': 226},\n",
       " 'Finding': {'precision': 0.0, 'recall': 0.0, 'f1': 0.0, 'number': 56},\n",
       " 'overall_precision': 0.5643469971401335,\n",
       " 'overall_recall': 0.6257928118393234,\n",
       " 'overall_f1': 0.593483709273183,\n",
       " 'overall_accuracy': 0.9453350077565191}"
      ]
     },
     "execution_count": 263,
     "metadata": {},
     "output_type": "execute_result"
    }
   ],
   "source": [
    "p = trainer.predict(tokenized_datasets[\"test\"])\n",
    "\n",
    "predictions, labels, inputs = p.predictions, p.label_ids, tokenized_datasets[\"test\"]['input_ids']\n",
    "predictions = np.argmax(p.predictions, axis=2)\n",
    "\n",
    "# используем только первый токен каждого слова для эвалюйта\n",
    "true_predictions = []\n",
    "true_labels = []\n",
    "for prediction, label, tokens in zip(predictions, labels, inputs):\n",
    "    true_predictions.append([])\n",
    "    true_labels.append([])\n",
    "    for (p, l, t) in zip(prediction, label, tokens):\n",
    "        if l != -100 and not tokenizer.convert_ids_to_tokens(int(t)).startswith('##'):\n",
    "            true_predictions[-1].append(label_list[p])\n",
    "            true_labels[-1].append(label_list[l])\n",
    "\n",
    "results = metric.compute(predictions=true_predictions, references=true_labels)\n",
    "results"
   ]
  },
  {
   "cell_type": "markdown",
   "metadata": {},
   "source": [
    "Построим `confusion_matrix` и посмотрим на взаимосвязи между лейблами классов токенов:"
   ]
  },
  {
   "cell_type": "code",
   "execution_count": 264,
   "metadata": {
    "id": "nI18Xeda7X8a"
   },
   "outputs": [],
   "source": [
    "from sklearn.metrics import confusion_matrix\n",
    "import pandas as pd"
   ]
  },
  {
   "cell_type": "code",
   "execution_count": 265,
   "metadata": {
    "colab": {
     "base_uri": "https://localhost:8080/",
     "height": 457
    },
    "id": "Yz9BkfrO7bg6",
    "outputId": "81a13c84-df51-409d-c341-181f209a98b9"
   },
   "outputs": [
    {
     "data": {
      "text/html": [
       "<div>\n",
       "<style scoped>\n",
       "    .dataframe tbody tr th:only-of-type {\n",
       "        vertical-align: middle;\n",
       "    }\n",
       "\n",
       "    .dataframe tbody tr th {\n",
       "        vertical-align: top;\n",
       "    }\n",
       "\n",
       "    .dataframe thead th {\n",
       "        text-align: right;\n",
       "    }\n",
       "</style>\n",
       "<table border=\"1\" class=\"dataframe\">\n",
       "  <thead>\n",
       "    <tr style=\"text-align: right;\">\n",
       "      <th></th>\n",
       "      <th>O</th>\n",
       "      <th>B-ADR</th>\n",
       "      <th>B-DI</th>\n",
       "      <th>B-Drugclass</th>\n",
       "      <th>B-Drugform</th>\n",
       "      <th>B-Drugname</th>\n",
       "      <th>B-Finding</th>\n",
       "      <th>I-ADR</th>\n",
       "      <th>I-DI</th>\n",
       "      <th>I-Drugclass</th>\n",
       "      <th>I-Drugform</th>\n",
       "      <th>I-Drugname</th>\n",
       "      <th>I-Finding</th>\n",
       "    </tr>\n",
       "  </thead>\n",
       "  <tbody>\n",
       "    <tr>\n",
       "      <th>O</th>\n",
       "      <td>12064</td>\n",
       "      <td>11</td>\n",
       "      <td>42</td>\n",
       "      <td>2</td>\n",
       "      <td>21</td>\n",
       "      <td>20</td>\n",
       "      <td>0</td>\n",
       "      <td>7</td>\n",
       "      <td>28</td>\n",
       "      <td>0</td>\n",
       "      <td>0</td>\n",
       "      <td>0</td>\n",
       "      <td>0</td>\n",
       "    </tr>\n",
       "    <tr>\n",
       "      <th>B-ADR</th>\n",
       "      <td>43</td>\n",
       "      <td>32</td>\n",
       "      <td>65</td>\n",
       "      <td>0</td>\n",
       "      <td>0</td>\n",
       "      <td>1</td>\n",
       "      <td>0</td>\n",
       "      <td>7</td>\n",
       "      <td>1</td>\n",
       "      <td>0</td>\n",
       "      <td>0</td>\n",
       "      <td>0</td>\n",
       "      <td>0</td>\n",
       "    </tr>\n",
       "    <tr>\n",
       "      <th>B-DI</th>\n",
       "      <td>58</td>\n",
       "      <td>3</td>\n",
       "      <td>189</td>\n",
       "      <td>2</td>\n",
       "      <td>2</td>\n",
       "      <td>8</td>\n",
       "      <td>0</td>\n",
       "      <td>1</td>\n",
       "      <td>7</td>\n",
       "      <td>0</td>\n",
       "      <td>0</td>\n",
       "      <td>0</td>\n",
       "      <td>0</td>\n",
       "    </tr>\n",
       "    <tr>\n",
       "      <th>B-Drugclass</th>\n",
       "      <td>8</td>\n",
       "      <td>0</td>\n",
       "      <td>21</td>\n",
       "      <td>37</td>\n",
       "      <td>1</td>\n",
       "      <td>6</td>\n",
       "      <td>0</td>\n",
       "      <td>0</td>\n",
       "      <td>0</td>\n",
       "      <td>0</td>\n",
       "      <td>0</td>\n",
       "      <td>0</td>\n",
       "      <td>0</td>\n",
       "    </tr>\n",
       "    <tr>\n",
       "      <th>B-Drugform</th>\n",
       "      <td>11</td>\n",
       "      <td>0</td>\n",
       "      <td>0</td>\n",
       "      <td>0</td>\n",
       "      <td>158</td>\n",
       "      <td>3</td>\n",
       "      <td>0</td>\n",
       "      <td>0</td>\n",
       "      <td>0</td>\n",
       "      <td>0</td>\n",
       "      <td>0</td>\n",
       "      <td>0</td>\n",
       "      <td>0</td>\n",
       "    </tr>\n",
       "    <tr>\n",
       "      <th>B-Drugname</th>\n",
       "      <td>5</td>\n",
       "      <td>0</td>\n",
       "      <td>2</td>\n",
       "      <td>0</td>\n",
       "      <td>2</td>\n",
       "      <td>217</td>\n",
       "      <td>0</td>\n",
       "      <td>0</td>\n",
       "      <td>0</td>\n",
       "      <td>0</td>\n",
       "      <td>0</td>\n",
       "      <td>0</td>\n",
       "      <td>0</td>\n",
       "    </tr>\n",
       "    <tr>\n",
       "      <th>B-Finding</th>\n",
       "      <td>13</td>\n",
       "      <td>5</td>\n",
       "      <td>36</td>\n",
       "      <td>0</td>\n",
       "      <td>0</td>\n",
       "      <td>1</td>\n",
       "      <td>0</td>\n",
       "      <td>0</td>\n",
       "      <td>1</td>\n",
       "      <td>0</td>\n",
       "      <td>0</td>\n",
       "      <td>0</td>\n",
       "      <td>0</td>\n",
       "    </tr>\n",
       "    <tr>\n",
       "      <th>I-ADR</th>\n",
       "      <td>65</td>\n",
       "      <td>11</td>\n",
       "      <td>12</td>\n",
       "      <td>0</td>\n",
       "      <td>0</td>\n",
       "      <td>0</td>\n",
       "      <td>0</td>\n",
       "      <td>42</td>\n",
       "      <td>39</td>\n",
       "      <td>0</td>\n",
       "      <td>0</td>\n",
       "      <td>0</td>\n",
       "      <td>0</td>\n",
       "    </tr>\n",
       "    <tr>\n",
       "      <th>I-DI</th>\n",
       "      <td>81</td>\n",
       "      <td>2</td>\n",
       "      <td>30</td>\n",
       "      <td>0</td>\n",
       "      <td>0</td>\n",
       "      <td>0</td>\n",
       "      <td>0</td>\n",
       "      <td>5</td>\n",
       "      <td>58</td>\n",
       "      <td>0</td>\n",
       "      <td>0</td>\n",
       "      <td>0</td>\n",
       "      <td>0</td>\n",
       "    </tr>\n",
       "    <tr>\n",
       "      <th>I-Drugclass</th>\n",
       "      <td>0</td>\n",
       "      <td>0</td>\n",
       "      <td>0</td>\n",
       "      <td>1</td>\n",
       "      <td>0</td>\n",
       "      <td>0</td>\n",
       "      <td>0</td>\n",
       "      <td>0</td>\n",
       "      <td>0</td>\n",
       "      <td>0</td>\n",
       "      <td>0</td>\n",
       "      <td>0</td>\n",
       "      <td>0</td>\n",
       "    </tr>\n",
       "    <tr>\n",
       "      <th>I-Drugform</th>\n",
       "      <td>3</td>\n",
       "      <td>0</td>\n",
       "      <td>0</td>\n",
       "      <td>0</td>\n",
       "      <td>0</td>\n",
       "      <td>0</td>\n",
       "      <td>0</td>\n",
       "      <td>0</td>\n",
       "      <td>0</td>\n",
       "      <td>0</td>\n",
       "      <td>0</td>\n",
       "      <td>0</td>\n",
       "      <td>0</td>\n",
       "    </tr>\n",
       "    <tr>\n",
       "      <th>I-Drugname</th>\n",
       "      <td>15</td>\n",
       "      <td>0</td>\n",
       "      <td>1</td>\n",
       "      <td>0</td>\n",
       "      <td>0</td>\n",
       "      <td>8</td>\n",
       "      <td>0</td>\n",
       "      <td>1</td>\n",
       "      <td>1</td>\n",
       "      <td>0</td>\n",
       "      <td>0</td>\n",
       "      <td>0</td>\n",
       "      <td>0</td>\n",
       "    </tr>\n",
       "    <tr>\n",
       "      <th>I-Finding</th>\n",
       "      <td>7</td>\n",
       "      <td>3</td>\n",
       "      <td>4</td>\n",
       "      <td>0</td>\n",
       "      <td>0</td>\n",
       "      <td>0</td>\n",
       "      <td>0</td>\n",
       "      <td>1</td>\n",
       "      <td>6</td>\n",
       "      <td>0</td>\n",
       "      <td>0</td>\n",
       "      <td>0</td>\n",
       "      <td>0</td>\n",
       "    </tr>\n",
       "  </tbody>\n",
       "</table>\n",
       "</div>"
      ],
      "text/plain": [
       "                 O  B-ADR  B-DI  B-Drugclass  B-Drugform  B-Drugname  \\\n",
       "O            12064     11    42            2          21          20   \n",
       "B-ADR           43     32    65            0           0           1   \n",
       "B-DI            58      3   189            2           2           8   \n",
       "B-Drugclass      8      0    21           37           1           6   \n",
       "B-Drugform      11      0     0            0         158           3   \n",
       "B-Drugname       5      0     2            0           2         217   \n",
       "B-Finding       13      5    36            0           0           1   \n",
       "I-ADR           65     11    12            0           0           0   \n",
       "I-DI            81      2    30            0           0           0   \n",
       "I-Drugclass      0      0     0            1           0           0   \n",
       "I-Drugform       3      0     0            0           0           0   \n",
       "I-Drugname      15      0     1            0           0           8   \n",
       "I-Finding        7      3     4            0           0           0   \n",
       "\n",
       "             B-Finding  I-ADR  I-DI  I-Drugclass  I-Drugform  I-Drugname  \\\n",
       "O                    0      7    28            0           0           0   \n",
       "B-ADR                0      7     1            0           0           0   \n",
       "B-DI                 0      1     7            0           0           0   \n",
       "B-Drugclass          0      0     0            0           0           0   \n",
       "B-Drugform           0      0     0            0           0           0   \n",
       "B-Drugname           0      0     0            0           0           0   \n",
       "B-Finding            0      0     1            0           0           0   \n",
       "I-ADR                0     42    39            0           0           0   \n",
       "I-DI                 0      5    58            0           0           0   \n",
       "I-Drugclass          0      0     0            0           0           0   \n",
       "I-Drugform           0      0     0            0           0           0   \n",
       "I-Drugname           0      1     1            0           0           0   \n",
       "I-Finding            0      1     6            0           0           0   \n",
       "\n",
       "             I-Finding  \n",
       "O                    0  \n",
       "B-ADR                0  \n",
       "B-DI                 0  \n",
       "B-Drugclass          0  \n",
       "B-Drugform           0  \n",
       "B-Drugname           0  \n",
       "B-Finding            0  \n",
       "I-ADR                0  \n",
       "I-DI                 0  \n",
       "I-Drugclass          0  \n",
       "I-Drugform           0  \n",
       "I-Drugname           0  \n",
       "I-Finding            0  "
      ]
     },
     "execution_count": 265,
     "metadata": {},
     "output_type": "execute_result"
    }
   ],
   "source": [
    "cm = pd.DataFrame(\n",
    "    confusion_matrix(sum(true_labels, []), sum(true_predictions, []), labels=label_list),\n",
    "    index=label_list,\n",
    "    columns=label_list\n",
    ")\n",
    "cm"
   ]
  },
  {
   "cell_type": "code",
   "execution_count": 266,
   "metadata": {
    "colab": {
     "base_uri": "https://localhost:8080/"
    },
    "id": "cA0jWZwjVbI7",
    "outputId": "b7a296d4-a191-4453-c791-ee9149ee7d56"
   },
   "outputs": [
    {
     "data": {
      "text/plain": [
       "('ner_bert.bin/tokenizer_config.json',\n",
       " 'ner_bert.bin/special_tokens_map.json',\n",
       " 'ner_bert.bin/vocab.txt',\n",
       " 'ner_bert.bin/added_tokens.json',\n",
       " 'ner_bert.bin/tokenizer.json')"
      ]
     },
     "execution_count": 266,
     "metadata": {},
     "output_type": "execute_result"
    }
   ],
   "source": [
    "model.save_pretrained('ner_bert.bin')\n",
    "tokenizer.save_pretrained('ner_bert.bin')"
   ]
  },
  {
   "cell_type": "markdown",
   "metadata": {
    "id": "C5yv9hItsJBP"
   },
   "source": [
    "# Применение модели"
   ]
  },
  {
   "cell_type": "code",
   "execution_count": 267,
   "metadata": {
    "id": "p0JHjRKmuv_m"
   },
   "outputs": [],
   "source": [
    "import torch"
   ]
  },
  {
   "cell_type": "code",
   "execution_count": 268,
   "metadata": {
    "colab": {
     "base_uri": "https://localhost:8080/",
     "height": 35
    },
    "id": "Kp59uTtXZKT4",
    "outputId": "7c191f78-858a-4796-be6f-97e9b21093ae"
   },
   "outputs": [
    {
     "data": {
      "text/plain": [
       "'Совсем недавно началась весенняя аллергия, попробовал преобрести Зодак в аптеке, средсто очень хорошо помогает.'"
      ]
     },
     "execution_count": 268,
     "metadata": {},
     "output_type": "execute_result"
    }
   ],
   "source": [
    "# text = ' '.join(ner_test[4]['tokens'])  # 458 is example of a difficult text\n",
    "text = \"Совсем недавно началась весенняя аллергия, попробовал преобрести Зодак в аптеке, средсто очень хорошо помогает.\"\n",
    "text"
   ]
  },
  {
   "cell_type": "code",
   "execution_count": 269,
   "metadata": {
    "colab": {
     "base_uri": "https://localhost:8080/"
    },
    "id": "Yt8EXbDuuB1U",
    "outputId": "e2bf7890-01b2-4ea1-e8fe-f561fc89ec5b"
   },
   "outputs": [
    {
     "data": {
      "text/plain": [
       "{'input_ids': tensor([[    2, 46015, 30697, 18746, 30356, 80093, 76809,    16, 63444, 33098,\n",
       "         31564,   287,  7525,   865,   314, 57742,    16, 14276, 13151,  6003,\n",
       "         14105, 30903,    18,     3]], device='cuda:0'), 'token_type_ids': tensor([[0, 0, 0, 0, 0, 0, 0, 0, 0, 0, 0, 0, 0, 0, 0, 0, 0, 0, 0, 0, 0, 0, 0, 0]],\n",
       "       device='cuda:0'), 'attention_mask': tensor([[1, 1, 1, 1, 1, 1, 1, 1, 1, 1, 1, 1, 1, 1, 1, 1, 1, 1, 1, 1, 1, 1, 1, 1]],\n",
       "       device='cuda:0')}"
      ]
     },
     "execution_count": 269,
     "metadata": {},
     "output_type": "execute_result"
    }
   ],
   "source": [
    "tokens = tokenizer(text, return_tensors='pt').to(model.device)\n",
    "tokens"
   ]
  },
  {
   "cell_type": "code",
   "execution_count": 270,
   "metadata": {},
   "outputs": [
    {
     "data": {
      "text/plain": [
       "torch.Size([1, 24, 13])"
      ]
     },
     "execution_count": 270,
     "metadata": {},
     "output_type": "execute_result"
    }
   ],
   "source": [
    "with torch.no_grad():\n",
    "    pred = model(**tokens)\n",
    "pred.logits.shape"
   ]
  },
  {
   "cell_type": "code",
   "execution_count": 271,
   "metadata": {},
   "outputs": [
    {
     "data": {
      "text/plain": [
       "array([0, 0, 0, 0, 0, 0, 2, 0, 0, 0, 0, 5, 5, 0, 0, 0, 0, 0, 0, 0, 0, 0,\n",
       "       0, 0])"
      ]
     },
     "execution_count": 271,
     "metadata": {},
     "output_type": "execute_result"
    }
   ],
   "source": [
    "indices = pred.logits.argmax(dim=-1)[0].cpu().numpy()\n",
    "indices"
   ]
  },
  {
   "cell_type": "code",
   "execution_count": 272,
   "metadata": {
    "colab": {
     "base_uri": "https://localhost:8080/"
    },
    "id": "2GQPlbnyuu6H",
    "outputId": "3770cc87-b914-4e0b-9df8-06237925b2e5"
   },
   "outputs": [
    {
     "name": "stdout",
     "output_type": "stream",
     "text": [
      "[CLS]           O         \n",
      "Совсем          O         \n",
      "недавно         O         \n",
      "началась        O         \n",
      "весе            O         \n",
      "##нняя          O         \n",
      "аллергия        B-DI      \n",
      ",               O         \n",
      "попробовал      O         \n",
      "преоб           O         \n",
      "##рести         O         \n",
      "З               B-Drugname\n",
      "##ода           B-Drugname\n",
      "##к             O         \n",
      "в               O         \n",
      "аптеке          O         \n",
      ",               O         \n",
      "сред            O         \n",
      "##сто           O         \n",
      "очень           O         \n",
      "хорошо          O         \n",
      "помогает        O         \n",
      ".               O         \n",
      "[SEP]           O         \n"
     ]
    }
   ],
   "source": [
    "indices = pred.logits.argmax(dim=-1)[0].cpu().numpy()\n",
    "token_text = tokenizer.convert_ids_to_tokens(tokens['input_ids'][0])\n",
    "for t, idx in zip(token_text, indices):\n",
    "    print(f'{t:15s} {label_list[idx]:10s}')"
   ]
  },
  {
   "cell_type": "markdown",
   "metadata": {
    "id": "tBSq9enuwJ_V"
   },
   "source": [
    "Более простое применение модели: пайплайн от huggingface"
   ]
  },
  {
   "cell_type": "code",
   "execution_count": 273,
   "metadata": {
    "id": "lnrAoy6b8swA"
   },
   "outputs": [],
   "source": [
    "from transformers import pipeline"
   ]
  },
  {
   "cell_type": "code",
   "execution_count": 274,
   "metadata": {
    "id": "uowfISMu8v1k"
   },
   "outputs": [],
   "source": [
    "pipe = pipeline(model=model, tokenizer=tokenizer, task='ner', aggregation_strategy='average', device=0)"
   ]
  },
  {
   "cell_type": "code",
   "execution_count": 275,
   "metadata": {
    "colab": {
     "base_uri": "https://localhost:8080/"
    },
    "id": "1WjXMXCv9Nde",
    "outputId": "593e1621-8a1b-4736-9ad5-43c7e3c14abd"
   },
   "outputs": [
    {
     "name": "stdout",
     "output_type": "stream",
     "text": [
      "Совсем недавно началась весенняя аллергия, попробовал преобрести Зодак в аптеке, средсто очень хорошо помогает.\n",
      "[{'entity_group': 'DI', 'score': 0.27208838, 'word': 'аллергия', 'start': 33, 'end': 41}, {'entity_group': 'Drugname', 'score': 0.47578454, 'word': 'Зодак', 'start': 65, 'end': 70}]\n"
     ]
    }
   ],
   "source": [
    "print(text)\n",
    "print(pipe(text))"
   ]
  },
  {
   "cell_type": "markdown",
   "metadata": {
    "id": "WkZbMfvIlMlx"
   },
   "source": [
    "Попробуем теперь замораживать до начала обучения не весь берт, а только первый его модуль, и учить в течении 30 эпох."
   ]
  },
  {
   "cell_type": "code",
   "execution_count": 276,
   "metadata": {},
   "outputs": [],
   "source": [
    "for num, param in enumerate(model.parameters()):\n",
    "    if num==0:\n",
    "        param.requires_grad = False\n",
    "    else:\n",
    "        param.requires_grad = True"
   ]
  },
  {
   "cell_type": "code",
   "execution_count": 277,
   "metadata": {},
   "outputs": [
    {
     "name": "stderr",
     "output_type": "stream",
     "text": [
      "/home/jovyan/.imgenv-ars-100-2-80gb-0/lib/python3.7/site-packages/transformers/optimization.py:415: FutureWarning: This implementation of AdamW is deprecated and will be removed in a future version. Use the PyTorch implementation torch.optim.AdamW instead, or set `no_deprecation_warning=True` to disable this warning\n",
      "  FutureWarning,\n",
      "/home/jovyan/.imgenv-ars-100-2-80gb-0/lib/python3.7/site-packages/torch/nn/parallel/_functions.py:68: UserWarning: Was asked to gather along dimension 0, but all input tensors were scalars; will instead unsqueeze and return a vector.\n",
      "  warnings.warn('Was asked to gather along dimension 0, but all '\n"
     ]
    },
    {
     "data": {
      "text/html": [
       "\n",
       "    <div>\n",
       "      \n",
       "      <progress value='3630' max='3630' style='width:300px; height:20px; vertical-align: middle;'></progress>\n",
       "      [3630/3630 03:24, Epoch 30/30]\n",
       "    </div>\n",
       "    <table border=\"1\" class=\"dataframe\">\n",
       "  <thead>\n",
       " <tr style=\"text-align: left;\">\n",
       "      <th>Epoch</th>\n",
       "      <th>Training Loss</th>\n",
       "      <th>Validation Loss</th>\n",
       "      <th>Precision</th>\n",
       "      <th>Recall</th>\n",
       "      <th>F1</th>\n",
       "      <th>Accuracy</th>\n",
       "    </tr>\n",
       "  </thead>\n",
       "  <tbody>\n",
       "    <tr>\n",
       "      <td>1</td>\n",
       "      <td>No log</td>\n",
       "      <td>0.199797</td>\n",
       "      <td>0.570605</td>\n",
       "      <td>0.627907</td>\n",
       "      <td>0.597886</td>\n",
       "      <td>0.944522</td>\n",
       "    </tr>\n",
       "    <tr>\n",
       "      <td>2</td>\n",
       "      <td>No log</td>\n",
       "      <td>0.193937</td>\n",
       "      <td>0.595192</td>\n",
       "      <td>0.654334</td>\n",
       "      <td>0.623364</td>\n",
       "      <td>0.948881</td>\n",
       "    </tr>\n",
       "    <tr>\n",
       "      <td>3</td>\n",
       "      <td>No log</td>\n",
       "      <td>0.193286</td>\n",
       "      <td>0.569573</td>\n",
       "      <td>0.649049</td>\n",
       "      <td>0.606719</td>\n",
       "      <td>0.946886</td>\n",
       "    </tr>\n",
       "    <tr>\n",
       "      <td>4</td>\n",
       "      <td>No log</td>\n",
       "      <td>0.189820</td>\n",
       "      <td>0.594492</td>\n",
       "      <td>0.661734</td>\n",
       "      <td>0.626313</td>\n",
       "      <td>0.949546</td>\n",
       "    </tr>\n",
       "    <tr>\n",
       "      <td>5</td>\n",
       "      <td>0.150800</td>\n",
       "      <td>0.186987</td>\n",
       "      <td>0.619094</td>\n",
       "      <td>0.664905</td>\n",
       "      <td>0.641182</td>\n",
       "      <td>0.951097</td>\n",
       "    </tr>\n",
       "    <tr>\n",
       "      <td>6</td>\n",
       "      <td>0.150800</td>\n",
       "      <td>0.183669</td>\n",
       "      <td>0.610315</td>\n",
       "      <td>0.675476</td>\n",
       "      <td>0.641244</td>\n",
       "      <td>0.951614</td>\n",
       "    </tr>\n",
       "    <tr>\n",
       "      <td>7</td>\n",
       "      <td>0.150800</td>\n",
       "      <td>0.183759</td>\n",
       "      <td>0.606174</td>\n",
       "      <td>0.684989</td>\n",
       "      <td>0.643176</td>\n",
       "      <td>0.951392</td>\n",
       "    </tr>\n",
       "    <tr>\n",
       "      <td>8</td>\n",
       "      <td>0.150800</td>\n",
       "      <td>0.180566</td>\n",
       "      <td>0.602022</td>\n",
       "      <td>0.692389</td>\n",
       "      <td>0.644051</td>\n",
       "      <td>0.951392</td>\n",
       "    </tr>\n",
       "    <tr>\n",
       "      <td>9</td>\n",
       "      <td>0.131700</td>\n",
       "      <td>0.179735</td>\n",
       "      <td>0.595109</td>\n",
       "      <td>0.694503</td>\n",
       "      <td>0.640976</td>\n",
       "      <td>0.951392</td>\n",
       "    </tr>\n",
       "    <tr>\n",
       "      <td>10</td>\n",
       "      <td>0.131700</td>\n",
       "      <td>0.179088</td>\n",
       "      <td>0.608736</td>\n",
       "      <td>0.692389</td>\n",
       "      <td>0.647873</td>\n",
       "      <td>0.952648</td>\n",
       "    </tr>\n",
       "    <tr>\n",
       "      <td>11</td>\n",
       "      <td>0.131700</td>\n",
       "      <td>0.177848</td>\n",
       "      <td>0.612454</td>\n",
       "      <td>0.696617</td>\n",
       "      <td>0.651830</td>\n",
       "      <td>0.953092</td>\n",
       "    </tr>\n",
       "    <tr>\n",
       "      <td>12</td>\n",
       "      <td>0.131700</td>\n",
       "      <td>0.175634</td>\n",
       "      <td>0.623706</td>\n",
       "      <td>0.700846</td>\n",
       "      <td>0.660030</td>\n",
       "      <td>0.953756</td>\n",
       "    </tr>\n",
       "    <tr>\n",
       "      <td>13</td>\n",
       "      <td>0.120400</td>\n",
       "      <td>0.174001</td>\n",
       "      <td>0.621013</td>\n",
       "      <td>0.699789</td>\n",
       "      <td>0.658052</td>\n",
       "      <td>0.953978</td>\n",
       "    </tr>\n",
       "    <tr>\n",
       "      <td>14</td>\n",
       "      <td>0.120400</td>\n",
       "      <td>0.175274</td>\n",
       "      <td>0.615949</td>\n",
       "      <td>0.710359</td>\n",
       "      <td>0.659794</td>\n",
       "      <td>0.953387</td>\n",
       "    </tr>\n",
       "    <tr>\n",
       "      <td>15</td>\n",
       "      <td>0.120400</td>\n",
       "      <td>0.174558</td>\n",
       "      <td>0.613139</td>\n",
       "      <td>0.710359</td>\n",
       "      <td>0.658178</td>\n",
       "      <td>0.953239</td>\n",
       "    </tr>\n",
       "    <tr>\n",
       "      <td>16</td>\n",
       "      <td>0.120400</td>\n",
       "      <td>0.174763</td>\n",
       "      <td>0.619355</td>\n",
       "      <td>0.710359</td>\n",
       "      <td>0.661743</td>\n",
       "      <td>0.953535</td>\n",
       "    </tr>\n",
       "    <tr>\n",
       "      <td>17</td>\n",
       "      <td>0.111300</td>\n",
       "      <td>0.173797</td>\n",
       "      <td>0.620148</td>\n",
       "      <td>0.709302</td>\n",
       "      <td>0.661736</td>\n",
       "      <td>0.953092</td>\n",
       "    </tr>\n",
       "    <tr>\n",
       "      <td>18</td>\n",
       "      <td>0.111300</td>\n",
       "      <td>0.174656</td>\n",
       "      <td>0.621129</td>\n",
       "      <td>0.720930</td>\n",
       "      <td>0.667319</td>\n",
       "      <td>0.953756</td>\n",
       "    </tr>\n",
       "    <tr>\n",
       "      <td>19</td>\n",
       "      <td>0.111300</td>\n",
       "      <td>0.174975</td>\n",
       "      <td>0.618182</td>\n",
       "      <td>0.718816</td>\n",
       "      <td>0.664712</td>\n",
       "      <td>0.953461</td>\n",
       "    </tr>\n",
       "    <tr>\n",
       "      <td>20</td>\n",
       "      <td>0.111300</td>\n",
       "      <td>0.172721</td>\n",
       "      <td>0.630496</td>\n",
       "      <td>0.712474</td>\n",
       "      <td>0.668983</td>\n",
       "      <td>0.954052</td>\n",
       "    </tr>\n",
       "    <tr>\n",
       "      <td>21</td>\n",
       "      <td>0.107400</td>\n",
       "      <td>0.172247</td>\n",
       "      <td>0.635593</td>\n",
       "      <td>0.713531</td>\n",
       "      <td>0.672311</td>\n",
       "      <td>0.954643</td>\n",
       "    </tr>\n",
       "    <tr>\n",
       "      <td>22</td>\n",
       "      <td>0.107400</td>\n",
       "      <td>0.172758</td>\n",
       "      <td>0.631628</td>\n",
       "      <td>0.717759</td>\n",
       "      <td>0.671945</td>\n",
       "      <td>0.953978</td>\n",
       "    </tr>\n",
       "    <tr>\n",
       "      <td>23</td>\n",
       "      <td>0.107400</td>\n",
       "      <td>0.172981</td>\n",
       "      <td>0.628571</td>\n",
       "      <td>0.720930</td>\n",
       "      <td>0.671590</td>\n",
       "      <td>0.953904</td>\n",
       "    </tr>\n",
       "    <tr>\n",
       "      <td>24</td>\n",
       "      <td>0.107400</td>\n",
       "      <td>0.172268</td>\n",
       "      <td>0.635768</td>\n",
       "      <td>0.717759</td>\n",
       "      <td>0.674280</td>\n",
       "      <td>0.954495</td>\n",
       "    </tr>\n",
       "    <tr>\n",
       "      <td>25</td>\n",
       "      <td>0.102700</td>\n",
       "      <td>0.172138</td>\n",
       "      <td>0.635601</td>\n",
       "      <td>0.720930</td>\n",
       "      <td>0.675582</td>\n",
       "      <td>0.954864</td>\n",
       "    </tr>\n",
       "    <tr>\n",
       "      <td>26</td>\n",
       "      <td>0.102700</td>\n",
       "      <td>0.171429</td>\n",
       "      <td>0.635426</td>\n",
       "      <td>0.716702</td>\n",
       "      <td>0.673621</td>\n",
       "      <td>0.954643</td>\n",
       "    </tr>\n",
       "    <tr>\n",
       "      <td>27</td>\n",
       "      <td>0.102700</td>\n",
       "      <td>0.171650</td>\n",
       "      <td>0.634921</td>\n",
       "      <td>0.718816</td>\n",
       "      <td>0.674269</td>\n",
       "      <td>0.954643</td>\n",
       "    </tr>\n",
       "    <tr>\n",
       "      <td>28</td>\n",
       "      <td>0.102700</td>\n",
       "      <td>0.171353</td>\n",
       "      <td>0.636023</td>\n",
       "      <td>0.716702</td>\n",
       "      <td>0.673956</td>\n",
       "      <td>0.954864</td>\n",
       "    </tr>\n",
       "    <tr>\n",
       "      <td>29</td>\n",
       "      <td>0.100200</td>\n",
       "      <td>0.171364</td>\n",
       "      <td>0.635261</td>\n",
       "      <td>0.719873</td>\n",
       "      <td>0.674926</td>\n",
       "      <td>0.954864</td>\n",
       "    </tr>\n",
       "    <tr>\n",
       "      <td>30</td>\n",
       "      <td>0.100200</td>\n",
       "      <td>0.171312</td>\n",
       "      <td>0.637383</td>\n",
       "      <td>0.720930</td>\n",
       "      <td>0.676587</td>\n",
       "      <td>0.954938</td>\n",
       "    </tr>\n",
       "  </tbody>\n",
       "</table><p>"
      ],
      "text/plain": [
       "<IPython.core.display.HTML object>"
      ]
     },
     "metadata": {},
     "output_type": "display_data"
    },
    {
     "data": {
      "text/plain": [
       "TrainOutput(global_step=3630, training_loss=0.11716054622135215, metrics={'train_runtime': 204.0742, 'train_samples_per_second': 565.53, 'train_steps_per_second': 17.788, 'total_flos': 89283369306300.0, 'train_loss': 0.11716054622135215, 'epoch': 30.0})"
      ]
     },
     "execution_count": 277,
     "metadata": {},
     "output_type": "execute_result"
    }
   ],
   "source": [
    "# аргументы trainer\n",
    "args = TrainingArguments(\n",
    "    \"ner\",\n",
    "    evaluation_strategy = \"epoch\",\n",
    "    learning_rate=1e-5,\n",
    "    per_device_train_batch_size=batch_size,\n",
    "    per_device_eval_batch_size=batch_size,\n",
    "    num_train_epochs=30,\n",
    "    weight_decay=0.01,\n",
    "    save_strategy='no',\n",
    "    report_to='none',\n",
    "    include_inputs_for_metrics=True,\n",
    ")\n",
    "\n",
    "# trainer\n",
    "trainer = Trainer(\n",
    "    model,\n",
    "    args,\n",
    "    train_dataset=tokenized_datasets[\"train\"],\n",
    "    eval_dataset=tokenized_datasets[\"test\"],\n",
    "    data_collator=data_collator,\n",
    "    tokenizer=tokenizer,\n",
    "    compute_metrics=compute_metrics\n",
    ")\n",
    "\n",
    "trainer.train()"
   ]
  },
  {
   "cell_type": "code",
   "execution_count": 278,
   "metadata": {},
   "outputs": [
    {
     "data": {
      "text/html": [
       "\n",
       "    <div>\n",
       "      \n",
       "      <progress value='31' max='31' style='width:300px; height:20px; vertical-align: middle;'></progress>\n",
       "      [31/31 00:00]\n",
       "    </div>\n",
       "    "
      ],
      "text/plain": [
       "<IPython.core.display.HTML object>"
      ]
     },
     "metadata": {},
     "output_type": "display_data"
    },
    {
     "data": {
      "text/plain": [
       "{'eval_loss': 0.17131195962429047,\n",
       " 'eval_precision': 0.6373831775700934,\n",
       " 'eval_recall': 0.7209302325581395,\n",
       " 'eval_f1': 0.6765873015873015,\n",
       " 'eval_accuracy': 0.9549383172046982,\n",
       " 'eval_runtime': 0.9836,\n",
       " 'eval_samples_per_second': 978.089,\n",
       " 'eval_steps_per_second': 31.518,\n",
       " 'epoch': 30.0}"
      ]
     },
     "execution_count": 278,
     "metadata": {},
     "output_type": "execute_result"
    }
   ],
   "source": [
    "trainer.evaluate()"
   ]
  },
  {
   "cell_type": "markdown",
   "metadata": {},
   "source": [
    "####  'eval_accuracy': 0.9549383172046982 - SOTA SCORE"
   ]
  }
 ],
 "metadata": {
  "accelerator": "GPU",
  "colab": {
   "gpuType": "T4",
   "provenance": []
  },
  "kernelspec": {
   "display_name": "Python 3 (ipykernel)",
   "language": "python",
   "name": "python3"
  },
  "language_info": {
   "codemirror_mode": {
    "name": "ipython",
    "version": 3
   },
   "file_extension": ".py",
   "mimetype": "text/x-python",
   "name": "python",
   "nbconvert_exporter": "python",
   "pygments_lexer": "ipython3",
   "version": "3.7.12"
  },
  "widgets": {
   "application/vnd.jupyter.widget-state+json": {
    "0149aa96f3b74a0b9fa92d4821f11502": {
     "model_module": "@jupyter-widgets/controls",
     "model_module_version": "1.5.0",
     "model_name": "HBoxModel",
     "state": {
      "_dom_classes": [],
      "_model_module": "@jupyter-widgets/controls",
      "_model_module_version": "1.5.0",
      "_model_name": "HBoxModel",
      "_view_count": null,
      "_view_module": "@jupyter-widgets/controls",
      "_view_module_version": "1.5.0",
      "_view_name": "HBoxView",
      "box_style": "",
      "children": [
       "IPY_MODEL_806e77dc79084270824b191149e4adf9",
       "IPY_MODEL_3a4d217c2c8344b2a094525bb1d2a28a",
       "IPY_MODEL_f349d863fefa443fa06c6c75e58d97d9"
      ],
      "layout": "IPY_MODEL_960edf31999f4783afd21b3d022e6a55"
     }
    },
    "0311bff1d4ac4b59b6b675eb5b3221e7": {
     "model_module": "@jupyter-widgets/controls",
     "model_module_version": "1.5.0",
     "model_name": "HTMLModel",
     "state": {
      "_dom_classes": [],
      "_model_module": "@jupyter-widgets/controls",
      "_model_module_version": "1.5.0",
      "_model_name": "HTMLModel",
      "_view_count": null,
      "_view_module": "@jupyter-widgets/controls",
      "_view_module_version": "1.5.0",
      "_view_name": "HTMLView",
      "description": "",
      "description_tooltip": null,
      "layout": "IPY_MODEL_c9627759aa4749029a6f3ff0721de6a4",
      "placeholder": "​",
      "style": "IPY_MODEL_d36f2928bdcf45e4986f7abfa0010d37",
      "value": " 1.08M/1.08M [00:00&lt;00:00, 3.25MB/s]"
     }
    },
    "03f30bf8df1949a88c96a4cc80e8f1a8": {
     "model_module": "@jupyter-widgets/controls",
     "model_module_version": "1.5.0",
     "model_name": "HTMLModel",
     "state": {
      "_dom_classes": [],
      "_model_module": "@jupyter-widgets/controls",
      "_model_module_version": "1.5.0",
      "_model_name": "HTMLModel",
      "_view_count": null,
      "_view_module": "@jupyter-widgets/controls",
      "_view_module_version": "1.5.0",
      "_view_name": "HTMLView",
      "description": "",
      "description_tooltip": null,
      "layout": "IPY_MODEL_25c227f737074221ac66a48618a54fae",
      "placeholder": "​",
      "style": "IPY_MODEL_790d042afd6b4c158ca5d26f08371ca6",
      "value": " 6.33k/? [00:00&lt;00:00, 267kB/s]"
     }
    },
    "0620f8c257a64f3887e88237aa2f7d54": {
     "model_module": "@jupyter-widgets/base",
     "model_module_version": "1.2.0",
     "model_name": "LayoutModel",
     "state": {
      "_model_module": "@jupyter-widgets/base",
      "_model_module_version": "1.2.0",
      "_model_name": "LayoutModel",
      "_view_count": null,
      "_view_module": "@jupyter-widgets/base",
      "_view_module_version": "1.2.0",
      "_view_name": "LayoutView",
      "align_content": null,
      "align_items": null,
      "align_self": null,
      "border": null,
      "bottom": null,
      "display": null,
      "flex": null,
      "flex_flow": null,
      "grid_area": null,
      "grid_auto_columns": null,
      "grid_auto_flow": null,
      "grid_auto_rows": null,
      "grid_column": null,
      "grid_gap": null,
      "grid_row": null,
      "grid_template_areas": null,
      "grid_template_columns": null,
      "grid_template_rows": null,
      "height": null,
      "justify_content": null,
      "justify_items": null,
      "left": null,
      "margin": null,
      "max_height": null,
      "max_width": null,
      "min_height": null,
      "min_width": null,
      "object_fit": null,
      "object_position": null,
      "order": null,
      "overflow": null,
      "overflow_x": null,
      "overflow_y": null,
      "padding": null,
      "right": null,
      "top": null,
      "visibility": null,
      "width": null
     }
    },
    "0704516e82c14cb999ce0f6e75c8f2f8": {
     "model_module": "@jupyter-widgets/base",
     "model_module_version": "1.2.0",
     "model_name": "LayoutModel",
     "state": {
      "_model_module": "@jupyter-widgets/base",
      "_model_module_version": "1.2.0",
      "_model_name": "LayoutModel",
      "_view_count": null,
      "_view_module": "@jupyter-widgets/base",
      "_view_module_version": "1.2.0",
      "_view_name": "LayoutView",
      "align_content": null,
      "align_items": null,
      "align_self": null,
      "border": null,
      "bottom": null,
      "display": null,
      "flex": null,
      "flex_flow": null,
      "grid_area": null,
      "grid_auto_columns": null,
      "grid_auto_flow": null,
      "grid_auto_rows": null,
      "grid_column": null,
      "grid_gap": null,
      "grid_row": null,
      "grid_template_areas": null,
      "grid_template_columns": null,
      "grid_template_rows": null,
      "height": null,
      "justify_content": null,
      "justify_items": null,
      "left": null,
      "margin": null,
      "max_height": null,
      "max_width": null,
      "min_height": null,
      "min_width": null,
      "object_fit": null,
      "object_position": null,
      "order": null,
      "overflow": null,
      "overflow_x": null,
      "overflow_y": null,
      "padding": null,
      "right": null,
      "top": null,
      "visibility": null,
      "width": null
     }
    },
    "09c08fd1de81455984f3e39ad75b79c1": {
     "model_module": "@jupyter-widgets/controls",
     "model_module_version": "1.5.0",
     "model_name": "HBoxModel",
     "state": {
      "_dom_classes": [],
      "_model_module": "@jupyter-widgets/controls",
      "_model_module_version": "1.5.0",
      "_model_name": "HBoxModel",
      "_view_count": null,
      "_view_module": "@jupyter-widgets/controls",
      "_view_module_version": "1.5.0",
      "_view_name": "HBoxView",
      "box_style": "",
      "children": [
       "IPY_MODEL_5b8b6d23164a4d69ae53ea68f7c74fb9",
       "IPY_MODEL_201ff13d21444818ab1c29803f66efa1",
       "IPY_MODEL_927b68d3997d4061a173727803ccdbd5"
      ],
      "layout": "IPY_MODEL_4c05e5d95fb64b3895a94bf455b6c3e2"
     }
    },
    "0c56797b870d44d989ee019b429d1353": {
     "model_module": "@jupyter-widgets/controls",
     "model_module_version": "1.5.0",
     "model_name": "DescriptionStyleModel",
     "state": {
      "_model_module": "@jupyter-widgets/controls",
      "_model_module_version": "1.5.0",
      "_model_name": "DescriptionStyleModel",
      "_view_count": null,
      "_view_module": "@jupyter-widgets/base",
      "_view_module_version": "1.2.0",
      "_view_name": "StyleView",
      "description_width": ""
     }
    },
    "0d81fe03516e49a5b4471590db823ab1": {
     "model_module": "@jupyter-widgets/controls",
     "model_module_version": "1.5.0",
     "model_name": "DescriptionStyleModel",
     "state": {
      "_model_module": "@jupyter-widgets/controls",
      "_model_module_version": "1.5.0",
      "_model_name": "DescriptionStyleModel",
      "_view_count": null,
      "_view_module": "@jupyter-widgets/base",
      "_view_module_version": "1.2.0",
      "_view_name": "StyleView",
      "description_width": ""
     }
    },
    "0fe45ff0bdd64bd288f70d93bed13c6a": {
     "model_module": "@jupyter-widgets/controls",
     "model_module_version": "1.5.0",
     "model_name": "DescriptionStyleModel",
     "state": {
      "_model_module": "@jupyter-widgets/controls",
      "_model_module_version": "1.5.0",
      "_model_name": "DescriptionStyleModel",
      "_view_count": null,
      "_view_module": "@jupyter-widgets/base",
      "_view_module_version": "1.2.0",
      "_view_name": "StyleView",
      "description_width": ""
     }
    },
    "1046e56154b14e11b96beaf0484298d9": {
     "model_module": "@jupyter-widgets/base",
     "model_module_version": "1.2.0",
     "model_name": "LayoutModel",
     "state": {
      "_model_module": "@jupyter-widgets/base",
      "_model_module_version": "1.2.0",
      "_model_name": "LayoutModel",
      "_view_count": null,
      "_view_module": "@jupyter-widgets/base",
      "_view_module_version": "1.2.0",
      "_view_name": "LayoutView",
      "align_content": null,
      "align_items": null,
      "align_self": null,
      "border": null,
      "bottom": null,
      "display": null,
      "flex": null,
      "flex_flow": null,
      "grid_area": null,
      "grid_auto_columns": null,
      "grid_auto_flow": null,
      "grid_auto_rows": null,
      "grid_column": null,
      "grid_gap": null,
      "grid_row": null,
      "grid_template_areas": null,
      "grid_template_columns": null,
      "grid_template_rows": null,
      "height": null,
      "justify_content": null,
      "justify_items": null,
      "left": null,
      "margin": null,
      "max_height": null,
      "max_width": null,
      "min_height": null,
      "min_width": null,
      "object_fit": null,
      "object_position": null,
      "order": null,
      "overflow": null,
      "overflow_x": null,
      "overflow_y": null,
      "padding": null,
      "right": null,
      "top": null,
      "visibility": null,
      "width": null
     }
    },
    "10caece5d4e7484db33bef9756521a82": {
     "model_module": "@jupyter-widgets/controls",
     "model_module_version": "1.5.0",
     "model_name": "ProgressStyleModel",
     "state": {
      "_model_module": "@jupyter-widgets/controls",
      "_model_module_version": "1.5.0",
      "_model_name": "ProgressStyleModel",
      "_view_count": null,
      "_view_module": "@jupyter-widgets/base",
      "_view_module_version": "1.2.0",
      "_view_name": "StyleView",
      "bar_color": null,
      "description_width": ""
     }
    },
    "14a58d9d47ac48e6ae5a4e5d001df9c7": {
     "model_module": "@jupyter-widgets/controls",
     "model_module_version": "1.5.0",
     "model_name": "HBoxModel",
     "state": {
      "_dom_classes": [],
      "_model_module": "@jupyter-widgets/controls",
      "_model_module_version": "1.5.0",
      "_model_name": "HBoxModel",
      "_view_count": null,
      "_view_module": "@jupyter-widgets/controls",
      "_view_module_version": "1.5.0",
      "_view_name": "HBoxView",
      "box_style": "",
      "children": [
       "IPY_MODEL_dcfe20eefac74202be503d7ed3b00adb",
       "IPY_MODEL_3937ba01dffa4c9c81b0b51ab46631d9",
       "IPY_MODEL_5cfe0a38c73f4cfca1cbad3a9eb4dcb8"
      ],
      "layout": "IPY_MODEL_a469070b38ba4bff948065fefab779da"
     }
    },
    "16ac10860a284f67aac380fad0428a97": {
     "model_module": "@jupyter-widgets/base",
     "model_module_version": "1.2.0",
     "model_name": "LayoutModel",
     "state": {
      "_model_module": "@jupyter-widgets/base",
      "_model_module_version": "1.2.0",
      "_model_name": "LayoutModel",
      "_view_count": null,
      "_view_module": "@jupyter-widgets/base",
      "_view_module_version": "1.2.0",
      "_view_name": "LayoutView",
      "align_content": null,
      "align_items": null,
      "align_self": null,
      "border": null,
      "bottom": null,
      "display": null,
      "flex": null,
      "flex_flow": null,
      "grid_area": null,
      "grid_auto_columns": null,
      "grid_auto_flow": null,
      "grid_auto_rows": null,
      "grid_column": null,
      "grid_gap": null,
      "grid_row": null,
      "grid_template_areas": null,
      "grid_template_columns": null,
      "grid_template_rows": null,
      "height": null,
      "justify_content": null,
      "justify_items": null,
      "left": null,
      "margin": null,
      "max_height": null,
      "max_width": null,
      "min_height": null,
      "min_width": null,
      "object_fit": null,
      "object_position": null,
      "order": null,
      "overflow": null,
      "overflow_x": null,
      "overflow_y": null,
      "padding": null,
      "right": null,
      "top": null,
      "visibility": null,
      "width": null
     }
    },
    "1bdf2b1a05a74e0ea6a8ff5a3bd244a6": {
     "model_module": "@jupyter-widgets/controls",
     "model_module_version": "1.5.0",
     "model_name": "HTMLModel",
     "state": {
      "_dom_classes": [],
      "_model_module": "@jupyter-widgets/controls",
      "_model_module_version": "1.5.0",
      "_model_name": "HTMLModel",
      "_view_count": null,
      "_view_module": "@jupyter-widgets/controls",
      "_view_module_version": "1.5.0",
      "_view_name": "HTMLView",
      "description": "",
      "description_tooltip": null,
      "layout": "IPY_MODEL_da6b16a346a045c7864a8f8808072228",
      "placeholder": "​",
      "style": "IPY_MODEL_5bbc1a86ade14ca58861e52240c1bcb7",
      "value": " 112/112 [00:00&lt;00:00, 2.01kB/s]"
     }
    },
    "201ff13d21444818ab1c29803f66efa1": {
     "model_module": "@jupyter-widgets/controls",
     "model_module_version": "1.5.0",
     "model_name": "FloatProgressModel",
     "state": {
      "_dom_classes": [],
      "_model_module": "@jupyter-widgets/controls",
      "_model_module_version": "1.5.0",
      "_model_name": "FloatProgressModel",
      "_view_count": null,
      "_view_module": "@jupyter-widgets/controls",
      "_view_module_version": "1.5.0",
      "_view_name": "ProgressView",
      "bar_style": "success",
      "description": "",
      "description_tooltip": null,
      "layout": "IPY_MODEL_5c7b1720d22b42c58a94e4d2f1e0f41c",
      "max": 401,
      "min": 0,
      "orientation": "horizontal",
      "style": "IPY_MODEL_60cd3d70d62a421aa201a1070df2ef1d",
      "value": 401
     }
    },
    "21d3f2a82d8f458cb824e9fbbe9def3d": {
     "model_module": "@jupyter-widgets/controls",
     "model_module_version": "1.5.0",
     "model_name": "HTMLModel",
     "state": {
      "_dom_classes": [],
      "_model_module": "@jupyter-widgets/controls",
      "_model_module_version": "1.5.0",
      "_model_name": "HTMLModel",
      "_view_count": null,
      "_view_module": "@jupyter-widgets/controls",
      "_view_module_version": "1.5.0",
      "_view_name": "HTMLView",
      "description": "",
      "description_tooltip": null,
      "layout": "IPY_MODEL_eb9a00fb3d6b423e829c8b9a909d16ee",
      "placeholder": "​",
      "style": "IPY_MODEL_0c56797b870d44d989ee019b429d1353",
      "value": "Downloading builder script: "
     }
    },
    "23da0265a63742659931e5293ce2dd73": {
     "model_module": "@jupyter-widgets/base",
     "model_module_version": "1.2.0",
     "model_name": "LayoutModel",
     "state": {
      "_model_module": "@jupyter-widgets/base",
      "_model_module_version": "1.2.0",
      "_model_name": "LayoutModel",
      "_view_count": null,
      "_view_module": "@jupyter-widgets/base",
      "_view_module_version": "1.2.0",
      "_view_name": "LayoutView",
      "align_content": null,
      "align_items": null,
      "align_self": null,
      "border": null,
      "bottom": null,
      "display": null,
      "flex": null,
      "flex_flow": null,
      "grid_area": null,
      "grid_auto_columns": null,
      "grid_auto_flow": null,
      "grid_auto_rows": null,
      "grid_column": null,
      "grid_gap": null,
      "grid_row": null,
      "grid_template_areas": null,
      "grid_template_columns": null,
      "grid_template_rows": null,
      "height": null,
      "justify_content": null,
      "justify_items": null,
      "left": null,
      "margin": null,
      "max_height": null,
      "max_width": null,
      "min_height": null,
      "min_width": null,
      "object_fit": null,
      "object_position": null,
      "order": null,
      "overflow": null,
      "overflow_x": null,
      "overflow_y": null,
      "padding": null,
      "right": null,
      "top": null,
      "visibility": null,
      "width": null
     }
    },
    "25c227f737074221ac66a48618a54fae": {
     "model_module": "@jupyter-widgets/base",
     "model_module_version": "1.2.0",
     "model_name": "LayoutModel",
     "state": {
      "_model_module": "@jupyter-widgets/base",
      "_model_module_version": "1.2.0",
      "_model_name": "LayoutModel",
      "_view_count": null,
      "_view_module": "@jupyter-widgets/base",
      "_view_module_version": "1.2.0",
      "_view_name": "LayoutView",
      "align_content": null,
      "align_items": null,
      "align_self": null,
      "border": null,
      "bottom": null,
      "display": null,
      "flex": null,
      "flex_flow": null,
      "grid_area": null,
      "grid_auto_columns": null,
      "grid_auto_flow": null,
      "grid_auto_rows": null,
      "grid_column": null,
      "grid_gap": null,
      "grid_row": null,
      "grid_template_areas": null,
      "grid_template_columns": null,
      "grid_template_rows": null,
      "height": null,
      "justify_content": null,
      "justify_items": null,
      "left": null,
      "margin": null,
      "max_height": null,
      "max_width": null,
      "min_height": null,
      "min_width": null,
      "object_fit": null,
      "object_position": null,
      "order": null,
      "overflow": null,
      "overflow_x": null,
      "overflow_y": null,
      "padding": null,
      "right": null,
      "top": null,
      "visibility": null,
      "width": null
     }
    },
    "2ad9584b4e6f411bb0f8e3ac95cc96f2": {
     "model_module": "@jupyter-widgets/controls",
     "model_module_version": "1.5.0",
     "model_name": "ProgressStyleModel",
     "state": {
      "_model_module": "@jupyter-widgets/controls",
      "_model_module_version": "1.5.0",
      "_model_name": "ProgressStyleModel",
      "_view_count": null,
      "_view_module": "@jupyter-widgets/base",
      "_view_module_version": "1.2.0",
      "_view_name": "StyleView",
      "bar_color": null,
      "description_width": ""
     }
    },
    "2bfa6005b0d24fda863cb6cd9add4347": {
     "model_module": "@jupyter-widgets/controls",
     "model_module_version": "1.5.0",
     "model_name": "HTMLModel",
     "state": {
      "_dom_classes": [],
      "_model_module": "@jupyter-widgets/controls",
      "_model_module_version": "1.5.0",
      "_model_name": "HTMLModel",
      "_view_count": null,
      "_view_module": "@jupyter-widgets/controls",
      "_view_module_version": "1.5.0",
      "_view_name": "HTMLView",
      "description": "",
      "description_tooltip": null,
      "layout": "IPY_MODEL_0704516e82c14cb999ce0f6e75c8f2f8",
      "placeholder": "​",
      "style": "IPY_MODEL_dbc6ab3be34a4168bd6a93ce4e9e2f25",
      "value": "Map: 100%"
     }
    },
    "2c0314922dab416897f3cb01db0ec268": {
     "model_module": "@jupyter-widgets/controls",
     "model_module_version": "1.5.0",
     "model_name": "HBoxModel",
     "state": {
      "_dom_classes": [],
      "_model_module": "@jupyter-widgets/controls",
      "_model_module_version": "1.5.0",
      "_model_name": "HBoxModel",
      "_view_count": null,
      "_view_module": "@jupyter-widgets/controls",
      "_view_module_version": "1.5.0",
      "_view_name": "HBoxView",
      "box_style": "",
      "children": [
       "IPY_MODEL_9847f9cb2a634c5b8dcbaf14fa17e4fe",
       "IPY_MODEL_b6918a8391034fd698c67d7f650868ad",
       "IPY_MODEL_1bdf2b1a05a74e0ea6a8ff5a3bd244a6"
      ],
      "layout": "IPY_MODEL_16ac10860a284f67aac380fad0428a97"
     }
    },
    "2f00be623bb74e1caba2e7b5c8dece82": {
     "model_module": "@jupyter-widgets/controls",
     "model_module_version": "1.5.0",
     "model_name": "FloatProgressModel",
     "state": {
      "_dom_classes": [],
      "_model_module": "@jupyter-widgets/controls",
      "_model_module_version": "1.5.0",
      "_model_name": "FloatProgressModel",
      "_view_count": null,
      "_view_module": "@jupyter-widgets/controls",
      "_view_module_version": "1.5.0",
      "_view_name": "ProgressView",
      "bar_style": "success",
      "description": "",
      "description_tooltip": null,
      "layout": "IPY_MODEL_60a91c5dced249848a63d1de2ef2cb2e",
      "max": 2472,
      "min": 0,
      "orientation": "horizontal",
      "style": "IPY_MODEL_2ad9584b4e6f411bb0f8e3ac95cc96f2",
      "value": 2472
     }
    },
    "2f7c17becaa84e428df7c99a4dd490d2": {
     "model_module": "@jupyter-widgets/base",
     "model_module_version": "1.2.0",
     "model_name": "LayoutModel",
     "state": {
      "_model_module": "@jupyter-widgets/base",
      "_model_module_version": "1.2.0",
      "_model_name": "LayoutModel",
      "_view_count": null,
      "_view_module": "@jupyter-widgets/base",
      "_view_module_version": "1.2.0",
      "_view_name": "LayoutView",
      "align_content": null,
      "align_items": null,
      "align_self": null,
      "border": null,
      "bottom": null,
      "display": null,
      "flex": null,
      "flex_flow": null,
      "grid_area": null,
      "grid_auto_columns": null,
      "grid_auto_flow": null,
      "grid_auto_rows": null,
      "grid_column": null,
      "grid_gap": null,
      "grid_row": null,
      "grid_template_areas": null,
      "grid_template_columns": null,
      "grid_template_rows": null,
      "height": null,
      "justify_content": null,
      "justify_items": null,
      "left": null,
      "margin": null,
      "max_height": null,
      "max_width": null,
      "min_height": null,
      "min_width": null,
      "object_fit": null,
      "object_position": null,
      "order": null,
      "overflow": null,
      "overflow_x": null,
      "overflow_y": null,
      "padding": null,
      "right": null,
      "top": null,
      "visibility": null,
      "width": null
     }
    },
    "3937ba01dffa4c9c81b0b51ab46631d9": {
     "model_module": "@jupyter-widgets/controls",
     "model_module_version": "1.5.0",
     "model_name": "FloatProgressModel",
     "state": {
      "_dom_classes": [],
      "_model_module": "@jupyter-widgets/controls",
      "_model_module_version": "1.5.0",
      "_model_name": "FloatProgressModel",
      "_view_count": null,
      "_view_module": "@jupyter-widgets/controls",
      "_view_module_version": "1.5.0",
      "_view_name": "ProgressView",
      "bar_style": "success",
      "description": "",
      "description_tooltip": null,
      "layout": "IPY_MODEL_0620f8c257a64f3887e88237aa2f7d54",
      "max": 117529600,
      "min": 0,
      "orientation": "horizontal",
      "style": "IPY_MODEL_8cf3b43f2eb442d4a785daae9cc28ba7",
      "value": 117529600
     }
    },
    "3a4d217c2c8344b2a094525bb1d2a28a": {
     "model_module": "@jupyter-widgets/controls",
     "model_module_version": "1.5.0",
     "model_name": "FloatProgressModel",
     "state": {
      "_dom_classes": [],
      "_model_module": "@jupyter-widgets/controls",
      "_model_module_version": "1.5.0",
      "_model_name": "FloatProgressModel",
      "_view_count": null,
      "_view_module": "@jupyter-widgets/controls",
      "_view_module_version": "1.5.0",
      "_view_name": "ProgressView",
      "bar_style": "",
      "description": "",
      "description_tooltip": null,
      "layout": "IPY_MODEL_23da0265a63742659931e5293ce2dd73",
      "max": 962,
      "min": 0,
      "orientation": "horizontal",
      "style": "IPY_MODEL_10caece5d4e7484db33bef9756521a82",
      "value": 962
     }
    },
    "42bb2316c6844c10bb5481a87fbb1c33": {
     "model_module": "@jupyter-widgets/base",
     "model_module_version": "1.2.0",
     "model_name": "LayoutModel",
     "state": {
      "_model_module": "@jupyter-widgets/base",
      "_model_module_version": "1.2.0",
      "_model_name": "LayoutModel",
      "_view_count": null,
      "_view_module": "@jupyter-widgets/base",
      "_view_module_version": "1.2.0",
      "_view_name": "LayoutView",
      "align_content": null,
      "align_items": null,
      "align_self": null,
      "border": null,
      "bottom": null,
      "display": null,
      "flex": null,
      "flex_flow": null,
      "grid_area": null,
      "grid_auto_columns": null,
      "grid_auto_flow": null,
      "grid_auto_rows": null,
      "grid_column": null,
      "grid_gap": null,
      "grid_row": null,
      "grid_template_areas": null,
      "grid_template_columns": null,
      "grid_template_rows": null,
      "height": null,
      "justify_content": null,
      "justify_items": null,
      "left": null,
      "margin": null,
      "max_height": null,
      "max_width": null,
      "min_height": null,
      "min_width": null,
      "object_fit": null,
      "object_position": null,
      "order": null,
      "overflow": null,
      "overflow_x": null,
      "overflow_y": null,
      "padding": null,
      "right": null,
      "top": null,
      "visibility": null,
      "width": null
     }
    },
    "46c91b3585a74ccea813900ea868836d": {
     "model_module": "@jupyter-widgets/controls",
     "model_module_version": "1.5.0",
     "model_name": "ProgressStyleModel",
     "state": {
      "_model_module": "@jupyter-widgets/controls",
      "_model_module_version": "1.5.0",
      "_model_name": "ProgressStyleModel",
      "_view_count": null,
      "_view_module": "@jupyter-widgets/base",
      "_view_module_version": "1.2.0",
      "_view_name": "StyleView",
      "bar_color": null,
      "description_width": ""
     }
    },
    "4717f926c18941138e1fb1591109db98": {
     "model_module": "@jupyter-widgets/base",
     "model_module_version": "1.2.0",
     "model_name": "LayoutModel",
     "state": {
      "_model_module": "@jupyter-widgets/base",
      "_model_module_version": "1.2.0",
      "_model_name": "LayoutModel",
      "_view_count": null,
      "_view_module": "@jupyter-widgets/base",
      "_view_module_version": "1.2.0",
      "_view_name": "LayoutView",
      "align_content": null,
      "align_items": null,
      "align_self": null,
      "border": null,
      "bottom": null,
      "display": null,
      "flex": null,
      "flex_flow": null,
      "grid_area": null,
      "grid_auto_columns": null,
      "grid_auto_flow": null,
      "grid_auto_rows": null,
      "grid_column": null,
      "grid_gap": null,
      "grid_row": null,
      "grid_template_areas": null,
      "grid_template_columns": null,
      "grid_template_rows": null,
      "height": null,
      "justify_content": null,
      "justify_items": null,
      "left": null,
      "margin": null,
      "max_height": null,
      "max_width": null,
      "min_height": null,
      "min_width": null,
      "object_fit": null,
      "object_position": null,
      "order": null,
      "overflow": null,
      "overflow_x": null,
      "overflow_y": null,
      "padding": null,
      "right": null,
      "top": null,
      "visibility": null,
      "width": null
     }
    },
    "4c05e5d95fb64b3895a94bf455b6c3e2": {
     "model_module": "@jupyter-widgets/base",
     "model_module_version": "1.2.0",
     "model_name": "LayoutModel",
     "state": {
      "_model_module": "@jupyter-widgets/base",
      "_model_module_version": "1.2.0",
      "_model_name": "LayoutModel",
      "_view_count": null,
      "_view_module": "@jupyter-widgets/base",
      "_view_module_version": "1.2.0",
      "_view_name": "LayoutView",
      "align_content": null,
      "align_items": null,
      "align_self": null,
      "border": null,
      "bottom": null,
      "display": null,
      "flex": null,
      "flex_flow": null,
      "grid_area": null,
      "grid_auto_columns": null,
      "grid_auto_flow": null,
      "grid_auto_rows": null,
      "grid_column": null,
      "grid_gap": null,
      "grid_row": null,
      "grid_template_areas": null,
      "grid_template_columns": null,
      "grid_template_rows": null,
      "height": null,
      "justify_content": null,
      "justify_items": null,
      "left": null,
      "margin": null,
      "max_height": null,
      "max_width": null,
      "min_height": null,
      "min_width": null,
      "object_fit": null,
      "object_position": null,
      "order": null,
      "overflow": null,
      "overflow_x": null,
      "overflow_y": null,
      "padding": null,
      "right": null,
      "top": null,
      "visibility": null,
      "width": null
     }
    },
    "5491a799e3c042828c54f4c297ff552b": {
     "model_module": "@jupyter-widgets/controls",
     "model_module_version": "1.5.0",
     "model_name": "FloatProgressModel",
     "state": {
      "_dom_classes": [],
      "_model_module": "@jupyter-widgets/controls",
      "_model_module_version": "1.5.0",
      "_model_name": "FloatProgressModel",
      "_view_count": null,
      "_view_module": "@jupyter-widgets/controls",
      "_view_module_version": "1.5.0",
      "_view_name": "ProgressView",
      "bar_style": "success",
      "description": "",
      "description_tooltip": null,
      "layout": "IPY_MODEL_9f9d12137e1a4fb09e3f663b84fffe55",
      "max": 715,
      "min": 0,
      "orientation": "horizontal",
      "style": "IPY_MODEL_c3ac74d4a6e34a4eaa61b89f7bd6ab66",
      "value": 715
     }
    },
    "5b8b6d23164a4d69ae53ea68f7c74fb9": {
     "model_module": "@jupyter-widgets/controls",
     "model_module_version": "1.5.0",
     "model_name": "HTMLModel",
     "state": {
      "_dom_classes": [],
      "_model_module": "@jupyter-widgets/controls",
      "_model_module_version": "1.5.0",
      "_model_name": "HTMLModel",
      "_view_count": null,
      "_view_module": "@jupyter-widgets/controls",
      "_view_module_version": "1.5.0",
      "_view_name": "HTMLView",
      "description": "",
      "description_tooltip": null,
      "layout": "IPY_MODEL_b674bf1aab6f45aab475f05d8e22d874",
      "placeholder": "​",
      "style": "IPY_MODEL_0fe45ff0bdd64bd288f70d93bed13c6a",
      "value": "Downloading (…)okenizer_config.json: 100%"
     }
    },
    "5bbc1a86ade14ca58861e52240c1bcb7": {
     "model_module": "@jupyter-widgets/controls",
     "model_module_version": "1.5.0",
     "model_name": "DescriptionStyleModel",
     "state": {
      "_model_module": "@jupyter-widgets/controls",
      "_model_module_version": "1.5.0",
      "_model_name": "DescriptionStyleModel",
      "_view_count": null,
      "_view_module": "@jupyter-widgets/base",
      "_view_module_version": "1.2.0",
      "_view_name": "StyleView",
      "description_width": ""
     }
    },
    "5c7b1720d22b42c58a94e4d2f1e0f41c": {
     "model_module": "@jupyter-widgets/base",
     "model_module_version": "1.2.0",
     "model_name": "LayoutModel",
     "state": {
      "_model_module": "@jupyter-widgets/base",
      "_model_module_version": "1.2.0",
      "_model_name": "LayoutModel",
      "_view_count": null,
      "_view_module": "@jupyter-widgets/base",
      "_view_module_version": "1.2.0",
      "_view_name": "LayoutView",
      "align_content": null,
      "align_items": null,
      "align_self": null,
      "border": null,
      "bottom": null,
      "display": null,
      "flex": null,
      "flex_flow": null,
      "grid_area": null,
      "grid_auto_columns": null,
      "grid_auto_flow": null,
      "grid_auto_rows": null,
      "grid_column": null,
      "grid_gap": null,
      "grid_row": null,
      "grid_template_areas": null,
      "grid_template_columns": null,
      "grid_template_rows": null,
      "height": null,
      "justify_content": null,
      "justify_items": null,
      "left": null,
      "margin": null,
      "max_height": null,
      "max_width": null,
      "min_height": null,
      "min_width": null,
      "object_fit": null,
      "object_position": null,
      "order": null,
      "overflow": null,
      "overflow_x": null,
      "overflow_y": null,
      "padding": null,
      "right": null,
      "top": null,
      "visibility": null,
      "width": null
     }
    },
    "5cfe0a38c73f4cfca1cbad3a9eb4dcb8": {
     "model_module": "@jupyter-widgets/controls",
     "model_module_version": "1.5.0",
     "model_name": "HTMLModel",
     "state": {
      "_dom_classes": [],
      "_model_module": "@jupyter-widgets/controls",
      "_model_module_version": "1.5.0",
      "_model_name": "HTMLModel",
      "_view_count": null,
      "_view_module": "@jupyter-widgets/controls",
      "_view_module_version": "1.5.0",
      "_view_name": "HTMLView",
      "description": "",
      "description_tooltip": null,
      "layout": "IPY_MODEL_db6c33f81a00472797e7e0f87633b52a",
      "placeholder": "​",
      "style": "IPY_MODEL_b0eabe9ef3a04d7d8c110bc79a166ece",
      "value": " 118M/118M [00:00&lt;00:00, 203MB/s]"
     }
    },
    "60a91c5dced249848a63d1de2ef2cb2e": {
     "model_module": "@jupyter-widgets/base",
     "model_module_version": "1.2.0",
     "model_name": "LayoutModel",
     "state": {
      "_model_module": "@jupyter-widgets/base",
      "_model_module_version": "1.2.0",
      "_model_name": "LayoutModel",
      "_view_count": null,
      "_view_module": "@jupyter-widgets/base",
      "_view_module_version": "1.2.0",
      "_view_name": "LayoutView",
      "align_content": null,
      "align_items": null,
      "align_self": null,
      "border": null,
      "bottom": null,
      "display": null,
      "flex": null,
      "flex_flow": null,
      "grid_area": null,
      "grid_auto_columns": null,
      "grid_auto_flow": null,
      "grid_auto_rows": null,
      "grid_column": null,
      "grid_gap": null,
      "grid_row": null,
      "grid_template_areas": null,
      "grid_template_columns": null,
      "grid_template_rows": null,
      "height": null,
      "justify_content": null,
      "justify_items": null,
      "left": null,
      "margin": null,
      "max_height": null,
      "max_width": null,
      "min_height": null,
      "min_width": null,
      "object_fit": null,
      "object_position": null,
      "order": null,
      "overflow": null,
      "overflow_x": null,
      "overflow_y": null,
      "padding": null,
      "right": null,
      "top": null,
      "visibility": null,
      "width": null
     }
    },
    "60cd3d70d62a421aa201a1070df2ef1d": {
     "model_module": "@jupyter-widgets/controls",
     "model_module_version": "1.5.0",
     "model_name": "ProgressStyleModel",
     "state": {
      "_model_module": "@jupyter-widgets/controls",
      "_model_module_version": "1.5.0",
      "_model_name": "ProgressStyleModel",
      "_view_count": null,
      "_view_module": "@jupyter-widgets/base",
      "_view_module_version": "1.2.0",
      "_view_name": "StyleView",
      "bar_color": null,
      "description_width": ""
     }
    },
    "6bc95a408dbb4bb5b5a6f0120c68ebab": {
     "model_module": "@jupyter-widgets/controls",
     "model_module_version": "1.5.0",
     "model_name": "DescriptionStyleModel",
     "state": {
      "_model_module": "@jupyter-widgets/controls",
      "_model_module_version": "1.5.0",
      "_model_name": "DescriptionStyleModel",
      "_view_count": null,
      "_view_module": "@jupyter-widgets/base",
      "_view_module_version": "1.2.0",
      "_view_name": "StyleView",
      "description_width": ""
     }
    },
    "6e27d317698d4795b3ad2bd9dd6dfcdf": {
     "model_module": "@jupyter-widgets/controls",
     "model_module_version": "1.5.0",
     "model_name": "HTMLModel",
     "state": {
      "_dom_classes": [],
      "_model_module": "@jupyter-widgets/controls",
      "_model_module_version": "1.5.0",
      "_model_name": "HTMLModel",
      "_view_count": null,
      "_view_module": "@jupyter-widgets/controls",
      "_view_module_version": "1.5.0",
      "_view_name": "HTMLView",
      "description": "",
      "description_tooltip": null,
      "layout": "IPY_MODEL_42bb2316c6844c10bb5481a87fbb1c33",
      "placeholder": "​",
      "style": "IPY_MODEL_8c1ea0c553f54d8183312555f4f4f1ea",
      "value": "Downloading (…)lve/main/config.json: 100%"
     }
    },
    "71bb68ec4a2c4b849adc8807c00db508": {
     "model_module": "@jupyter-widgets/controls",
     "model_module_version": "1.5.0",
     "model_name": "HBoxModel",
     "state": {
      "_dom_classes": [],
      "_model_module": "@jupyter-widgets/controls",
      "_model_module_version": "1.5.0",
      "_model_name": "HBoxModel",
      "_view_count": null,
      "_view_module": "@jupyter-widgets/controls",
      "_view_module_version": "1.5.0",
      "_view_name": "HBoxView",
      "box_style": "",
      "children": [
       "IPY_MODEL_2bfa6005b0d24fda863cb6cd9add4347",
       "IPY_MODEL_d20ee2ccaa334c428b957b27759ff052",
       "IPY_MODEL_cca2893649524023b06d4a0b38f6a550"
      ],
      "layout": "IPY_MODEL_ce428eaa81ed4b58ac6c3e4cb96e31d1"
     }
    },
    "790d042afd6b4c158ca5d26f08371ca6": {
     "model_module": "@jupyter-widgets/controls",
     "model_module_version": "1.5.0",
     "model_name": "DescriptionStyleModel",
     "state": {
      "_model_module": "@jupyter-widgets/controls",
      "_model_module_version": "1.5.0",
      "_model_name": "DescriptionStyleModel",
      "_view_count": null,
      "_view_module": "@jupyter-widgets/base",
      "_view_module_version": "1.2.0",
      "_view_name": "StyleView",
      "description_width": ""
     }
    },
    "79c58d0995954933b466adc93354e0c0": {
     "model_module": "@jupyter-widgets/base",
     "model_module_version": "1.2.0",
     "model_name": "LayoutModel",
     "state": {
      "_model_module": "@jupyter-widgets/base",
      "_model_module_version": "1.2.0",
      "_model_name": "LayoutModel",
      "_view_count": null,
      "_view_module": "@jupyter-widgets/base",
      "_view_module_version": "1.2.0",
      "_view_name": "LayoutView",
      "align_content": null,
      "align_items": null,
      "align_self": null,
      "border": null,
      "bottom": null,
      "display": null,
      "flex": null,
      "flex_flow": null,
      "grid_area": null,
      "grid_auto_columns": null,
      "grid_auto_flow": null,
      "grid_auto_rows": null,
      "grid_column": null,
      "grid_gap": null,
      "grid_row": null,
      "grid_template_areas": null,
      "grid_template_columns": null,
      "grid_template_rows": null,
      "height": null,
      "justify_content": null,
      "justify_items": null,
      "left": null,
      "margin": null,
      "max_height": null,
      "max_width": null,
      "min_height": null,
      "min_width": null,
      "object_fit": null,
      "object_position": null,
      "order": null,
      "overflow": null,
      "overflow_x": null,
      "overflow_y": null,
      "padding": null,
      "right": null,
      "top": null,
      "visibility": null,
      "width": null
     }
    },
    "7acbd544151f4747bd19938440eb85d1": {
     "model_module": "@jupyter-widgets/controls",
     "model_module_version": "1.5.0",
     "model_name": "DescriptionStyleModel",
     "state": {
      "_model_module": "@jupyter-widgets/controls",
      "_model_module_version": "1.5.0",
      "_model_name": "DescriptionStyleModel",
      "_view_count": null,
      "_view_module": "@jupyter-widgets/base",
      "_view_module_version": "1.2.0",
      "_view_name": "StyleView",
      "description_width": ""
     }
    },
    "7fa5dffd30394a1e8d7bbfcd80e1abef": {
     "model_module": "@jupyter-widgets/controls",
     "model_module_version": "1.5.0",
     "model_name": "ProgressStyleModel",
     "state": {
      "_model_module": "@jupyter-widgets/controls",
      "_model_module_version": "1.5.0",
      "_model_name": "ProgressStyleModel",
      "_view_count": null,
      "_view_module": "@jupyter-widgets/base",
      "_view_module_version": "1.2.0",
      "_view_name": "StyleView",
      "bar_color": null,
      "description_width": ""
     }
    },
    "806e77dc79084270824b191149e4adf9": {
     "model_module": "@jupyter-widgets/controls",
     "model_module_version": "1.5.0",
     "model_name": "HTMLModel",
     "state": {
      "_dom_classes": [],
      "_model_module": "@jupyter-widgets/controls",
      "_model_module_version": "1.5.0",
      "_model_name": "HTMLModel",
      "_view_count": null,
      "_view_module": "@jupyter-widgets/controls",
      "_view_module_version": "1.5.0",
      "_view_name": "HTMLView",
      "description": "",
      "description_tooltip": null,
      "layout": "IPY_MODEL_846f15f47fbb4613b559944280e98d9e",
      "placeholder": "​",
      "style": "IPY_MODEL_b9a01454f8894851b84c87d4e49dbeb8",
      "value": "Map: 100%"
     }
    },
    "846f15f47fbb4613b559944280e98d9e": {
     "model_module": "@jupyter-widgets/base",
     "model_module_version": "1.2.0",
     "model_name": "LayoutModel",
     "state": {
      "_model_module": "@jupyter-widgets/base",
      "_model_module_version": "1.2.0",
      "_model_name": "LayoutModel",
      "_view_count": null,
      "_view_module": "@jupyter-widgets/base",
      "_view_module_version": "1.2.0",
      "_view_name": "LayoutView",
      "align_content": null,
      "align_items": null,
      "align_self": null,
      "border": null,
      "bottom": null,
      "display": null,
      "flex": null,
      "flex_flow": null,
      "grid_area": null,
      "grid_auto_columns": null,
      "grid_auto_flow": null,
      "grid_auto_rows": null,
      "grid_column": null,
      "grid_gap": null,
      "grid_row": null,
      "grid_template_areas": null,
      "grid_template_columns": null,
      "grid_template_rows": null,
      "height": null,
      "justify_content": null,
      "justify_items": null,
      "left": null,
      "margin": null,
      "max_height": null,
      "max_width": null,
      "min_height": null,
      "min_width": null,
      "object_fit": null,
      "object_position": null,
      "order": null,
      "overflow": null,
      "overflow_x": null,
      "overflow_y": null,
      "padding": null,
      "right": null,
      "top": null,
      "visibility": null,
      "width": null
     }
    },
    "8c1ea0c553f54d8183312555f4f4f1ea": {
     "model_module": "@jupyter-widgets/controls",
     "model_module_version": "1.5.0",
     "model_name": "DescriptionStyleModel",
     "state": {
      "_model_module": "@jupyter-widgets/controls",
      "_model_module_version": "1.5.0",
      "_model_name": "DescriptionStyleModel",
      "_view_count": null,
      "_view_module": "@jupyter-widgets/base",
      "_view_module_version": "1.2.0",
      "_view_name": "StyleView",
      "description_width": ""
     }
    },
    "8cf3b43f2eb442d4a785daae9cc28ba7": {
     "model_module": "@jupyter-widgets/controls",
     "model_module_version": "1.5.0",
     "model_name": "ProgressStyleModel",
     "state": {
      "_model_module": "@jupyter-widgets/controls",
      "_model_module_version": "1.5.0",
      "_model_name": "ProgressStyleModel",
      "_view_count": null,
      "_view_module": "@jupyter-widgets/base",
      "_view_module_version": "1.2.0",
      "_view_name": "StyleView",
      "bar_color": null,
      "description_width": ""
     }
    },
    "927b68d3997d4061a173727803ccdbd5": {
     "model_module": "@jupyter-widgets/controls",
     "model_module_version": "1.5.0",
     "model_name": "HTMLModel",
     "state": {
      "_dom_classes": [],
      "_model_module": "@jupyter-widgets/controls",
      "_model_module_version": "1.5.0",
      "_model_name": "HTMLModel",
      "_view_count": null,
      "_view_module": "@jupyter-widgets/controls",
      "_view_module_version": "1.5.0",
      "_view_name": "HTMLView",
      "description": "",
      "description_tooltip": null,
      "layout": "IPY_MODEL_cd8c8ad3e47e4dabb8c3079a15994284",
      "placeholder": "​",
      "style": "IPY_MODEL_6bc95a408dbb4bb5b5a6f0120c68ebab",
      "value": " 401/401 [00:00&lt;00:00, 23.7kB/s]"
     }
    },
    "960edf31999f4783afd21b3d022e6a55": {
     "model_module": "@jupyter-widgets/base",
     "model_module_version": "1.2.0",
     "model_name": "LayoutModel",
     "state": {
      "_model_module": "@jupyter-widgets/base",
      "_model_module_version": "1.2.0",
      "_model_name": "LayoutModel",
      "_view_count": null,
      "_view_module": "@jupyter-widgets/base",
      "_view_module_version": "1.2.0",
      "_view_name": "LayoutView",
      "align_content": null,
      "align_items": null,
      "align_self": null,
      "border": null,
      "bottom": null,
      "display": null,
      "flex": null,
      "flex_flow": null,
      "grid_area": null,
      "grid_auto_columns": null,
      "grid_auto_flow": null,
      "grid_auto_rows": null,
      "grid_column": null,
      "grid_gap": null,
      "grid_row": null,
      "grid_template_areas": null,
      "grid_template_columns": null,
      "grid_template_rows": null,
      "height": null,
      "justify_content": null,
      "justify_items": null,
      "left": null,
      "margin": null,
      "max_height": null,
      "max_width": null,
      "min_height": null,
      "min_width": null,
      "object_fit": null,
      "object_position": null,
      "order": null,
      "overflow": null,
      "overflow_x": null,
      "overflow_y": null,
      "padding": null,
      "right": null,
      "top": null,
      "visibility": "hidden",
      "width": null
     }
    },
    "9847f9cb2a634c5b8dcbaf14fa17e4fe": {
     "model_module": "@jupyter-widgets/controls",
     "model_module_version": "1.5.0",
     "model_name": "HTMLModel",
     "state": {
      "_dom_classes": [],
      "_model_module": "@jupyter-widgets/controls",
      "_model_module_version": "1.5.0",
      "_model_name": "HTMLModel",
      "_view_count": null,
      "_view_module": "@jupyter-widgets/controls",
      "_view_module_version": "1.5.0",
      "_view_name": "HTMLView",
      "description": "",
      "description_tooltip": null,
      "layout": "IPY_MODEL_4717f926c18941138e1fb1591109db98",
      "placeholder": "​",
      "style": "IPY_MODEL_be3672cdebad499793629374d3034a14",
      "value": "Downloading (…)cial_tokens_map.json: 100%"
     }
    },
    "9bca75f574ba4ceab438a252f55ae5ed": {
     "model_module": "@jupyter-widgets/controls",
     "model_module_version": "1.5.0",
     "model_name": "DescriptionStyleModel",
     "state": {
      "_model_module": "@jupyter-widgets/controls",
      "_model_module_version": "1.5.0",
      "_model_name": "DescriptionStyleModel",
      "_view_count": null,
      "_view_module": "@jupyter-widgets/base",
      "_view_module_version": "1.2.0",
      "_view_name": "StyleView",
      "description_width": ""
     }
    },
    "9f9d12137e1a4fb09e3f663b84fffe55": {
     "model_module": "@jupyter-widgets/base",
     "model_module_version": "1.2.0",
     "model_name": "LayoutModel",
     "state": {
      "_model_module": "@jupyter-widgets/base",
      "_model_module_version": "1.2.0",
      "_model_name": "LayoutModel",
      "_view_count": null,
      "_view_module": "@jupyter-widgets/base",
      "_view_module_version": "1.2.0",
      "_view_name": "LayoutView",
      "align_content": null,
      "align_items": null,
      "align_self": null,
      "border": null,
      "bottom": null,
      "display": null,
      "flex": null,
      "flex_flow": null,
      "grid_area": null,
      "grid_auto_columns": null,
      "grid_auto_flow": null,
      "grid_auto_rows": null,
      "grid_column": null,
      "grid_gap": null,
      "grid_row": null,
      "grid_template_areas": null,
      "grid_template_columns": null,
      "grid_template_rows": null,
      "height": null,
      "justify_content": null,
      "justify_items": null,
      "left": null,
      "margin": null,
      "max_height": null,
      "max_width": null,
      "min_height": null,
      "min_width": null,
      "object_fit": null,
      "object_position": null,
      "order": null,
      "overflow": null,
      "overflow_x": null,
      "overflow_y": null,
      "padding": null,
      "right": null,
      "top": null,
      "visibility": null,
      "width": null
     }
    },
    "a26e79b1f83a40799078831757d66a26": {
     "model_module": "@jupyter-widgets/controls",
     "model_module_version": "1.5.0",
     "model_name": "DescriptionStyleModel",
     "state": {
      "_model_module": "@jupyter-widgets/controls",
      "_model_module_version": "1.5.0",
      "_model_name": "DescriptionStyleModel",
      "_view_count": null,
      "_view_module": "@jupyter-widgets/base",
      "_view_module_version": "1.2.0",
      "_view_name": "StyleView",
      "description_width": ""
     }
    },
    "a469070b38ba4bff948065fefab779da": {
     "model_module": "@jupyter-widgets/base",
     "model_module_version": "1.2.0",
     "model_name": "LayoutModel",
     "state": {
      "_model_module": "@jupyter-widgets/base",
      "_model_module_version": "1.2.0",
      "_model_name": "LayoutModel",
      "_view_count": null,
      "_view_module": "@jupyter-widgets/base",
      "_view_module_version": "1.2.0",
      "_view_name": "LayoutView",
      "align_content": null,
      "align_items": null,
      "align_self": null,
      "border": null,
      "bottom": null,
      "display": null,
      "flex": null,
      "flex_flow": null,
      "grid_area": null,
      "grid_auto_columns": null,
      "grid_auto_flow": null,
      "grid_auto_rows": null,
      "grid_column": null,
      "grid_gap": null,
      "grid_row": null,
      "grid_template_areas": null,
      "grid_template_columns": null,
      "grid_template_rows": null,
      "height": null,
      "justify_content": null,
      "justify_items": null,
      "left": null,
      "margin": null,
      "max_height": null,
      "max_width": null,
      "min_height": null,
      "min_width": null,
      "object_fit": null,
      "object_position": null,
      "order": null,
      "overflow": null,
      "overflow_x": null,
      "overflow_y": null,
      "padding": null,
      "right": null,
      "top": null,
      "visibility": null,
      "width": null
     }
    },
    "a533cc3461d44c1081a51585673e36ca": {
     "model_module": "@jupyter-widgets/base",
     "model_module_version": "1.2.0",
     "model_name": "LayoutModel",
     "state": {
      "_model_module": "@jupyter-widgets/base",
      "_model_module_version": "1.2.0",
      "_model_name": "LayoutModel",
      "_view_count": null,
      "_view_module": "@jupyter-widgets/base",
      "_view_module_version": "1.2.0",
      "_view_name": "LayoutView",
      "align_content": null,
      "align_items": null,
      "align_self": null,
      "border": null,
      "bottom": null,
      "display": null,
      "flex": null,
      "flex_flow": null,
      "grid_area": null,
      "grid_auto_columns": null,
      "grid_auto_flow": null,
      "grid_auto_rows": null,
      "grid_column": null,
      "grid_gap": null,
      "grid_row": null,
      "grid_template_areas": null,
      "grid_template_columns": null,
      "grid_template_rows": null,
      "height": null,
      "justify_content": null,
      "justify_items": null,
      "left": null,
      "margin": null,
      "max_height": null,
      "max_width": null,
      "min_height": null,
      "min_width": null,
      "object_fit": null,
      "object_position": null,
      "order": null,
      "overflow": null,
      "overflow_x": null,
      "overflow_y": null,
      "padding": null,
      "right": null,
      "top": null,
      "visibility": null,
      "width": null
     }
    },
    "a5bdeb88c6b3423786799ac43d32b48b": {
     "model_module": "@jupyter-widgets/controls",
     "model_module_version": "1.5.0",
     "model_name": "HTMLModel",
     "state": {
      "_dom_classes": [],
      "_model_module": "@jupyter-widgets/controls",
      "_model_module_version": "1.5.0",
      "_model_name": "HTMLModel",
      "_view_count": null,
      "_view_module": "@jupyter-widgets/controls",
      "_view_module_version": "1.5.0",
      "_view_name": "HTMLView",
      "description": "",
      "description_tooltip": null,
      "layout": "IPY_MODEL_ae692660ee344265a9bf63f4907701b0",
      "placeholder": "​",
      "style": "IPY_MODEL_d13a1c872ac14caeb460bc8d7c3d3f20",
      "value": "Downloading (…)solve/main/vocab.txt: 100%"
     }
    },
    "ae692660ee344265a9bf63f4907701b0": {
     "model_module": "@jupyter-widgets/base",
     "model_module_version": "1.2.0",
     "model_name": "LayoutModel",
     "state": {
      "_model_module": "@jupyter-widgets/base",
      "_model_module_version": "1.2.0",
      "_model_name": "LayoutModel",
      "_view_count": null,
      "_view_module": "@jupyter-widgets/base",
      "_view_module_version": "1.2.0",
      "_view_name": "LayoutView",
      "align_content": null,
      "align_items": null,
      "align_self": null,
      "border": null,
      "bottom": null,
      "display": null,
      "flex": null,
      "flex_flow": null,
      "grid_area": null,
      "grid_auto_columns": null,
      "grid_auto_flow": null,
      "grid_auto_rows": null,
      "grid_column": null,
      "grid_gap": null,
      "grid_row": null,
      "grid_template_areas": null,
      "grid_template_columns": null,
      "grid_template_rows": null,
      "height": null,
      "justify_content": null,
      "justify_items": null,
      "left": null,
      "margin": null,
      "max_height": null,
      "max_width": null,
      "min_height": null,
      "min_width": null,
      "object_fit": null,
      "object_position": null,
      "order": null,
      "overflow": null,
      "overflow_x": null,
      "overflow_y": null,
      "padding": null,
      "right": null,
      "top": null,
      "visibility": null,
      "width": null
     }
    },
    "b0eabe9ef3a04d7d8c110bc79a166ece": {
     "model_module": "@jupyter-widgets/controls",
     "model_module_version": "1.5.0",
     "model_name": "DescriptionStyleModel",
     "state": {
      "_model_module": "@jupyter-widgets/controls",
      "_model_module_version": "1.5.0",
      "_model_name": "DescriptionStyleModel",
      "_view_count": null,
      "_view_module": "@jupyter-widgets/base",
      "_view_module_version": "1.2.0",
      "_view_name": "StyleView",
      "description_width": ""
     }
    },
    "b3ebeb2d7ec746938ba64ae0e58853d9": {
     "model_module": "@jupyter-widgets/controls",
     "model_module_version": "1.5.0",
     "model_name": "DescriptionStyleModel",
     "state": {
      "_model_module": "@jupyter-widgets/controls",
      "_model_module_version": "1.5.0",
      "_model_name": "DescriptionStyleModel",
      "_view_count": null,
      "_view_module": "@jupyter-widgets/base",
      "_view_module_version": "1.2.0",
      "_view_name": "StyleView",
      "description_width": ""
     }
    },
    "b674bf1aab6f45aab475f05d8e22d874": {
     "model_module": "@jupyter-widgets/base",
     "model_module_version": "1.2.0",
     "model_name": "LayoutModel",
     "state": {
      "_model_module": "@jupyter-widgets/base",
      "_model_module_version": "1.2.0",
      "_model_name": "LayoutModel",
      "_view_count": null,
      "_view_module": "@jupyter-widgets/base",
      "_view_module_version": "1.2.0",
      "_view_name": "LayoutView",
      "align_content": null,
      "align_items": null,
      "align_self": null,
      "border": null,
      "bottom": null,
      "display": null,
      "flex": null,
      "flex_flow": null,
      "grid_area": null,
      "grid_auto_columns": null,
      "grid_auto_flow": null,
      "grid_auto_rows": null,
      "grid_column": null,
      "grid_gap": null,
      "grid_row": null,
      "grid_template_areas": null,
      "grid_template_columns": null,
      "grid_template_rows": null,
      "height": null,
      "justify_content": null,
      "justify_items": null,
      "left": null,
      "margin": null,
      "max_height": null,
      "max_width": null,
      "min_height": null,
      "min_width": null,
      "object_fit": null,
      "object_position": null,
      "order": null,
      "overflow": null,
      "overflow_x": null,
      "overflow_y": null,
      "padding": null,
      "right": null,
      "top": null,
      "visibility": null,
      "width": null
     }
    },
    "b6918a8391034fd698c67d7f650868ad": {
     "model_module": "@jupyter-widgets/controls",
     "model_module_version": "1.5.0",
     "model_name": "FloatProgressModel",
     "state": {
      "_dom_classes": [],
      "_model_module": "@jupyter-widgets/controls",
      "_model_module_version": "1.5.0",
      "_model_name": "FloatProgressModel",
      "_view_count": null,
      "_view_module": "@jupyter-widgets/controls",
      "_view_module_version": "1.5.0",
      "_view_name": "ProgressView",
      "bar_style": "success",
      "description": "",
      "description_tooltip": null,
      "layout": "IPY_MODEL_dd9d6fb308e64be7b20824e1a60d400f",
      "max": 112,
      "min": 0,
      "orientation": "horizontal",
      "style": "IPY_MODEL_46c91b3585a74ccea813900ea868836d",
      "value": 112
     }
    },
    "b9a01454f8894851b84c87d4e49dbeb8": {
     "model_module": "@jupyter-widgets/controls",
     "model_module_version": "1.5.0",
     "model_name": "DescriptionStyleModel",
     "state": {
      "_model_module": "@jupyter-widgets/controls",
      "_model_module_version": "1.5.0",
      "_model_name": "DescriptionStyleModel",
      "_view_count": null,
      "_view_module": "@jupyter-widgets/base",
      "_view_module_version": "1.2.0",
      "_view_name": "StyleView",
      "description_width": ""
     }
    },
    "b9d42b9a45464a25927f3c580618e7e0": {
     "model_module": "@jupyter-widgets/base",
     "model_module_version": "1.2.0",
     "model_name": "LayoutModel",
     "state": {
      "_model_module": "@jupyter-widgets/base",
      "_model_module_version": "1.2.0",
      "_model_name": "LayoutModel",
      "_view_count": null,
      "_view_module": "@jupyter-widgets/base",
      "_view_module_version": "1.2.0",
      "_view_name": "LayoutView",
      "align_content": null,
      "align_items": null,
      "align_self": null,
      "border": null,
      "bottom": null,
      "display": null,
      "flex": null,
      "flex_flow": null,
      "grid_area": null,
      "grid_auto_columns": null,
      "grid_auto_flow": null,
      "grid_auto_rows": null,
      "grid_column": null,
      "grid_gap": null,
      "grid_row": null,
      "grid_template_areas": null,
      "grid_template_columns": null,
      "grid_template_rows": null,
      "height": null,
      "justify_content": null,
      "justify_items": null,
      "left": null,
      "margin": null,
      "max_height": null,
      "max_width": null,
      "min_height": null,
      "min_width": null,
      "object_fit": null,
      "object_position": null,
      "order": null,
      "overflow": null,
      "overflow_x": null,
      "overflow_y": null,
      "padding": null,
      "right": null,
      "top": null,
      "visibility": null,
      "width": null
     }
    },
    "bb34cd5a19b3459ba0190799f1072e9e": {
     "model_module": "@jupyter-widgets/controls",
     "model_module_version": "1.5.0",
     "model_name": "ProgressStyleModel",
     "state": {
      "_model_module": "@jupyter-widgets/controls",
      "_model_module_version": "1.5.0",
      "_model_name": "ProgressStyleModel",
      "_view_count": null,
      "_view_module": "@jupyter-widgets/base",
      "_view_module_version": "1.2.0",
      "_view_name": "StyleView",
      "bar_color": null,
      "description_width": ""
     }
    },
    "be3145c0308f4a19ac0dd2e9f7e76077": {
     "model_module": "@jupyter-widgets/controls",
     "model_module_version": "1.5.0",
     "model_name": "ProgressStyleModel",
     "state": {
      "_model_module": "@jupyter-widgets/controls",
      "_model_module_version": "1.5.0",
      "_model_name": "ProgressStyleModel",
      "_view_count": null,
      "_view_module": "@jupyter-widgets/base",
      "_view_module_version": "1.2.0",
      "_view_name": "StyleView",
      "bar_color": null,
      "description_width": ""
     }
    },
    "be3672cdebad499793629374d3034a14": {
     "model_module": "@jupyter-widgets/controls",
     "model_module_version": "1.5.0",
     "model_name": "DescriptionStyleModel",
     "state": {
      "_model_module": "@jupyter-widgets/controls",
      "_model_module_version": "1.5.0",
      "_model_name": "DescriptionStyleModel",
      "_view_count": null,
      "_view_module": "@jupyter-widgets/base",
      "_view_module_version": "1.2.0",
      "_view_name": "StyleView",
      "description_width": ""
     }
    },
    "bf86aa7176774a8d86559b04da826e9e": {
     "model_module": "@jupyter-widgets/controls",
     "model_module_version": "1.5.0",
     "model_name": "HTMLModel",
     "state": {
      "_dom_classes": [],
      "_model_module": "@jupyter-widgets/controls",
      "_model_module_version": "1.5.0",
      "_model_name": "HTMLModel",
      "_view_count": null,
      "_view_module": "@jupyter-widgets/controls",
      "_view_module_version": "1.5.0",
      "_view_name": "HTMLView",
      "description": "",
      "description_tooltip": null,
      "layout": "IPY_MODEL_a533cc3461d44c1081a51585673e36ca",
      "placeholder": "​",
      "style": "IPY_MODEL_b3ebeb2d7ec746938ba64ae0e58853d9",
      "value": " 715/715 [00:00&lt;00:00, 27.6kB/s]"
     }
    },
    "c30304adfb9449f99eac497285255800": {
     "model_module": "@jupyter-widgets/base",
     "model_module_version": "1.2.0",
     "model_name": "LayoutModel",
     "state": {
      "_model_module": "@jupyter-widgets/base",
      "_model_module_version": "1.2.0",
      "_model_name": "LayoutModel",
      "_view_count": null,
      "_view_module": "@jupyter-widgets/base",
      "_view_module_version": "1.2.0",
      "_view_name": "LayoutView",
      "align_content": null,
      "align_items": null,
      "align_self": null,
      "border": null,
      "bottom": null,
      "display": null,
      "flex": null,
      "flex_flow": null,
      "grid_area": null,
      "grid_auto_columns": null,
      "grid_auto_flow": null,
      "grid_auto_rows": null,
      "grid_column": null,
      "grid_gap": null,
      "grid_row": null,
      "grid_template_areas": null,
      "grid_template_columns": null,
      "grid_template_rows": null,
      "height": null,
      "justify_content": null,
      "justify_items": null,
      "left": null,
      "margin": null,
      "max_height": null,
      "max_width": null,
      "min_height": null,
      "min_width": null,
      "object_fit": null,
      "object_position": null,
      "order": null,
      "overflow": null,
      "overflow_x": null,
      "overflow_y": null,
      "padding": null,
      "right": null,
      "top": null,
      "visibility": null,
      "width": null
     }
    },
    "c367549a5ac349a1b90f1405d6191bd6": {
     "model_module": "@jupyter-widgets/base",
     "model_module_version": "1.2.0",
     "model_name": "LayoutModel",
     "state": {
      "_model_module": "@jupyter-widgets/base",
      "_model_module_version": "1.2.0",
      "_model_name": "LayoutModel",
      "_view_count": null,
      "_view_module": "@jupyter-widgets/base",
      "_view_module_version": "1.2.0",
      "_view_name": "LayoutView",
      "align_content": null,
      "align_items": null,
      "align_self": null,
      "border": null,
      "bottom": null,
      "display": null,
      "flex": null,
      "flex_flow": null,
      "grid_area": null,
      "grid_auto_columns": null,
      "grid_auto_flow": null,
      "grid_auto_rows": null,
      "grid_column": null,
      "grid_gap": null,
      "grid_row": null,
      "grid_template_areas": null,
      "grid_template_columns": null,
      "grid_template_rows": null,
      "height": null,
      "justify_content": null,
      "justify_items": null,
      "left": null,
      "margin": null,
      "max_height": null,
      "max_width": null,
      "min_height": null,
      "min_width": null,
      "object_fit": null,
      "object_position": null,
      "order": null,
      "overflow": null,
      "overflow_x": null,
      "overflow_y": null,
      "padding": null,
      "right": null,
      "top": null,
      "visibility": null,
      "width": null
     }
    },
    "c3ac74d4a6e34a4eaa61b89f7bd6ab66": {
     "model_module": "@jupyter-widgets/controls",
     "model_module_version": "1.5.0",
     "model_name": "ProgressStyleModel",
     "state": {
      "_model_module": "@jupyter-widgets/controls",
      "_model_module_version": "1.5.0",
      "_model_name": "ProgressStyleModel",
      "_view_count": null,
      "_view_module": "@jupyter-widgets/base",
      "_view_module_version": "1.2.0",
      "_view_name": "StyleView",
      "bar_color": null,
      "description_width": ""
     }
    },
    "c9627759aa4749029a6f3ff0721de6a4": {
     "model_module": "@jupyter-widgets/base",
     "model_module_version": "1.2.0",
     "model_name": "LayoutModel",
     "state": {
      "_model_module": "@jupyter-widgets/base",
      "_model_module_version": "1.2.0",
      "_model_name": "LayoutModel",
      "_view_count": null,
      "_view_module": "@jupyter-widgets/base",
      "_view_module_version": "1.2.0",
      "_view_name": "LayoutView",
      "align_content": null,
      "align_items": null,
      "align_self": null,
      "border": null,
      "bottom": null,
      "display": null,
      "flex": null,
      "flex_flow": null,
      "grid_area": null,
      "grid_auto_columns": null,
      "grid_auto_flow": null,
      "grid_auto_rows": null,
      "grid_column": null,
      "grid_gap": null,
      "grid_row": null,
      "grid_template_areas": null,
      "grid_template_columns": null,
      "grid_template_rows": null,
      "height": null,
      "justify_content": null,
      "justify_items": null,
      "left": null,
      "margin": null,
      "max_height": null,
      "max_width": null,
      "min_height": null,
      "min_width": null,
      "object_fit": null,
      "object_position": null,
      "order": null,
      "overflow": null,
      "overflow_x": null,
      "overflow_y": null,
      "padding": null,
      "right": null,
      "top": null,
      "visibility": null,
      "width": null
     }
    },
    "c9f4395dac1d47d98086bb54a56bd02f": {
     "model_module": "@jupyter-widgets/base",
     "model_module_version": "1.2.0",
     "model_name": "LayoutModel",
     "state": {
      "_model_module": "@jupyter-widgets/base",
      "_model_module_version": "1.2.0",
      "_model_name": "LayoutModel",
      "_view_count": null,
      "_view_module": "@jupyter-widgets/base",
      "_view_module_version": "1.2.0",
      "_view_name": "LayoutView",
      "align_content": null,
      "align_items": null,
      "align_self": null,
      "border": null,
      "bottom": null,
      "display": null,
      "flex": null,
      "flex_flow": null,
      "grid_area": null,
      "grid_auto_columns": null,
      "grid_auto_flow": null,
      "grid_auto_rows": null,
      "grid_column": null,
      "grid_gap": null,
      "grid_row": null,
      "grid_template_areas": null,
      "grid_template_columns": null,
      "grid_template_rows": null,
      "height": null,
      "justify_content": null,
      "justify_items": null,
      "left": null,
      "margin": null,
      "max_height": null,
      "max_width": null,
      "min_height": null,
      "min_width": null,
      "object_fit": null,
      "object_position": null,
      "order": null,
      "overflow": null,
      "overflow_x": null,
      "overflow_y": null,
      "padding": null,
      "right": null,
      "top": null,
      "visibility": null,
      "width": null
     }
    },
    "caca9680b4644863927f7d40f729b7fd": {
     "model_module": "@jupyter-widgets/controls",
     "model_module_version": "1.5.0",
     "model_name": "FloatProgressModel",
     "state": {
      "_dom_classes": [],
      "_model_module": "@jupyter-widgets/controls",
      "_model_module_version": "1.5.0",
      "_model_name": "FloatProgressModel",
      "_view_count": null,
      "_view_module": "@jupyter-widgets/controls",
      "_view_module_version": "1.5.0",
      "_view_name": "ProgressView",
      "bar_style": "success",
      "description": "",
      "description_tooltip": null,
      "layout": "IPY_MODEL_e65b023af7804f80ab2f6c972ec7a6b2",
      "max": 1080667,
      "min": 0,
      "orientation": "horizontal",
      "style": "IPY_MODEL_7fa5dffd30394a1e8d7bbfcd80e1abef",
      "value": 1080667
     }
    },
    "cca2893649524023b06d4a0b38f6a550": {
     "model_module": "@jupyter-widgets/controls",
     "model_module_version": "1.5.0",
     "model_name": "HTMLModel",
     "state": {
      "_dom_classes": [],
      "_model_module": "@jupyter-widgets/controls",
      "_model_module_version": "1.5.0",
      "_model_name": "HTMLModel",
      "_view_count": null,
      "_view_module": "@jupyter-widgets/controls",
      "_view_module_version": "1.5.0",
      "_view_name": "HTMLView",
      "description": "",
      "description_tooltip": null,
      "layout": "IPY_MODEL_2f7c17becaa84e428df7c99a4dd490d2",
      "placeholder": "​",
      "style": "IPY_MODEL_0d81fe03516e49a5b4471590db823ab1",
      "value": " 3847/3847 [00:01&lt;00:00, 2692.92 examples/s]"
     }
    },
    "cd4a64bb86744803be06a16037882050": {
     "model_module": "@jupyter-widgets/controls",
     "model_module_version": "1.5.0",
     "model_name": "FloatProgressModel",
     "state": {
      "_dom_classes": [],
      "_model_module": "@jupyter-widgets/controls",
      "_model_module_version": "1.5.0",
      "_model_name": "FloatProgressModel",
      "_view_count": null,
      "_view_module": "@jupyter-widgets/controls",
      "_view_module_version": "1.5.0",
      "_view_name": "ProgressView",
      "bar_style": "success",
      "description": "",
      "description_tooltip": null,
      "layout": "IPY_MODEL_cedf37fbc7b94103a3d7c5a59064bdb3",
      "max": 1741842,
      "min": 0,
      "orientation": "horizontal",
      "style": "IPY_MODEL_be3145c0308f4a19ac0dd2e9f7e76077",
      "value": 1741842
     }
    },
    "cd8c8ad3e47e4dabb8c3079a15994284": {
     "model_module": "@jupyter-widgets/base",
     "model_module_version": "1.2.0",
     "model_name": "LayoutModel",
     "state": {
      "_model_module": "@jupyter-widgets/base",
      "_model_module_version": "1.2.0",
      "_model_name": "LayoutModel",
      "_view_count": null,
      "_view_module": "@jupyter-widgets/base",
      "_view_module_version": "1.2.0",
      "_view_name": "LayoutView",
      "align_content": null,
      "align_items": null,
      "align_self": null,
      "border": null,
      "bottom": null,
      "display": null,
      "flex": null,
      "flex_flow": null,
      "grid_area": null,
      "grid_auto_columns": null,
      "grid_auto_flow": null,
      "grid_auto_rows": null,
      "grid_column": null,
      "grid_gap": null,
      "grid_row": null,
      "grid_template_areas": null,
      "grid_template_columns": null,
      "grid_template_rows": null,
      "height": null,
      "justify_content": null,
      "justify_items": null,
      "left": null,
      "margin": null,
      "max_height": null,
      "max_width": null,
      "min_height": null,
      "min_width": null,
      "object_fit": null,
      "object_position": null,
      "order": null,
      "overflow": null,
      "overflow_x": null,
      "overflow_y": null,
      "padding": null,
      "right": null,
      "top": null,
      "visibility": null,
      "width": null
     }
    },
    "ce428eaa81ed4b58ac6c3e4cb96e31d1": {
     "model_module": "@jupyter-widgets/base",
     "model_module_version": "1.2.0",
     "model_name": "LayoutModel",
     "state": {
      "_model_module": "@jupyter-widgets/base",
      "_model_module_version": "1.2.0",
      "_model_name": "LayoutModel",
      "_view_count": null,
      "_view_module": "@jupyter-widgets/base",
      "_view_module_version": "1.2.0",
      "_view_name": "LayoutView",
      "align_content": null,
      "align_items": null,
      "align_self": null,
      "border": null,
      "bottom": null,
      "display": null,
      "flex": null,
      "flex_flow": null,
      "grid_area": null,
      "grid_auto_columns": null,
      "grid_auto_flow": null,
      "grid_auto_rows": null,
      "grid_column": null,
      "grid_gap": null,
      "grid_row": null,
      "grid_template_areas": null,
      "grid_template_columns": null,
      "grid_template_rows": null,
      "height": null,
      "justify_content": null,
      "justify_items": null,
      "left": null,
      "margin": null,
      "max_height": null,
      "max_width": null,
      "min_height": null,
      "min_width": null,
      "object_fit": null,
      "object_position": null,
      "order": null,
      "overflow": null,
      "overflow_x": null,
      "overflow_y": null,
      "padding": null,
      "right": null,
      "top": null,
      "visibility": "hidden",
      "width": null
     }
    },
    "cedf37fbc7b94103a3d7c5a59064bdb3": {
     "model_module": "@jupyter-widgets/base",
     "model_module_version": "1.2.0",
     "model_name": "LayoutModel",
     "state": {
      "_model_module": "@jupyter-widgets/base",
      "_model_module_version": "1.2.0",
      "_model_name": "LayoutModel",
      "_view_count": null,
      "_view_module": "@jupyter-widgets/base",
      "_view_module_version": "1.2.0",
      "_view_name": "LayoutView",
      "align_content": null,
      "align_items": null,
      "align_self": null,
      "border": null,
      "bottom": null,
      "display": null,
      "flex": null,
      "flex_flow": null,
      "grid_area": null,
      "grid_auto_columns": null,
      "grid_auto_flow": null,
      "grid_auto_rows": null,
      "grid_column": null,
      "grid_gap": null,
      "grid_row": null,
      "grid_template_areas": null,
      "grid_template_columns": null,
      "grid_template_rows": null,
      "height": null,
      "justify_content": null,
      "justify_items": null,
      "left": null,
      "margin": null,
      "max_height": null,
      "max_width": null,
      "min_height": null,
      "min_width": null,
      "object_fit": null,
      "object_position": null,
      "order": null,
      "overflow": null,
      "overflow_x": null,
      "overflow_y": null,
      "padding": null,
      "right": null,
      "top": null,
      "visibility": null,
      "width": null
     }
    },
    "d13a1c872ac14caeb460bc8d7c3d3f20": {
     "model_module": "@jupyter-widgets/controls",
     "model_module_version": "1.5.0",
     "model_name": "DescriptionStyleModel",
     "state": {
      "_model_module": "@jupyter-widgets/controls",
      "_model_module_version": "1.5.0",
      "_model_name": "DescriptionStyleModel",
      "_view_count": null,
      "_view_module": "@jupyter-widgets/base",
      "_view_module_version": "1.2.0",
      "_view_name": "StyleView",
      "description_width": ""
     }
    },
    "d20ee2ccaa334c428b957b27759ff052": {
     "model_module": "@jupyter-widgets/controls",
     "model_module_version": "1.5.0",
     "model_name": "FloatProgressModel",
     "state": {
      "_dom_classes": [],
      "_model_module": "@jupyter-widgets/controls",
      "_model_module_version": "1.5.0",
      "_model_name": "FloatProgressModel",
      "_view_count": null,
      "_view_module": "@jupyter-widgets/controls",
      "_view_module_version": "1.5.0",
      "_view_name": "ProgressView",
      "bar_style": "",
      "description": "",
      "description_tooltip": null,
      "layout": "IPY_MODEL_c30304adfb9449f99eac497285255800",
      "max": 3847,
      "min": 0,
      "orientation": "horizontal",
      "style": "IPY_MODEL_bb34cd5a19b3459ba0190799f1072e9e",
      "value": 3847
     }
    },
    "d36f2928bdcf45e4986f7abfa0010d37": {
     "model_module": "@jupyter-widgets/controls",
     "model_module_version": "1.5.0",
     "model_name": "DescriptionStyleModel",
     "state": {
      "_model_module": "@jupyter-widgets/controls",
      "_model_module_version": "1.5.0",
      "_model_name": "DescriptionStyleModel",
      "_view_count": null,
      "_view_module": "@jupyter-widgets/base",
      "_view_module_version": "1.2.0",
      "_view_name": "StyleView",
      "description_width": ""
     }
    },
    "d3b00a0cf7804b16a6a8a5f59f190757": {
     "model_module": "@jupyter-widgets/base",
     "model_module_version": "1.2.0",
     "model_name": "LayoutModel",
     "state": {
      "_model_module": "@jupyter-widgets/base",
      "_model_module_version": "1.2.0",
      "_model_name": "LayoutModel",
      "_view_count": null,
      "_view_module": "@jupyter-widgets/base",
      "_view_module_version": "1.2.0",
      "_view_name": "LayoutView",
      "align_content": null,
      "align_items": null,
      "align_self": null,
      "border": null,
      "bottom": null,
      "display": null,
      "flex": null,
      "flex_flow": null,
      "grid_area": null,
      "grid_auto_columns": null,
      "grid_auto_flow": null,
      "grid_auto_rows": null,
      "grid_column": null,
      "grid_gap": null,
      "grid_row": null,
      "grid_template_areas": null,
      "grid_template_columns": null,
      "grid_template_rows": null,
      "height": null,
      "justify_content": null,
      "justify_items": null,
      "left": null,
      "margin": null,
      "max_height": null,
      "max_width": null,
      "min_height": null,
      "min_width": null,
      "object_fit": null,
      "object_position": null,
      "order": null,
      "overflow": null,
      "overflow_x": null,
      "overflow_y": null,
      "padding": null,
      "right": null,
      "top": null,
      "visibility": null,
      "width": null
     }
    },
    "d8ee692a960645ef81125756764b0e8d": {
     "model_module": "@jupyter-widgets/controls",
     "model_module_version": "1.5.0",
     "model_name": "DescriptionStyleModel",
     "state": {
      "_model_module": "@jupyter-widgets/controls",
      "_model_module_version": "1.5.0",
      "_model_name": "DescriptionStyleModel",
      "_view_count": null,
      "_view_module": "@jupyter-widgets/base",
      "_view_module_version": "1.2.0",
      "_view_name": "StyleView",
      "description_width": ""
     }
    },
    "da0b3b3f3f8146fba71069db009ee507": {
     "model_module": "@jupyter-widgets/controls",
     "model_module_version": "1.5.0",
     "model_name": "HTMLModel",
     "state": {
      "_dom_classes": [],
      "_model_module": "@jupyter-widgets/controls",
      "_model_module_version": "1.5.0",
      "_model_name": "HTMLModel",
      "_view_count": null,
      "_view_module": "@jupyter-widgets/controls",
      "_view_module_version": "1.5.0",
      "_view_name": "HTMLView",
      "description": "",
      "description_tooltip": null,
      "layout": "IPY_MODEL_b9d42b9a45464a25927f3c580618e7e0",
      "placeholder": "​",
      "style": "IPY_MODEL_d8ee692a960645ef81125756764b0e8d",
      "value": "Downloading (…)/main/tokenizer.json: 100%"
     }
    },
    "da6b16a346a045c7864a8f8808072228": {
     "model_module": "@jupyter-widgets/base",
     "model_module_version": "1.2.0",
     "model_name": "LayoutModel",
     "state": {
      "_model_module": "@jupyter-widgets/base",
      "_model_module_version": "1.2.0",
      "_model_name": "LayoutModel",
      "_view_count": null,
      "_view_module": "@jupyter-widgets/base",
      "_view_module_version": "1.2.0",
      "_view_name": "LayoutView",
      "align_content": null,
      "align_items": null,
      "align_self": null,
      "border": null,
      "bottom": null,
      "display": null,
      "flex": null,
      "flex_flow": null,
      "grid_area": null,
      "grid_auto_columns": null,
      "grid_auto_flow": null,
      "grid_auto_rows": null,
      "grid_column": null,
      "grid_gap": null,
      "grid_row": null,
      "grid_template_areas": null,
      "grid_template_columns": null,
      "grid_template_rows": null,
      "height": null,
      "justify_content": null,
      "justify_items": null,
      "left": null,
      "margin": null,
      "max_height": null,
      "max_width": null,
      "min_height": null,
      "min_width": null,
      "object_fit": null,
      "object_position": null,
      "order": null,
      "overflow": null,
      "overflow_x": null,
      "overflow_y": null,
      "padding": null,
      "right": null,
      "top": null,
      "visibility": null,
      "width": null
     }
    },
    "db6c33f81a00472797e7e0f87633b52a": {
     "model_module": "@jupyter-widgets/base",
     "model_module_version": "1.2.0",
     "model_name": "LayoutModel",
     "state": {
      "_model_module": "@jupyter-widgets/base",
      "_model_module_version": "1.2.0",
      "_model_name": "LayoutModel",
      "_view_count": null,
      "_view_module": "@jupyter-widgets/base",
      "_view_module_version": "1.2.0",
      "_view_name": "LayoutView",
      "align_content": null,
      "align_items": null,
      "align_self": null,
      "border": null,
      "bottom": null,
      "display": null,
      "flex": null,
      "flex_flow": null,
      "grid_area": null,
      "grid_auto_columns": null,
      "grid_auto_flow": null,
      "grid_auto_rows": null,
      "grid_column": null,
      "grid_gap": null,
      "grid_row": null,
      "grid_template_areas": null,
      "grid_template_columns": null,
      "grid_template_rows": null,
      "height": null,
      "justify_content": null,
      "justify_items": null,
      "left": null,
      "margin": null,
      "max_height": null,
      "max_width": null,
      "min_height": null,
      "min_width": null,
      "object_fit": null,
      "object_position": null,
      "order": null,
      "overflow": null,
      "overflow_x": null,
      "overflow_y": null,
      "padding": null,
      "right": null,
      "top": null,
      "visibility": null,
      "width": null
     }
    },
    "db88c9d25b6742018653fdb565b8be3a": {
     "model_module": "@jupyter-widgets/controls",
     "model_module_version": "1.5.0",
     "model_name": "HBoxModel",
     "state": {
      "_dom_classes": [],
      "_model_module": "@jupyter-widgets/controls",
      "_model_module_version": "1.5.0",
      "_model_name": "HBoxModel",
      "_view_count": null,
      "_view_module": "@jupyter-widgets/controls",
      "_view_module_version": "1.5.0",
      "_view_name": "HBoxView",
      "box_style": "",
      "children": [
       "IPY_MODEL_da0b3b3f3f8146fba71069db009ee507",
       "IPY_MODEL_cd4a64bb86744803be06a16037882050",
       "IPY_MODEL_db8c5d6a4c0f4f0fad7917a798d6362c"
      ],
      "layout": "IPY_MODEL_c367549a5ac349a1b90f1405d6191bd6"
     }
    },
    "db8c5d6a4c0f4f0fad7917a798d6362c": {
     "model_module": "@jupyter-widgets/controls",
     "model_module_version": "1.5.0",
     "model_name": "HTMLModel",
     "state": {
      "_dom_classes": [],
      "_model_module": "@jupyter-widgets/controls",
      "_model_module_version": "1.5.0",
      "_model_name": "HTMLModel",
      "_view_count": null,
      "_view_module": "@jupyter-widgets/controls",
      "_view_module_version": "1.5.0",
      "_view_name": "HTMLView",
      "description": "",
      "description_tooltip": null,
      "layout": "IPY_MODEL_fba5556b832e4afea9fbc46d430ab2b6",
      "placeholder": "​",
      "style": "IPY_MODEL_9bca75f574ba4ceab438a252f55ae5ed",
      "value": " 1.74M/1.74M [00:00&lt;00:00, 4.30MB/s]"
     }
    },
    "dbc6ab3be34a4168bd6a93ce4e9e2f25": {
     "model_module": "@jupyter-widgets/controls",
     "model_module_version": "1.5.0",
     "model_name": "DescriptionStyleModel",
     "state": {
      "_model_module": "@jupyter-widgets/controls",
      "_model_module_version": "1.5.0",
      "_model_name": "DescriptionStyleModel",
      "_view_count": null,
      "_view_module": "@jupyter-widgets/base",
      "_view_module_version": "1.2.0",
      "_view_name": "StyleView",
      "description_width": ""
     }
    },
    "dcfe20eefac74202be503d7ed3b00adb": {
     "model_module": "@jupyter-widgets/controls",
     "model_module_version": "1.5.0",
     "model_name": "HTMLModel",
     "state": {
      "_dom_classes": [],
      "_model_module": "@jupyter-widgets/controls",
      "_model_module_version": "1.5.0",
      "_model_name": "HTMLModel",
      "_view_count": null,
      "_view_module": "@jupyter-widgets/controls",
      "_view_module_version": "1.5.0",
      "_view_name": "HTMLView",
      "description": "",
      "description_tooltip": null,
      "layout": "IPY_MODEL_79c58d0995954933b466adc93354e0c0",
      "placeholder": "​",
      "style": "IPY_MODEL_a26e79b1f83a40799078831757d66a26",
      "value": "Downloading model.safetensors: 100%"
     }
    },
    "dd9d6fb308e64be7b20824e1a60d400f": {
     "model_module": "@jupyter-widgets/base",
     "model_module_version": "1.2.0",
     "model_name": "LayoutModel",
     "state": {
      "_model_module": "@jupyter-widgets/base",
      "_model_module_version": "1.2.0",
      "_model_name": "LayoutModel",
      "_view_count": null,
      "_view_module": "@jupyter-widgets/base",
      "_view_module_version": "1.2.0",
      "_view_name": "LayoutView",
      "align_content": null,
      "align_items": null,
      "align_self": null,
      "border": null,
      "bottom": null,
      "display": null,
      "flex": null,
      "flex_flow": null,
      "grid_area": null,
      "grid_auto_columns": null,
      "grid_auto_flow": null,
      "grid_auto_rows": null,
      "grid_column": null,
      "grid_gap": null,
      "grid_row": null,
      "grid_template_areas": null,
      "grid_template_columns": null,
      "grid_template_rows": null,
      "height": null,
      "justify_content": null,
      "justify_items": null,
      "left": null,
      "margin": null,
      "max_height": null,
      "max_width": null,
      "min_height": null,
      "min_width": null,
      "object_fit": null,
      "object_position": null,
      "order": null,
      "overflow": null,
      "overflow_x": null,
      "overflow_y": null,
      "padding": null,
      "right": null,
      "top": null,
      "visibility": null,
      "width": null
     }
    },
    "e61f6384c20c4c78ad952ac59e6d9d08": {
     "model_module": "@jupyter-widgets/controls",
     "model_module_version": "1.5.0",
     "model_name": "HBoxModel",
     "state": {
      "_dom_classes": [],
      "_model_module": "@jupyter-widgets/controls",
      "_model_module_version": "1.5.0",
      "_model_name": "HBoxModel",
      "_view_count": null,
      "_view_module": "@jupyter-widgets/controls",
      "_view_module_version": "1.5.0",
      "_view_name": "HBoxView",
      "box_style": "",
      "children": [
       "IPY_MODEL_6e27d317698d4795b3ad2bd9dd6dfcdf",
       "IPY_MODEL_5491a799e3c042828c54f4c297ff552b",
       "IPY_MODEL_bf86aa7176774a8d86559b04da826e9e"
      ],
      "layout": "IPY_MODEL_1046e56154b14e11b96beaf0484298d9"
     }
    },
    "e65b023af7804f80ab2f6c972ec7a6b2": {
     "model_module": "@jupyter-widgets/base",
     "model_module_version": "1.2.0",
     "model_name": "LayoutModel",
     "state": {
      "_model_module": "@jupyter-widgets/base",
      "_model_module_version": "1.2.0",
      "_model_name": "LayoutModel",
      "_view_count": null,
      "_view_module": "@jupyter-widgets/base",
      "_view_module_version": "1.2.0",
      "_view_name": "LayoutView",
      "align_content": null,
      "align_items": null,
      "align_self": null,
      "border": null,
      "bottom": null,
      "display": null,
      "flex": null,
      "flex_flow": null,
      "grid_area": null,
      "grid_auto_columns": null,
      "grid_auto_flow": null,
      "grid_auto_rows": null,
      "grid_column": null,
      "grid_gap": null,
      "grid_row": null,
      "grid_template_areas": null,
      "grid_template_columns": null,
      "grid_template_rows": null,
      "height": null,
      "justify_content": null,
      "justify_items": null,
      "left": null,
      "margin": null,
      "max_height": null,
      "max_width": null,
      "min_height": null,
      "min_width": null,
      "object_fit": null,
      "object_position": null,
      "order": null,
      "overflow": null,
      "overflow_x": null,
      "overflow_y": null,
      "padding": null,
      "right": null,
      "top": null,
      "visibility": null,
      "width": null
     }
    },
    "e6867c47700d4a41b0238eea60a13f35": {
     "model_module": "@jupyter-widgets/controls",
     "model_module_version": "1.5.0",
     "model_name": "HBoxModel",
     "state": {
      "_dom_classes": [],
      "_model_module": "@jupyter-widgets/controls",
      "_model_module_version": "1.5.0",
      "_model_name": "HBoxModel",
      "_view_count": null,
      "_view_module": "@jupyter-widgets/controls",
      "_view_module_version": "1.5.0",
      "_view_name": "HBoxView",
      "box_style": "",
      "children": [
       "IPY_MODEL_a5bdeb88c6b3423786799ac43d32b48b",
       "IPY_MODEL_caca9680b4644863927f7d40f729b7fd",
       "IPY_MODEL_0311bff1d4ac4b59b6b675eb5b3221e7"
      ],
      "layout": "IPY_MODEL_d3b00a0cf7804b16a6a8a5f59f190757"
     }
    },
    "e81a09eb55634a0880bb0bf536d5dc32": {
     "model_module": "@jupyter-widgets/controls",
     "model_module_version": "1.5.0",
     "model_name": "HBoxModel",
     "state": {
      "_dom_classes": [],
      "_model_module": "@jupyter-widgets/controls",
      "_model_module_version": "1.5.0",
      "_model_name": "HBoxModel",
      "_view_count": null,
      "_view_module": "@jupyter-widgets/controls",
      "_view_module_version": "1.5.0",
      "_view_name": "HBoxView",
      "box_style": "",
      "children": [
       "IPY_MODEL_21d3f2a82d8f458cb824e9fbbe9def3d",
       "IPY_MODEL_2f00be623bb74e1caba2e7b5c8dece82",
       "IPY_MODEL_03f30bf8df1949a88c96a4cc80e8f1a8"
      ],
      "layout": "IPY_MODEL_faad65ea38cc4a66835ec2253f783afe"
     }
    },
    "eb9a00fb3d6b423e829c8b9a909d16ee": {
     "model_module": "@jupyter-widgets/base",
     "model_module_version": "1.2.0",
     "model_name": "LayoutModel",
     "state": {
      "_model_module": "@jupyter-widgets/base",
      "_model_module_version": "1.2.0",
      "_model_name": "LayoutModel",
      "_view_count": null,
      "_view_module": "@jupyter-widgets/base",
      "_view_module_version": "1.2.0",
      "_view_name": "LayoutView",
      "align_content": null,
      "align_items": null,
      "align_self": null,
      "border": null,
      "bottom": null,
      "display": null,
      "flex": null,
      "flex_flow": null,
      "grid_area": null,
      "grid_auto_columns": null,
      "grid_auto_flow": null,
      "grid_auto_rows": null,
      "grid_column": null,
      "grid_gap": null,
      "grid_row": null,
      "grid_template_areas": null,
      "grid_template_columns": null,
      "grid_template_rows": null,
      "height": null,
      "justify_content": null,
      "justify_items": null,
      "left": null,
      "margin": null,
      "max_height": null,
      "max_width": null,
      "min_height": null,
      "min_width": null,
      "object_fit": null,
      "object_position": null,
      "order": null,
      "overflow": null,
      "overflow_x": null,
      "overflow_y": null,
      "padding": null,
      "right": null,
      "top": null,
      "visibility": null,
      "width": null
     }
    },
    "f349d863fefa443fa06c6c75e58d97d9": {
     "model_module": "@jupyter-widgets/controls",
     "model_module_version": "1.5.0",
     "model_name": "HTMLModel",
     "state": {
      "_dom_classes": [],
      "_model_module": "@jupyter-widgets/controls",
      "_model_module_version": "1.5.0",
      "_model_name": "HTMLModel",
      "_view_count": null,
      "_view_module": "@jupyter-widgets/controls",
      "_view_module_version": "1.5.0",
      "_view_name": "HTMLView",
      "description": "",
      "description_tooltip": null,
      "layout": "IPY_MODEL_c9f4395dac1d47d98086bb54a56bd02f",
      "placeholder": "​",
      "style": "IPY_MODEL_7acbd544151f4747bd19938440eb85d1",
      "value": " 962/962 [00:00&lt;00:00, 4429.91 examples/s]"
     }
    },
    "faad65ea38cc4a66835ec2253f783afe": {
     "model_module": "@jupyter-widgets/base",
     "model_module_version": "1.2.0",
     "model_name": "LayoutModel",
     "state": {
      "_model_module": "@jupyter-widgets/base",
      "_model_module_version": "1.2.0",
      "_model_name": "LayoutModel",
      "_view_count": null,
      "_view_module": "@jupyter-widgets/base",
      "_view_module_version": "1.2.0",
      "_view_name": "LayoutView",
      "align_content": null,
      "align_items": null,
      "align_self": null,
      "border": null,
      "bottom": null,
      "display": null,
      "flex": null,
      "flex_flow": null,
      "grid_area": null,
      "grid_auto_columns": null,
      "grid_auto_flow": null,
      "grid_auto_rows": null,
      "grid_column": null,
      "grid_gap": null,
      "grid_row": null,
      "grid_template_areas": null,
      "grid_template_columns": null,
      "grid_template_rows": null,
      "height": null,
      "justify_content": null,
      "justify_items": null,
      "left": null,
      "margin": null,
      "max_height": null,
      "max_width": null,
      "min_height": null,
      "min_width": null,
      "object_fit": null,
      "object_position": null,
      "order": null,
      "overflow": null,
      "overflow_x": null,
      "overflow_y": null,
      "padding": null,
      "right": null,
      "top": null,
      "visibility": null,
      "width": null
     }
    },
    "fba5556b832e4afea9fbc46d430ab2b6": {
     "model_module": "@jupyter-widgets/base",
     "model_module_version": "1.2.0",
     "model_name": "LayoutModel",
     "state": {
      "_model_module": "@jupyter-widgets/base",
      "_model_module_version": "1.2.0",
      "_model_name": "LayoutModel",
      "_view_count": null,
      "_view_module": "@jupyter-widgets/base",
      "_view_module_version": "1.2.0",
      "_view_name": "LayoutView",
      "align_content": null,
      "align_items": null,
      "align_self": null,
      "border": null,
      "bottom": null,
      "display": null,
      "flex": null,
      "flex_flow": null,
      "grid_area": null,
      "grid_auto_columns": null,
      "grid_auto_flow": null,
      "grid_auto_rows": null,
      "grid_column": null,
      "grid_gap": null,
      "grid_row": null,
      "grid_template_areas": null,
      "grid_template_columns": null,
      "grid_template_rows": null,
      "height": null,
      "justify_content": null,
      "justify_items": null,
      "left": null,
      "margin": null,
      "max_height": null,
      "max_width": null,
      "min_height": null,
      "min_width": null,
      "object_fit": null,
      "object_position": null,
      "order": null,
      "overflow": null,
      "overflow_x": null,
      "overflow_y": null,
      "padding": null,
      "right": null,
      "top": null,
      "visibility": null,
      "width": null
     }
    }
   }
  }
 },
 "nbformat": 4,
 "nbformat_minor": 4
}
